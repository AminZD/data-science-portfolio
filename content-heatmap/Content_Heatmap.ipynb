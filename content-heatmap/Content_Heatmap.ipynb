{
 "cells": [
  {
   "cell_type": "code",
   "execution_count": 1,
   "metadata": {},
   "outputs": [
    {
     "data": {
      "text/html": [
       "<script type=\"text/javascript\">window.PlotlyConfig = {MathJaxConfig: 'local'};</script><script type=\"text/javascript\">if (window.MathJax) {MathJax.Hub.Config({SVG: {font: \"STIX-Web\"}});}</script><script>requirejs.config({paths: { 'plotly': ['https://cdn.plot.ly/plotly-latest.min']},});if(!window._Plotly) {require(['plotly'],function(plotly) {window._Plotly=plotly;});}</script>"
      ],
      "text/vnd.plotly.v1+html": [
       "<script type=\"text/javascript\">window.PlotlyConfig = {MathJaxConfig: 'local'};</script><script type=\"text/javascript\">if (window.MathJax) {MathJax.Hub.Config({SVG: {font: \"STIX-Web\"}});}</script><script>requirejs.config({paths: { 'plotly': ['https://cdn.plot.ly/plotly-latest.min']},});if(!window._Plotly) {require(['plotly'],function(plotly) {window._Plotly=plotly;});}</script>"
      ]
     },
     "metadata": {},
     "output_type": "display_data"
    }
   ],
   "source": [
    "# importing necessary libraries\n",
    "\n",
    "import numpy as np\n",
    "import pandas as pd\n",
    "import matplotlib.pyplot as plt\n",
    "import seaborn as sns\n",
    "import plotly.graph_objs as go\n",
    "import plotly.figure_factory as ff\n",
    "import plotly.tools as tls\n",
    "import plotly.io as pio\n",
    "import os\n",
    "\n",
    "from matplotlib.colors import ListedColormap\n",
    "from plotly.offline import init_notebook_mode, iplot, plot\n",
    "from IPython.display import Image, display\n",
    "\n",
    "\n",
    "# settings\n",
    "np.set_printoptions(threshold=np.nan)\n",
    "pd.set_option('display.max_columns', None)\n",
    "plt.tight_layout()\n",
    "sns.set_style(\"whitegrid\")\n",
    "init_notebook_mode(connected=True)\n",
    "\n",
    "%matplotlib inline\n",
    "%config InlineBackend.figure_format = 'retina'\n",
    "\n",
    "\n",
    "# creating a directory for images\n",
    "if not os.path.exists('images'):\n",
    "    os.mkdir('images')\n",
    "\n",
    "color='#298DE1' # Highspot color\n",
    "scale=2 # scale for saving images"
   ]
  },
  {
   "cell_type": "code",
   "execution_count": 13,
   "metadata": {},
   "outputs": [],
   "source": [
    "# read the data\n",
    "\n",
    "engage_stat_raw = pd.read_csv('./Content Engagement by Contact Status.csv',\n",
    "                              skipinitialspace=True)  # raw data\n",
    "\n",
    "engage_stat = engage_stat_raw[['ContactStatus', 'Item',\n",
    "                               'Spot', 'Pitches', 'Views']]  # select main columns\n",
    "\n",
    "engage_stat['V2P_Ratio'] = engage_stat['Views']/engage_stat['Pitches']"
   ]
  },
  {
   "cell_type": "code",
   "execution_count": 32,
   "metadata": {
    "scrolled": true
   },
   "outputs": [
    {
     "data": {
      "text/plain": [
       "chararray([['Highspot Product Overview (6p)',\n",
       "            'Content List with Hero Banner',\n",
       "            'Webinar: Building Your Content Mapping Plan',\n",
       "            'SiriusDecisions: The Sales Enablement Range of Responsibilities Model',\n",
       "            'Highspot Product Overview (6p)',\n",
       "            'Content List with Hero Banner',\n",
       "            'Highspot Product Overview (6p)',\n",
       "            'Content List with Hero Banner',\n",
       "            'Highspot Information Security'],\n",
       "           ['Seattle Skyline Pitch Experience',\n",
       "            'Highspot Product Overview (6p)',\n",
       "            'Best Practices for Sales Playbooks Report',\n",
       "            'Highspot Product Overview (6p)',\n",
       "            'Content List with Hero Banner',\n",
       "            'Highspot Product Overview (6p)',\n",
       "            'Content List with Hero Banner', '#Love Pitch Experience',\n",
       "            'Content List with Hero Banner'],\n",
       "           ['Content List with Hero Banner',\n",
       "            'Highspot Product Overview (6p)',\n",
       "            'Sales Enablement Solution Requirements Guide',\n",
       "            'Highspot Example HomePage',\n",
       "            'SiriusDecisions: Sales Enablement Planning Assumptions 2019',\n",
       "            'Sales Enablement Maturity Model',\n",
       "            'SiriusDecisions: The Sales Enablement Range of Responsibilities Model',\n",
       "            'Highspot Product Overview (6p)',\n",
       "            'Seattle Skyline Pitch Experience'],\n",
       "           ['Highspot Business Case', 'Highspot Business Case',\n",
       "            'SiriusDecisions: Sales Enablement Planning Assumptions 2019',\n",
       "            'Content List with Hero Banner',\n",
       "            'Webinar: Building Your Content Mapping Plan',\n",
       "            'Webinar: Building Your Content Mapping Plan',\n",
       "            'Sales Playbooks Whitepaper',\n",
       "            'Seattle Skyline Pitch Experience',\n",
       "            'Highspot Customer Event - Seattle - October 4, 2018'],\n",
       "           ['Sales Enablement Soiree 2018 - Registration',\n",
       "            'SiriusDecisions: Sales Enablement Planning Assumptions 2019',\n",
       "            'Highspot Product Overview (6p)', '#Love Pitch Experience',\n",
       "            'Sales Enablement Soiree 2018 - Registration',\n",
       "            'Highspot Business Case',\n",
       "            'Highspot Partner & Channel Enablement',\n",
       "            'Launch: Quickstart Guide', '#Love Pitch Experience'],\n",
       "           ['Best Practices for Sales Playbooks Report',\n",
       "            'SiriusDecisions: The Sales Enablement Range of Responsibilities Model',\n",
       "            'SiriusDecisions: The Sales Enablement Range of Responsibilities Model',\n",
       "            'Seattle Skyline Pitch Experience',\n",
       "            'Best Practices for Sales Playbooks Report',\n",
       "            'Sales Enablement Solution Requirements Guide',\n",
       "            'Overview: Highspot in Action (Video)',\n",
       "            'Whitepaper: The Evolution of Sales Readiness',\n",
       "            '8 Tips for Highspot (editable)'],\n",
       "           [\"Sales Enablement Soiree 2018 - Napoleon's VIP\",\n",
       "            'Mutual NDA - Highspot General (8.18)',\n",
       "            'Content List with Hero Banner',\n",
       "            'Soirée Follow Up Experience',\n",
       "            'Gartner: Market Guide for Digital Content Management for Sales 2018',\n",
       "            'Highspot Salesforce & CMS Integrations Brochure',\n",
       "            'Reps Love Highspot',\n",
       "            'Salesforce Connector Installation Guide',\n",
       "            'Highspot Salesforce & CMS Integrations Brochure'],\n",
       "           ['Highspot Onboarding Guidebook',\n",
       "            'Sales Enablement Maturity Model', '#Love Pitch Experience',\n",
       "            'Webinar: Building Your Content Mapping Plan',\n",
       "            'Highspot vs Seismic Comparison (Winter 2018)',\n",
       "            'Sales Enablement for Financial Services',\n",
       "            \"Sales Enablement Soiree 2018 - Ralph's VIP\",\n",
       "            'Customer Overview Deck', 'Highspot Onboarding Guidebook'],\n",
       "           ['Calculating the True Cost of Content',\n",
       "            \"Why We're Thankful for Our Customers\",\n",
       "            'Highspot vs Seismic Comparison (Winter 2018)',\n",
       "            'Highspot Content/Spot Directory - Palantir Technologies',\n",
       "            'Content Management Whitepaper: Put an End to Content Chaos',\n",
       "            'Sales Quota Impact Study', 'Why Highspot',\n",
       "            'Survey: Your State of Sales Enablement',\n",
       "            'Worksheet: Building Your Sales Enablement Project Plan'],\n",
       "           ['Highspot Partner & Channel Enablement',\n",
       "            'Overview: Highspot in Action (Video)',\n",
       "            'Ey Reinventing Sales To Stay Relevant To B2b Buyers',\n",
       "            'Highspot Browse and Filter for Content - Palantir Technologies',\n",
       "            'Overview: Highspot in Action (Video)',\n",
       "            'Highspot Content Management', 'Customer Overview Deck',\n",
       "            'Webinar: Building Your Content Mapping Plan',\n",
       "            'Veracode Security Report - Oct 2018']], dtype='<U100')"
      ]
     },
     "execution_count": 32,
     "metadata": {},
     "output_type": "execute_result"
    }
   ],
   "source": [
    "engage_stat['ContactStatus'].unique()\n",
    "\n",
    "statuses = ['Suspect', 'Prospect', 'MQL', 'SAL',\n",
    "            'TAL', 'SEL', 'TEL',  'SQL', 'Opp Contact']\n",
    "\n",
    "top_viewed_names = np.chararray(\n",
    "    (10, len(statuses)), itemsize=100, unicode=True)\n",
    "top_viewed_pitches = np.empty([10, len(statuses)])\n",
    "top_viewed_views = np.empty([10, len(statuses)])\n",
    "top_viewed_v2p = np.empty([10, len(statuses)])\n",
    "\n",
    "\n",
    "for status in statuses:\n",
    "    i = statuses.index(status)\n",
    "    top_viewed = engage_stat[engage_stat['ContactStatus'] == status].sort_values(\n",
    "        by='Views', ascending=False)[:10]\n",
    "    top_viewed_names[:, i] = top_viewed['Item'].values\n",
    "    top_viewed_pitches[:, i] = top_viewed['Pitches'].values\n",
    "    top_viewed_views[:, i] = top_viewed['Views'].values\n",
    "    top_viewed_v2p[:, i] = top_viewed['V2P_Ratio'].values"
   ]
  },
  {
   "cell_type": "code",
   "execution_count": 50,
   "metadata": {
    "scrolled": false
   },
   "outputs": [
    {
     "data": {
      "application/vnd.plotly.v1+json": {
       "config": {
        "linkText": "Export to plot.ly",
        "plotlyServerURL": "https://plot.ly",
        "showLink": false
       },
       "data": [
        {
         "colorscale": "RdBu",
         "hoverinfo": "text",
         "reversescale": false,
         "showscale": false,
         "text": [
          [
           "Pitches: 93.0<br>Views: 11.0",
           "Pitches: 11.0<br>Views: 3.0",
           "Pitches: 1.0<br>Views: 2.0",
           "Pitches: 1.0<br>Views: 10.0",
           "Pitches: 674.0<br>Views: 25.0",
           "Pitches: 2.0<br>Views: 2.0",
           "Pitches: 5.0<br>Views: 5.0",
           "Pitches: 12.0<br>Views: 6.0",
           "Pitches: 5.0<br>Views: 11.0"
          ],
          [
           "Pitches: 133.0<br>Views: 11.0",
           "Pitches: 1.0<br>Views: 3.0",
           "Pitches: 1.0<br>Views: 2.0",
           "Pitches: 1.0<br>Views: 10.0",
           "Pitches: 292.0<br>Views: 26.0",
           "Pitches: 2.0<br>Views: 3.0",
           "Pitches: 13.0<br>Views: 5.0",
           "Pitches: 1.0<br>Views: 8.0",
           "Pitches: 1.0<br>Views: 12.0"
          ],
          [
           "Pitches: 1.0<br>Views: 13.0",
           "Pitches: 3.0<br>Views: 4.0",
           "Pitches: nan<br>Views: 2.0",
           "Pitches: 70.0<br>Views: 11.0",
           "Pitches: 57.0<br>Views: 26.0",
           "Pitches: 2.0<br>Views: 3.0",
           "Pitches: 25.0<br>Views: 5.0",
           "Pitches: 7.0<br>Views: 8.0",
           "Pitches: 4.0<br>Views: 13.0"
          ],
          [
           "Pitches: 254.0<br>Views: 14.0",
           "Pitches: 1.0<br>Views: 4.0",
           "Pitches: nan<br>Views: 3.0",
           "Pitches: nan<br>Views: 14.0",
           "Pitches: 46.0<br>Views: 27.0",
           "Pitches: 12.0<br>Views: 3.0",
           "Pitches: 21.0<br>Views: 6.0",
           "Pitches: 2.0<br>Views: 8.0",
           "Pitches: 4.0<br>Views: 13.0"
          ],
          [
           "Pitches: 123.0<br>Views: 15.0",
           "Pitches: 1.0<br>Views: 4.0",
           "Pitches: nan<br>Views: 3.0",
           "Pitches: nan<br>Views: 17.0",
           "Pitches: 363.0<br>Views: 32.0",
           "Pitches: 1.0<br>Views: 4.0",
           "Pitches: 65.0<br>Views: 6.0",
           "Pitches: 1.0<br>Views: 8.0",
           "Pitches: 1.0<br>Views: 17.0"
          ],
          [
           "Pitches: 727.0<br>Views: 15.0",
           "Pitches: 12.0<br>Views: 6.0",
           "Pitches: 22.0<br>Views: 4.0",
           "Pitches: nan<br>Views: 17.0",
           "Pitches: 584.0<br>Views: 34.0",
           "Pitches: 9.0<br>Views: 4.0",
           "Pitches: 9.0<br>Views: 7.0",
           "Pitches: 2.0<br>Views: 10.0",
           "Pitches: nan<br>Views: 17.0"
          ],
          [
           "Pitches: 169.0<br>Views: 19.0",
           "Pitches: 12.0<br>Views: 6.0",
           "Pitches: 7.0<br>Views: 5.0",
           "Pitches: nan<br>Views: 19.0",
           "Pitches: 358.0<br>Views: 43.0",
           "Pitches: 6.0<br>Views: 5.0",
           "Pitches: 23.0<br>Views: 7.0",
           "Pitches: nan<br>Views: 17.0",
           "Pitches: 2.0<br>Views: 25.0"
          ],
          [
           "Pitches: nan<br>Views: 56.0",
           "Pitches: 3.0<br>Views: 8.0",
           "Pitches: 1.0<br>Views: 5.0",
           "Pitches: nan<br>Views: 26.0",
           "Pitches: 387.0<br>Views: 56.0",
           "Pitches: 3.0<br>Views: 8.0",
           "Pitches: nan<br>Views: 12.0",
           "Pitches: 118.0<br>Views: 28.0",
           "Pitches: nan<br>Views: 29.0"
          ],
          [
           "Pitches: nan<br>Views: 62.0",
           "Pitches: 73.0<br>Views: 22.0",
           "Pitches: 6.0<br>Views: 6.0",
           "Pitches: 298.0<br>Views: 28.0",
           "Pitches: nan<br>Views: 114.0",
           "Pitches: 41.0<br>Views: 12.0",
           "Pitches: nan<br>Views: 51.0",
           "Pitches: nan<br>Views: 28.0",
           "Pitches: nan<br>Views: 32.0"
          ],
          [
           "Pitches: 2050.0<br>Views: 117.0",
           "Pitches: nan<br>Views: 37.0",
           "Pitches: 4.0<br>Views: 13.0",
           "Pitches: 1.0<br>Views: 39.0",
           "Pitches: 4578.0<br>Views: 184.0",
           "Pitches: nan<br>Views: 14.0",
           "Pitches: 199.0<br>Views: 62.0",
           "Pitches: nan<br>Views: 112.0",
           "Pitches: 3.0<br>Views: 41.0"
          ]
         ],
         "type": "heatmap",
         "uid": "f17d4486-3e97-457f-b388-8199a55afe44",
         "z": [
          [
           0.11827956989247312,
           0.2727272727272727,
           2,
           10,
           0.037091988130563795,
           1,
           1,
           0.5,
           2.2
          ],
          [
           0.08270676691729323,
           3,
           2,
           10,
           0.08904109589041095,
           1.5,
           0.38461538461538464,
           8,
           12
          ],
          [
           13,
           1.3333333333333333,
           null,
           0.15714285714285714,
           0.45614035087719296,
           1.5,
           0.2,
           1.1428571428571428,
           3.25
          ],
          [
           0.05511811023622047,
           4,
           null,
           null,
           0.5869565217391305,
           0.25,
           0.2857142857142857,
           4,
           3.25
          ],
          [
           0.12195121951219512,
           4,
           null,
           null,
           0.0881542699724518,
           4,
           0.09230769230769231,
           8,
           17
          ],
          [
           0.02063273727647868,
           0.5,
           0.18181818181818182,
           null,
           0.05821917808219178,
           0.4444444444444444,
           0.7777777777777778,
           5,
           null
          ],
          [
           0.11242603550295859,
           0.5,
           0.7142857142857143,
           null,
           0.12011173184357542,
           0.8333333333333334,
           0.30434782608695654,
           null,
           12.5
          ],
          [
           null,
           2.6666666666666665,
           5,
           null,
           0.14470284237726097,
           2.6666666666666665,
           null,
           0.23728813559322035,
           null
          ],
          [
           null,
           0.3013698630136986,
           1,
           0.09395973154362416,
           null,
           0.2926829268292683,
           null,
           null,
           null
          ],
          [
           0.05707317073170732,
           null,
           3.25,
           39,
           0.04019222367846221,
           null,
           0.31155778894472363,
           null,
           13.666666666666666
          ]
         ]
        }
       ],
       "layout": {
        "annotations": [
         {
          "font": {
           "color": "black"
          },
          "showarrow": false,
          "text": "Highspot Partner & Channel Enablement",
          "x": 0,
          "xref": "x",
          "y": 0,
          "yref": "y"
         },
         {
          "font": {
           "color": "black"
          },
          "showarrow": false,
          "text": "Overview: Highspot in Action (Video)",
          "x": 1,
          "xref": "x",
          "y": 0,
          "yref": "y"
         },
         {
          "font": {
           "color": "black"
          },
          "showarrow": false,
          "text": "Ey Reinventing Sales To Stay Relevant To B2b Buyers",
          "x": 2,
          "xref": "x",
          "y": 0,
          "yref": "y"
         },
         {
          "font": {
           "color": "black"
          },
          "showarrow": false,
          "text": "Highspot Browse and Filter for Content - Palantir Technologies",
          "x": 3,
          "xref": "x",
          "y": 0,
          "yref": "y"
         },
         {
          "font": {
           "color": "black"
          },
          "showarrow": false,
          "text": "Overview: Highspot in Action (Video)",
          "x": 4,
          "xref": "x",
          "y": 0,
          "yref": "y"
         },
         {
          "font": {
           "color": "black"
          },
          "showarrow": false,
          "text": "Highspot Content Management",
          "x": 5,
          "xref": "x",
          "y": 0,
          "yref": "y"
         },
         {
          "font": {
           "color": "black"
          },
          "showarrow": false,
          "text": "Customer Overview Deck",
          "x": 6,
          "xref": "x",
          "y": 0,
          "yref": "y"
         },
         {
          "font": {
           "color": "black"
          },
          "showarrow": false,
          "text": "Webinar: Building Your Content Mapping Plan",
          "x": 7,
          "xref": "x",
          "y": 0,
          "yref": "y"
         },
         {
          "font": {
           "color": "black"
          },
          "showarrow": false,
          "text": "Veracode Security Report - Oct 2018",
          "x": 8,
          "xref": "x",
          "y": 0,
          "yref": "y"
         },
         {
          "font": {
           "color": "black"
          },
          "showarrow": false,
          "text": "Calculating the True Cost of Content",
          "x": 0,
          "xref": "x",
          "y": 1,
          "yref": "y"
         },
         {
          "font": {
           "color": "black"
          },
          "showarrow": false,
          "text": "Why We're Thankful for Our Customers",
          "x": 1,
          "xref": "x",
          "y": 1,
          "yref": "y"
         },
         {
          "font": {
           "color": "black"
          },
          "showarrow": false,
          "text": "Highspot vs Seismic Comparison (Winter 2018)",
          "x": 2,
          "xref": "x",
          "y": 1,
          "yref": "y"
         },
         {
          "font": {
           "color": "black"
          },
          "showarrow": false,
          "text": "Highspot Content/Spot Directory - Palantir Technologies",
          "x": 3,
          "xref": "x",
          "y": 1,
          "yref": "y"
         },
         {
          "font": {
           "color": "black"
          },
          "showarrow": false,
          "text": "Content Management Whitepaper: Put an End to Content Chaos",
          "x": 4,
          "xref": "x",
          "y": 1,
          "yref": "y"
         },
         {
          "font": {
           "color": "black"
          },
          "showarrow": false,
          "text": "Sales Quota Impact Study",
          "x": 5,
          "xref": "x",
          "y": 1,
          "yref": "y"
         },
         {
          "font": {
           "color": "black"
          },
          "showarrow": false,
          "text": "Why Highspot",
          "x": 6,
          "xref": "x",
          "y": 1,
          "yref": "y"
         },
         {
          "font": {
           "color": "black"
          },
          "showarrow": false,
          "text": "Survey: Your State of Sales Enablement",
          "x": 7,
          "xref": "x",
          "y": 1,
          "yref": "y"
         },
         {
          "font": {
           "color": "black"
          },
          "showarrow": false,
          "text": "Worksheet: Building Your Sales Enablement Project Plan",
          "x": 8,
          "xref": "x",
          "y": 1,
          "yref": "y"
         },
         {
          "font": {
           "color": "black"
          },
          "showarrow": false,
          "text": "Highspot Onboarding Guidebook",
          "x": 0,
          "xref": "x",
          "y": 2,
          "yref": "y"
         },
         {
          "font": {
           "color": "black"
          },
          "showarrow": false,
          "text": "Sales Enablement Maturity Model",
          "x": 1,
          "xref": "x",
          "y": 2,
          "yref": "y"
         },
         {
          "font": {
           "color": "black"
          },
          "showarrow": false,
          "text": "#Love Pitch Experience",
          "x": 2,
          "xref": "x",
          "y": 2,
          "yref": "y"
         },
         {
          "font": {
           "color": "black"
          },
          "showarrow": false,
          "text": "Webinar: Building Your Content Mapping Plan",
          "x": 3,
          "xref": "x",
          "y": 2,
          "yref": "y"
         },
         {
          "font": {
           "color": "black"
          },
          "showarrow": false,
          "text": "Highspot vs Seismic Comparison (Winter 2018)",
          "x": 4,
          "xref": "x",
          "y": 2,
          "yref": "y"
         },
         {
          "font": {
           "color": "black"
          },
          "showarrow": false,
          "text": "Sales Enablement for Financial Services",
          "x": 5,
          "xref": "x",
          "y": 2,
          "yref": "y"
         },
         {
          "font": {
           "color": "black"
          },
          "showarrow": false,
          "text": "Sales Enablement Soiree 2018 - Ralph's VIP",
          "x": 6,
          "xref": "x",
          "y": 2,
          "yref": "y"
         },
         {
          "font": {
           "color": "black"
          },
          "showarrow": false,
          "text": "Customer Overview Deck",
          "x": 7,
          "xref": "x",
          "y": 2,
          "yref": "y"
         },
         {
          "font": {
           "color": "black"
          },
          "showarrow": false,
          "text": "Highspot Onboarding Guidebook",
          "x": 8,
          "xref": "x",
          "y": 2,
          "yref": "y"
         },
         {
          "font": {
           "color": "black"
          },
          "showarrow": false,
          "text": "Sales Enablement Soiree 2018 - Napoleon's VIP",
          "x": 0,
          "xref": "x",
          "y": 3,
          "yref": "y"
         },
         {
          "font": {
           "color": "black"
          },
          "showarrow": false,
          "text": "Mutual NDA - Highspot General (8.18)",
          "x": 1,
          "xref": "x",
          "y": 3,
          "yref": "y"
         },
         {
          "font": {
           "color": "black"
          },
          "showarrow": false,
          "text": "Content List with Hero Banner",
          "x": 2,
          "xref": "x",
          "y": 3,
          "yref": "y"
         },
         {
          "font": {
           "color": "black"
          },
          "showarrow": false,
          "text": "Soirée Follow Up Experience",
          "x": 3,
          "xref": "x",
          "y": 3,
          "yref": "y"
         },
         {
          "font": {
           "color": "black"
          },
          "showarrow": false,
          "text": "Gartner: Market Guide for Digital Content Management for Sales 2018",
          "x": 4,
          "xref": "x",
          "y": 3,
          "yref": "y"
         },
         {
          "font": {
           "color": "black"
          },
          "showarrow": false,
          "text": "Highspot Salesforce & CMS Integrations Brochure",
          "x": 5,
          "xref": "x",
          "y": 3,
          "yref": "y"
         },
         {
          "font": {
           "color": "black"
          },
          "showarrow": false,
          "text": "Reps Love Highspot",
          "x": 6,
          "xref": "x",
          "y": 3,
          "yref": "y"
         },
         {
          "font": {
           "color": "black"
          },
          "showarrow": false,
          "text": "Salesforce Connector Installation Guide",
          "x": 7,
          "xref": "x",
          "y": 3,
          "yref": "y"
         },
         {
          "font": {
           "color": "black"
          },
          "showarrow": false,
          "text": "Highspot Salesforce & CMS Integrations Brochure",
          "x": 8,
          "xref": "x",
          "y": 3,
          "yref": "y"
         },
         {
          "font": {
           "color": "black"
          },
          "showarrow": false,
          "text": "Best Practices for Sales Playbooks Report",
          "x": 0,
          "xref": "x",
          "y": 4,
          "yref": "y"
         },
         {
          "font": {
           "color": "black"
          },
          "showarrow": false,
          "text": "SiriusDecisions: The Sales Enablement Range of Responsibilities Model",
          "x": 1,
          "xref": "x",
          "y": 4,
          "yref": "y"
         },
         {
          "font": {
           "color": "black"
          },
          "showarrow": false,
          "text": "SiriusDecisions: The Sales Enablement Range of Responsibilities Model",
          "x": 2,
          "xref": "x",
          "y": 4,
          "yref": "y"
         },
         {
          "font": {
           "color": "black"
          },
          "showarrow": false,
          "text": "Seattle Skyline Pitch Experience",
          "x": 3,
          "xref": "x",
          "y": 4,
          "yref": "y"
         },
         {
          "font": {
           "color": "black"
          },
          "showarrow": false,
          "text": "Best Practices for Sales Playbooks Report",
          "x": 4,
          "xref": "x",
          "y": 4,
          "yref": "y"
         },
         {
          "font": {
           "color": "black"
          },
          "showarrow": false,
          "text": "Sales Enablement Solution Requirements Guide",
          "x": 5,
          "xref": "x",
          "y": 4,
          "yref": "y"
         },
         {
          "font": {
           "color": "black"
          },
          "showarrow": false,
          "text": "Overview: Highspot in Action (Video)",
          "x": 6,
          "xref": "x",
          "y": 4,
          "yref": "y"
         },
         {
          "font": {
           "color": "black"
          },
          "showarrow": false,
          "text": "Whitepaper: The Evolution of Sales Readiness",
          "x": 7,
          "xref": "x",
          "y": 4,
          "yref": "y"
         },
         {
          "font": {
           "color": "black"
          },
          "showarrow": false,
          "text": "8 Tips for Highspot (editable)",
          "x": 8,
          "xref": "x",
          "y": 4,
          "yref": "y"
         },
         {
          "font": {
           "color": "black"
          },
          "showarrow": false,
          "text": "Sales Enablement Soiree 2018 - Registration",
          "x": 0,
          "xref": "x",
          "y": 5,
          "yref": "y"
         },
         {
          "font": {
           "color": "black"
          },
          "showarrow": false,
          "text": "SiriusDecisions: Sales Enablement Planning Assumptions 2019",
          "x": 1,
          "xref": "x",
          "y": 5,
          "yref": "y"
         },
         {
          "font": {
           "color": "black"
          },
          "showarrow": false,
          "text": "Highspot Product Overview (6p)",
          "x": 2,
          "xref": "x",
          "y": 5,
          "yref": "y"
         },
         {
          "font": {
           "color": "black"
          },
          "showarrow": false,
          "text": "#Love Pitch Experience",
          "x": 3,
          "xref": "x",
          "y": 5,
          "yref": "y"
         },
         {
          "font": {
           "color": "black"
          },
          "showarrow": false,
          "text": "Sales Enablement Soiree 2018 - Registration",
          "x": 4,
          "xref": "x",
          "y": 5,
          "yref": "y"
         },
         {
          "font": {
           "color": "black"
          },
          "showarrow": false,
          "text": "Highspot Business Case",
          "x": 5,
          "xref": "x",
          "y": 5,
          "yref": "y"
         },
         {
          "font": {
           "color": "black"
          },
          "showarrow": false,
          "text": "Highspot Partner & Channel Enablement",
          "x": 6,
          "xref": "x",
          "y": 5,
          "yref": "y"
         },
         {
          "font": {
           "color": "black"
          },
          "showarrow": false,
          "text": "Launch: Quickstart Guide",
          "x": 7,
          "xref": "x",
          "y": 5,
          "yref": "y"
         },
         {
          "font": {
           "color": "black"
          },
          "showarrow": false,
          "text": "#Love Pitch Experience",
          "x": 8,
          "xref": "x",
          "y": 5,
          "yref": "y"
         },
         {
          "font": {
           "color": "black"
          },
          "showarrow": false,
          "text": "Highspot Business Case",
          "x": 0,
          "xref": "x",
          "y": 6,
          "yref": "y"
         },
         {
          "font": {
           "color": "black"
          },
          "showarrow": false,
          "text": "Highspot Business Case",
          "x": 1,
          "xref": "x",
          "y": 6,
          "yref": "y"
         },
         {
          "font": {
           "color": "black"
          },
          "showarrow": false,
          "text": "SiriusDecisions: Sales Enablement Planning Assumptions 2019",
          "x": 2,
          "xref": "x",
          "y": 6,
          "yref": "y"
         },
         {
          "font": {
           "color": "black"
          },
          "showarrow": false,
          "text": "Content List with Hero Banner",
          "x": 3,
          "xref": "x",
          "y": 6,
          "yref": "y"
         },
         {
          "font": {
           "color": "black"
          },
          "showarrow": false,
          "text": "Webinar: Building Your Content Mapping Plan",
          "x": 4,
          "xref": "x",
          "y": 6,
          "yref": "y"
         },
         {
          "font": {
           "color": "black"
          },
          "showarrow": false,
          "text": "Webinar: Building Your Content Mapping Plan",
          "x": 5,
          "xref": "x",
          "y": 6,
          "yref": "y"
         },
         {
          "font": {
           "color": "black"
          },
          "showarrow": false,
          "text": "Sales Playbooks Whitepaper",
          "x": 6,
          "xref": "x",
          "y": 6,
          "yref": "y"
         },
         {
          "font": {
           "color": "black"
          },
          "showarrow": false,
          "text": "Seattle Skyline Pitch Experience",
          "x": 7,
          "xref": "x",
          "y": 6,
          "yref": "y"
         },
         {
          "font": {
           "color": "black"
          },
          "showarrow": false,
          "text": "Highspot Customer Event - Seattle - October 4, 2018",
          "x": 8,
          "xref": "x",
          "y": 6,
          "yref": "y"
         },
         {
          "font": {
           "color": "black"
          },
          "showarrow": false,
          "text": "Content List with Hero Banner",
          "x": 0,
          "xref": "x",
          "y": 7,
          "yref": "y"
         },
         {
          "font": {
           "color": "black"
          },
          "showarrow": false,
          "text": "Highspot Product Overview (6p)",
          "x": 1,
          "xref": "x",
          "y": 7,
          "yref": "y"
         },
         {
          "font": {
           "color": "black"
          },
          "showarrow": false,
          "text": "Sales Enablement Solution Requirements Guide",
          "x": 2,
          "xref": "x",
          "y": 7,
          "yref": "y"
         },
         {
          "font": {
           "color": "black"
          },
          "showarrow": false,
          "text": "Highspot Example HomePage",
          "x": 3,
          "xref": "x",
          "y": 7,
          "yref": "y"
         },
         {
          "font": {
           "color": "black"
          },
          "showarrow": false,
          "text": "SiriusDecisions: Sales Enablement Planning Assumptions 2019",
          "x": 4,
          "xref": "x",
          "y": 7,
          "yref": "y"
         },
         {
          "font": {
           "color": "black"
          },
          "showarrow": false,
          "text": "Sales Enablement Maturity Model",
          "x": 5,
          "xref": "x",
          "y": 7,
          "yref": "y"
         },
         {
          "font": {
           "color": "black"
          },
          "showarrow": false,
          "text": "SiriusDecisions: The Sales Enablement Range of Responsibilities Model",
          "x": 6,
          "xref": "x",
          "y": 7,
          "yref": "y"
         },
         {
          "font": {
           "color": "black"
          },
          "showarrow": false,
          "text": "Highspot Product Overview (6p)",
          "x": 7,
          "xref": "x",
          "y": 7,
          "yref": "y"
         },
         {
          "font": {
           "color": "black"
          },
          "showarrow": false,
          "text": "Seattle Skyline Pitch Experience",
          "x": 8,
          "xref": "x",
          "y": 7,
          "yref": "y"
         },
         {
          "font": {
           "color": "black"
          },
          "showarrow": false,
          "text": "Seattle Skyline Pitch Experience",
          "x": 0,
          "xref": "x",
          "y": 8,
          "yref": "y"
         },
         {
          "font": {
           "color": "black"
          },
          "showarrow": false,
          "text": "Highspot Product Overview (6p)",
          "x": 1,
          "xref": "x",
          "y": 8,
          "yref": "y"
         },
         {
          "font": {
           "color": "black"
          },
          "showarrow": false,
          "text": "Best Practices for Sales Playbooks Report",
          "x": 2,
          "xref": "x",
          "y": 8,
          "yref": "y"
         },
         {
          "font": {
           "color": "black"
          },
          "showarrow": false,
          "text": "Highspot Product Overview (6p)",
          "x": 3,
          "xref": "x",
          "y": 8,
          "yref": "y"
         },
         {
          "font": {
           "color": "black"
          },
          "showarrow": false,
          "text": "Content List with Hero Banner",
          "x": 4,
          "xref": "x",
          "y": 8,
          "yref": "y"
         },
         {
          "font": {
           "color": "black"
          },
          "showarrow": false,
          "text": "Highspot Product Overview (6p)",
          "x": 5,
          "xref": "x",
          "y": 8,
          "yref": "y"
         },
         {
          "font": {
           "color": "black"
          },
          "showarrow": false,
          "text": "Content List with Hero Banner",
          "x": 6,
          "xref": "x",
          "y": 8,
          "yref": "y"
         },
         {
          "font": {
           "color": "black"
          },
          "showarrow": false,
          "text": "#Love Pitch Experience",
          "x": 7,
          "xref": "x",
          "y": 8,
          "yref": "y"
         },
         {
          "font": {
           "color": "black"
          },
          "showarrow": false,
          "text": "Content List with Hero Banner",
          "x": 8,
          "xref": "x",
          "y": 8,
          "yref": "y"
         },
         {
          "font": {
           "color": "black"
          },
          "showarrow": false,
          "text": "Highspot Product Overview (6p)",
          "x": 0,
          "xref": "x",
          "y": 9,
          "yref": "y"
         },
         {
          "font": {
           "color": "black"
          },
          "showarrow": false,
          "text": "Content List with Hero Banner",
          "x": 1,
          "xref": "x",
          "y": 9,
          "yref": "y"
         },
         {
          "font": {
           "color": "black"
          },
          "showarrow": false,
          "text": "Webinar: Building Your Content Mapping Plan",
          "x": 2,
          "xref": "x",
          "y": 9,
          "yref": "y"
         },
         {
          "font": {
           "color": "black"
          },
          "showarrow": false,
          "text": "SiriusDecisions: The Sales Enablement Range of Responsibilities Model",
          "x": 3,
          "xref": "x",
          "y": 9,
          "yref": "y"
         },
         {
          "font": {
           "color": "black"
          },
          "showarrow": false,
          "text": "Highspot Product Overview (6p)",
          "x": 4,
          "xref": "x",
          "y": 9,
          "yref": "y"
         },
         {
          "font": {
           "color": "black"
          },
          "showarrow": false,
          "text": "Content List with Hero Banner",
          "x": 5,
          "xref": "x",
          "y": 9,
          "yref": "y"
         },
         {
          "font": {
           "color": "black"
          },
          "showarrow": false,
          "text": "Highspot Product Overview (6p)",
          "x": 6,
          "xref": "x",
          "y": 9,
          "yref": "y"
         },
         {
          "font": {
           "color": "black"
          },
          "showarrow": false,
          "text": "Content List with Hero Banner",
          "x": 7,
          "xref": "x",
          "y": 9,
          "yref": "y"
         },
         {
          "font": {
           "color": "black"
          },
          "showarrow": false,
          "text": "Highspot Information Security",
          "x": 8,
          "xref": "x",
          "y": 9,
          "yref": "y"
         }
        ],
        "height": 1500,
        "title": {
         "text": "Periodic Table"
        },
        "width": 3000,
        "xaxis": {
         "gridcolor": "rgb(0, 0, 0)",
         "showgrid": false,
         "showline": false,
         "showticklabels": false,
         "side": "top",
         "ticks": "",
         "zeroline": false
        },
        "yaxis": {
         "showgrid": false,
         "showline": false,
         "showticklabels": false,
         "ticks": "",
         "ticksuffix": "  ",
         "zeroline": false
        }
       }
      },
      "text/html": [
       "<div id=\"2aa801b7-9ccc-4be6-a643-4da6ab83bcf9\" style=\"height: 1500px; width: 3000px;\" class=\"plotly-graph-div\"></div><script type=\"text/javascript\">require([\"plotly\"], function(Plotly) { window.PLOTLYENV=window.PLOTLYENV || {};window.PLOTLYENV.BASE_URL=\"https://plot.ly\";\n",
       "if (document.getElementById(\"2aa801b7-9ccc-4be6-a643-4da6ab83bcf9\")) {\n",
       "    Plotly.newPlot(\"2aa801b7-9ccc-4be6-a643-4da6ab83bcf9\", [{\"colorscale\": \"RdBu\", \"hoverinfo\": \"text\", \"reversescale\": false, \"showscale\": false, \"text\": [[\"Pitches: 93.0<br>Views: 11.0\", \"Pitches: 11.0<br>Views: 3.0\", \"Pitches: 1.0<br>Views: 2.0\", \"Pitches: 1.0<br>Views: 10.0\", \"Pitches: 674.0<br>Views: 25.0\", \"Pitches: 2.0<br>Views: 2.0\", \"Pitches: 5.0<br>Views: 5.0\", \"Pitches: 12.0<br>Views: 6.0\", \"Pitches: 5.0<br>Views: 11.0\"], [\"Pitches: 133.0<br>Views: 11.0\", \"Pitches: 1.0<br>Views: 3.0\", \"Pitches: 1.0<br>Views: 2.0\", \"Pitches: 1.0<br>Views: 10.0\", \"Pitches: 292.0<br>Views: 26.0\", \"Pitches: 2.0<br>Views: 3.0\", \"Pitches: 13.0<br>Views: 5.0\", \"Pitches: 1.0<br>Views: 8.0\", \"Pitches: 1.0<br>Views: 12.0\"], [\"Pitches: 1.0<br>Views: 13.0\", \"Pitches: 3.0<br>Views: 4.0\", \"Pitches: nan<br>Views: 2.0\", \"Pitches: 70.0<br>Views: 11.0\", \"Pitches: 57.0<br>Views: 26.0\", \"Pitches: 2.0<br>Views: 3.0\", \"Pitches: 25.0<br>Views: 5.0\", \"Pitches: 7.0<br>Views: 8.0\", \"Pitches: 4.0<br>Views: 13.0\"], [\"Pitches: 254.0<br>Views: 14.0\", \"Pitches: 1.0<br>Views: 4.0\", \"Pitches: nan<br>Views: 3.0\", \"Pitches: nan<br>Views: 14.0\", \"Pitches: 46.0<br>Views: 27.0\", \"Pitches: 12.0<br>Views: 3.0\", \"Pitches: 21.0<br>Views: 6.0\", \"Pitches: 2.0<br>Views: 8.0\", \"Pitches: 4.0<br>Views: 13.0\"], [\"Pitches: 123.0<br>Views: 15.0\", \"Pitches: 1.0<br>Views: 4.0\", \"Pitches: nan<br>Views: 3.0\", \"Pitches: nan<br>Views: 17.0\", \"Pitches: 363.0<br>Views: 32.0\", \"Pitches: 1.0<br>Views: 4.0\", \"Pitches: 65.0<br>Views: 6.0\", \"Pitches: 1.0<br>Views: 8.0\", \"Pitches: 1.0<br>Views: 17.0\"], [\"Pitches: 727.0<br>Views: 15.0\", \"Pitches: 12.0<br>Views: 6.0\", \"Pitches: 22.0<br>Views: 4.0\", \"Pitches: nan<br>Views: 17.0\", \"Pitches: 584.0<br>Views: 34.0\", \"Pitches: 9.0<br>Views: 4.0\", \"Pitches: 9.0<br>Views: 7.0\", \"Pitches: 2.0<br>Views: 10.0\", \"Pitches: nan<br>Views: 17.0\"], [\"Pitches: 169.0<br>Views: 19.0\", \"Pitches: 12.0<br>Views: 6.0\", \"Pitches: 7.0<br>Views: 5.0\", \"Pitches: nan<br>Views: 19.0\", \"Pitches: 358.0<br>Views: 43.0\", \"Pitches: 6.0<br>Views: 5.0\", \"Pitches: 23.0<br>Views: 7.0\", \"Pitches: nan<br>Views: 17.0\", \"Pitches: 2.0<br>Views: 25.0\"], [\"Pitches: nan<br>Views: 56.0\", \"Pitches: 3.0<br>Views: 8.0\", \"Pitches: 1.0<br>Views: 5.0\", \"Pitches: nan<br>Views: 26.0\", \"Pitches: 387.0<br>Views: 56.0\", \"Pitches: 3.0<br>Views: 8.0\", \"Pitches: nan<br>Views: 12.0\", \"Pitches: 118.0<br>Views: 28.0\", \"Pitches: nan<br>Views: 29.0\"], [\"Pitches: nan<br>Views: 62.0\", \"Pitches: 73.0<br>Views: 22.0\", \"Pitches: 6.0<br>Views: 6.0\", \"Pitches: 298.0<br>Views: 28.0\", \"Pitches: nan<br>Views: 114.0\", \"Pitches: 41.0<br>Views: 12.0\", \"Pitches: nan<br>Views: 51.0\", \"Pitches: nan<br>Views: 28.0\", \"Pitches: nan<br>Views: 32.0\"], [\"Pitches: 2050.0<br>Views: 117.0\", \"Pitches: nan<br>Views: 37.0\", \"Pitches: 4.0<br>Views: 13.0\", \"Pitches: 1.0<br>Views: 39.0\", \"Pitches: 4578.0<br>Views: 184.0\", \"Pitches: nan<br>Views: 14.0\", \"Pitches: 199.0<br>Views: 62.0\", \"Pitches: nan<br>Views: 112.0\", \"Pitches: 3.0<br>Views: 41.0\"]], \"z\": [[0.11827956989247312, 0.2727272727272727, 2.0, 10.0, 0.037091988130563795, 1.0, 1.0, 0.5, 2.2], [0.08270676691729323, 3.0, 2.0, 10.0, 0.08904109589041095, 1.5, 0.38461538461538464, 8.0, 12.0], [13.0, 1.3333333333333333, null, 0.15714285714285714, 0.45614035087719296, 1.5, 0.2, 1.1428571428571428, 3.25], [0.05511811023622047, 4.0, null, null, 0.5869565217391305, 0.25, 0.2857142857142857, 4.0, 3.25], [0.12195121951219512, 4.0, null, null, 0.0881542699724518, 4.0, 0.09230769230769231, 8.0, 17.0], [0.02063273727647868, 0.5, 0.18181818181818182, null, 0.05821917808219178, 0.4444444444444444, 0.7777777777777778, 5.0, null], [0.11242603550295859, 0.5, 0.7142857142857143, null, 0.12011173184357542, 0.8333333333333334, 0.30434782608695654, null, 12.5], [null, 2.6666666666666665, 5.0, null, 0.14470284237726097, 2.6666666666666665, null, 0.23728813559322035, null], [null, 0.3013698630136986, 1.0, 0.09395973154362416, null, 0.2926829268292683, null, null, null], [0.05707317073170732, null, 3.25, 39.0, 0.04019222367846221, null, 0.31155778894472363, null, 13.666666666666666]], \"type\": \"heatmap\", \"uid\": \"f17d4486-3e97-457f-b388-8199a55afe44\"}], {\"annotations\": [{\"font\": {\"color\": \"black\"}, \"showarrow\": false, \"text\": \"Highspot Partner & Channel Enablement\", \"x\": 0, \"xref\": \"x\", \"y\": 0, \"yref\": \"y\"}, {\"font\": {\"color\": \"black\"}, \"showarrow\": false, \"text\": \"Overview: Highspot in Action (Video)\", \"x\": 1, \"xref\": \"x\", \"y\": 0, \"yref\": \"y\"}, {\"font\": {\"color\": \"black\"}, \"showarrow\": false, \"text\": \"Ey Reinventing Sales To Stay Relevant To B2b Buyers\", \"x\": 2, \"xref\": \"x\", \"y\": 0, \"yref\": \"y\"}, {\"font\": {\"color\": \"black\"}, \"showarrow\": false, \"text\": \"Highspot Browse and Filter for Content - Palantir Technologies\", \"x\": 3, \"xref\": \"x\", \"y\": 0, \"yref\": \"y\"}, {\"font\": {\"color\": \"black\"}, \"showarrow\": false, \"text\": \"Overview: Highspot in Action (Video)\", \"x\": 4, \"xref\": \"x\", \"y\": 0, \"yref\": \"y\"}, {\"font\": {\"color\": \"black\"}, \"showarrow\": false, \"text\": \"Highspot Content Management\", \"x\": 5, \"xref\": \"x\", \"y\": 0, \"yref\": \"y\"}, {\"font\": {\"color\": \"black\"}, \"showarrow\": false, \"text\": \"Customer Overview Deck\", \"x\": 6, \"xref\": \"x\", \"y\": 0, \"yref\": \"y\"}, {\"font\": {\"color\": \"black\"}, \"showarrow\": false, \"text\": \"Webinar: Building Your Content Mapping Plan\", \"x\": 7, \"xref\": \"x\", \"y\": 0, \"yref\": \"y\"}, {\"font\": {\"color\": \"black\"}, \"showarrow\": false, \"text\": \"Veracode Security Report - Oct 2018\", \"x\": 8, \"xref\": \"x\", \"y\": 0, \"yref\": \"y\"}, {\"font\": {\"color\": \"black\"}, \"showarrow\": false, \"text\": \"Calculating the True Cost of Content\", \"x\": 0, \"xref\": \"x\", \"y\": 1, \"yref\": \"y\"}, {\"font\": {\"color\": \"black\"}, \"showarrow\": false, \"text\": \"Why We're Thankful for Our Customers\", \"x\": 1, \"xref\": \"x\", \"y\": 1, \"yref\": \"y\"}, {\"font\": {\"color\": \"black\"}, \"showarrow\": false, \"text\": \"Highspot vs Seismic Comparison (Winter 2018)\", \"x\": 2, \"xref\": \"x\", \"y\": 1, \"yref\": \"y\"}, {\"font\": {\"color\": \"black\"}, \"showarrow\": false, \"text\": \"Highspot Content/Spot Directory - Palantir Technologies\", \"x\": 3, \"xref\": \"x\", \"y\": 1, \"yref\": \"y\"}, {\"font\": {\"color\": \"black\"}, \"showarrow\": false, \"text\": \"Content Management Whitepaper: Put an End to Content Chaos\", \"x\": 4, \"xref\": \"x\", \"y\": 1, \"yref\": \"y\"}, {\"font\": {\"color\": \"black\"}, \"showarrow\": false, \"text\": \"Sales Quota Impact Study\", \"x\": 5, \"xref\": \"x\", \"y\": 1, \"yref\": \"y\"}, {\"font\": {\"color\": \"black\"}, \"showarrow\": false, \"text\": \"Why Highspot\", \"x\": 6, \"xref\": \"x\", \"y\": 1, \"yref\": \"y\"}, {\"font\": {\"color\": \"black\"}, \"showarrow\": false, \"text\": \"Survey: Your State of Sales Enablement\", \"x\": 7, \"xref\": \"x\", \"y\": 1, \"yref\": \"y\"}, {\"font\": {\"color\": \"black\"}, \"showarrow\": false, \"text\": \"Worksheet: Building Your Sales Enablement Project Plan\", \"x\": 8, \"xref\": \"x\", \"y\": 1, \"yref\": \"y\"}, {\"font\": {\"color\": \"black\"}, \"showarrow\": false, \"text\": \"Highspot Onboarding Guidebook\", \"x\": 0, \"xref\": \"x\", \"y\": 2, \"yref\": \"y\"}, {\"font\": {\"color\": \"black\"}, \"showarrow\": false, \"text\": \"Sales Enablement Maturity Model\", \"x\": 1, \"xref\": \"x\", \"y\": 2, \"yref\": \"y\"}, {\"font\": {\"color\": \"black\"}, \"showarrow\": false, \"text\": \"#Love Pitch Experience\", \"x\": 2, \"xref\": \"x\", \"y\": 2, \"yref\": \"y\"}, {\"font\": {\"color\": \"black\"}, \"showarrow\": false, \"text\": \"Webinar: Building Your Content Mapping Plan\", \"x\": 3, \"xref\": \"x\", \"y\": 2, \"yref\": \"y\"}, {\"font\": {\"color\": \"black\"}, \"showarrow\": false, \"text\": \"Highspot vs Seismic Comparison (Winter 2018)\", \"x\": 4, \"xref\": \"x\", \"y\": 2, \"yref\": \"y\"}, {\"font\": {\"color\": \"black\"}, \"showarrow\": false, \"text\": \"Sales Enablement for Financial Services\", \"x\": 5, \"xref\": \"x\", \"y\": 2, \"yref\": \"y\"}, {\"font\": {\"color\": \"black\"}, \"showarrow\": false, \"text\": \"Sales Enablement Soiree 2018 - Ralph's VIP\", \"x\": 6, \"xref\": \"x\", \"y\": 2, \"yref\": \"y\"}, {\"font\": {\"color\": \"black\"}, \"showarrow\": false, \"text\": \"Customer Overview Deck\", \"x\": 7, \"xref\": \"x\", \"y\": 2, \"yref\": \"y\"}, {\"font\": {\"color\": \"black\"}, \"showarrow\": false, \"text\": \"Highspot Onboarding Guidebook\", \"x\": 8, \"xref\": \"x\", \"y\": 2, \"yref\": \"y\"}, {\"font\": {\"color\": \"black\"}, \"showarrow\": false, \"text\": \"Sales Enablement Soiree 2018 - Napoleon's VIP\", \"x\": 0, \"xref\": \"x\", \"y\": 3, \"yref\": \"y\"}, {\"font\": {\"color\": \"black\"}, \"showarrow\": false, \"text\": \"Mutual NDA - Highspot General (8.18)\", \"x\": 1, \"xref\": \"x\", \"y\": 3, \"yref\": \"y\"}, {\"font\": {\"color\": \"black\"}, \"showarrow\": false, \"text\": \"Content List with Hero Banner\", \"x\": 2, \"xref\": \"x\", \"y\": 3, \"yref\": \"y\"}, {\"font\": {\"color\": \"black\"}, \"showarrow\": false, \"text\": \"Soir\\u00e9e Follow Up Experience\", \"x\": 3, \"xref\": \"x\", \"y\": 3, \"yref\": \"y\"}, {\"font\": {\"color\": \"black\"}, \"showarrow\": false, \"text\": \"Gartner: Market Guide for Digital Content Management for Sales 2018\", \"x\": 4, \"xref\": \"x\", \"y\": 3, \"yref\": \"y\"}, {\"font\": {\"color\": \"black\"}, \"showarrow\": false, \"text\": \"Highspot Salesforce & CMS Integrations Brochure\", \"x\": 5, \"xref\": \"x\", \"y\": 3, \"yref\": \"y\"}, {\"font\": {\"color\": \"black\"}, \"showarrow\": false, \"text\": \"Reps Love Highspot\", \"x\": 6, \"xref\": \"x\", \"y\": 3, \"yref\": \"y\"}, {\"font\": {\"color\": \"black\"}, \"showarrow\": false, \"text\": \"Salesforce Connector Installation Guide\", \"x\": 7, \"xref\": \"x\", \"y\": 3, \"yref\": \"y\"}, {\"font\": {\"color\": \"black\"}, \"showarrow\": false, \"text\": \"Highspot Salesforce & CMS Integrations Brochure\", \"x\": 8, \"xref\": \"x\", \"y\": 3, \"yref\": \"y\"}, {\"font\": {\"color\": \"black\"}, \"showarrow\": false, \"text\": \"Best Practices for Sales Playbooks Report\", \"x\": 0, \"xref\": \"x\", \"y\": 4, \"yref\": \"y\"}, {\"font\": {\"color\": \"black\"}, \"showarrow\": false, \"text\": \"SiriusDecisions: The Sales Enablement Range of Responsibilities Model\", \"x\": 1, \"xref\": \"x\", \"y\": 4, \"yref\": \"y\"}, {\"font\": {\"color\": \"black\"}, \"showarrow\": false, \"text\": \"SiriusDecisions: The Sales Enablement Range of Responsibilities Model\", \"x\": 2, \"xref\": \"x\", \"y\": 4, \"yref\": \"y\"}, {\"font\": {\"color\": \"black\"}, \"showarrow\": false, \"text\": \"Seattle Skyline Pitch Experience\", \"x\": 3, \"xref\": \"x\", \"y\": 4, \"yref\": \"y\"}, {\"font\": {\"color\": \"black\"}, \"showarrow\": false, \"text\": \"Best Practices for Sales Playbooks Report\", \"x\": 4, \"xref\": \"x\", \"y\": 4, \"yref\": \"y\"}, {\"font\": {\"color\": \"black\"}, \"showarrow\": false, \"text\": \"Sales Enablement Solution Requirements Guide\", \"x\": 5, \"xref\": \"x\", \"y\": 4, \"yref\": \"y\"}, {\"font\": {\"color\": \"black\"}, \"showarrow\": false, \"text\": \"Overview: Highspot in Action (Video)\", \"x\": 6, \"xref\": \"x\", \"y\": 4, \"yref\": \"y\"}, {\"font\": {\"color\": \"black\"}, \"showarrow\": false, \"text\": \"Whitepaper: The Evolution of Sales Readiness\", \"x\": 7, \"xref\": \"x\", \"y\": 4, \"yref\": \"y\"}, {\"font\": {\"color\": \"black\"}, \"showarrow\": false, \"text\": \"8 Tips for Highspot (editable)\", \"x\": 8, \"xref\": \"x\", \"y\": 4, \"yref\": \"y\"}, {\"font\": {\"color\": \"black\"}, \"showarrow\": false, \"text\": \"Sales Enablement Soiree 2018 - Registration\", \"x\": 0, \"xref\": \"x\", \"y\": 5, \"yref\": \"y\"}, {\"font\": {\"color\": \"black\"}, \"showarrow\": false, \"text\": \"SiriusDecisions: Sales Enablement Planning Assumptions 2019\", \"x\": 1, \"xref\": \"x\", \"y\": 5, \"yref\": \"y\"}, {\"font\": {\"color\": \"black\"}, \"showarrow\": false, \"text\": \"Highspot Product Overview (6p)\", \"x\": 2, \"xref\": \"x\", \"y\": 5, \"yref\": \"y\"}, {\"font\": {\"color\": \"black\"}, \"showarrow\": false, \"text\": \"#Love Pitch Experience\", \"x\": 3, \"xref\": \"x\", \"y\": 5, \"yref\": \"y\"}, {\"font\": {\"color\": \"black\"}, \"showarrow\": false, \"text\": \"Sales Enablement Soiree 2018 - Registration\", \"x\": 4, \"xref\": \"x\", \"y\": 5, \"yref\": \"y\"}, {\"font\": {\"color\": \"black\"}, \"showarrow\": false, \"text\": \"Highspot Business Case\", \"x\": 5, \"xref\": \"x\", \"y\": 5, \"yref\": \"y\"}, {\"font\": {\"color\": \"black\"}, \"showarrow\": false, \"text\": \"Highspot Partner & Channel Enablement\", \"x\": 6, \"xref\": \"x\", \"y\": 5, \"yref\": \"y\"}, {\"font\": {\"color\": \"black\"}, \"showarrow\": false, \"text\": \"Launch: Quickstart Guide\", \"x\": 7, \"xref\": \"x\", \"y\": 5, \"yref\": \"y\"}, {\"font\": {\"color\": \"black\"}, \"showarrow\": false, \"text\": \"#Love Pitch Experience\", \"x\": 8, \"xref\": \"x\", \"y\": 5, \"yref\": \"y\"}, {\"font\": {\"color\": \"black\"}, \"showarrow\": false, \"text\": \"Highspot Business Case\", \"x\": 0, \"xref\": \"x\", \"y\": 6, \"yref\": \"y\"}, {\"font\": {\"color\": \"black\"}, \"showarrow\": false, \"text\": \"Highspot Business Case\", \"x\": 1, \"xref\": \"x\", \"y\": 6, \"yref\": \"y\"}, {\"font\": {\"color\": \"black\"}, \"showarrow\": false, \"text\": \"SiriusDecisions: Sales Enablement Planning Assumptions 2019\", \"x\": 2, \"xref\": \"x\", \"y\": 6, \"yref\": \"y\"}, {\"font\": {\"color\": \"black\"}, \"showarrow\": false, \"text\": \"Content List with Hero Banner\", \"x\": 3, \"xref\": \"x\", \"y\": 6, \"yref\": \"y\"}, {\"font\": {\"color\": \"black\"}, \"showarrow\": false, \"text\": \"Webinar: Building Your Content Mapping Plan\", \"x\": 4, \"xref\": \"x\", \"y\": 6, \"yref\": \"y\"}, {\"font\": {\"color\": \"black\"}, \"showarrow\": false, \"text\": \"Webinar: Building Your Content Mapping Plan\", \"x\": 5, \"xref\": \"x\", \"y\": 6, \"yref\": \"y\"}, {\"font\": {\"color\": \"black\"}, \"showarrow\": false, \"text\": \"Sales Playbooks Whitepaper\", \"x\": 6, \"xref\": \"x\", \"y\": 6, \"yref\": \"y\"}, {\"font\": {\"color\": \"black\"}, \"showarrow\": false, \"text\": \"Seattle Skyline Pitch Experience\", \"x\": 7, \"xref\": \"x\", \"y\": 6, \"yref\": \"y\"}, {\"font\": {\"color\": \"black\"}, \"showarrow\": false, \"text\": \"Highspot Customer Event - Seattle - October 4, 2018\", \"x\": 8, \"xref\": \"x\", \"y\": 6, \"yref\": \"y\"}, {\"font\": {\"color\": \"black\"}, \"showarrow\": false, \"text\": \"Content List with Hero Banner\", \"x\": 0, \"xref\": \"x\", \"y\": 7, \"yref\": \"y\"}, {\"font\": {\"color\": \"black\"}, \"showarrow\": false, \"text\": \"Highspot Product Overview (6p)\", \"x\": 1, \"xref\": \"x\", \"y\": 7, \"yref\": \"y\"}, {\"font\": {\"color\": \"black\"}, \"showarrow\": false, \"text\": \"Sales Enablement Solution Requirements Guide\", \"x\": 2, \"xref\": \"x\", \"y\": 7, \"yref\": \"y\"}, {\"font\": {\"color\": \"black\"}, \"showarrow\": false, \"text\": \"Highspot Example HomePage\", \"x\": 3, \"xref\": \"x\", \"y\": 7, \"yref\": \"y\"}, {\"font\": {\"color\": \"black\"}, \"showarrow\": false, \"text\": \"SiriusDecisions: Sales Enablement Planning Assumptions 2019\", \"x\": 4, \"xref\": \"x\", \"y\": 7, \"yref\": \"y\"}, {\"font\": {\"color\": \"black\"}, \"showarrow\": false, \"text\": \"Sales Enablement Maturity Model\", \"x\": 5, \"xref\": \"x\", \"y\": 7, \"yref\": \"y\"}, {\"font\": {\"color\": \"black\"}, \"showarrow\": false, \"text\": \"SiriusDecisions: The Sales Enablement Range of Responsibilities Model\", \"x\": 6, \"xref\": \"x\", \"y\": 7, \"yref\": \"y\"}, {\"font\": {\"color\": \"black\"}, \"showarrow\": false, \"text\": \"Highspot Product Overview (6p)\", \"x\": 7, \"xref\": \"x\", \"y\": 7, \"yref\": \"y\"}, {\"font\": {\"color\": \"black\"}, \"showarrow\": false, \"text\": \"Seattle Skyline Pitch Experience\", \"x\": 8, \"xref\": \"x\", \"y\": 7, \"yref\": \"y\"}, {\"font\": {\"color\": \"black\"}, \"showarrow\": false, \"text\": \"Seattle Skyline Pitch Experience\", \"x\": 0, \"xref\": \"x\", \"y\": 8, \"yref\": \"y\"}, {\"font\": {\"color\": \"black\"}, \"showarrow\": false, \"text\": \"Highspot Product Overview (6p)\", \"x\": 1, \"xref\": \"x\", \"y\": 8, \"yref\": \"y\"}, {\"font\": {\"color\": \"black\"}, \"showarrow\": false, \"text\": \"Best Practices for Sales Playbooks Report\", \"x\": 2, \"xref\": \"x\", \"y\": 8, \"yref\": \"y\"}, {\"font\": {\"color\": \"black\"}, \"showarrow\": false, \"text\": \"Highspot Product Overview (6p)\", \"x\": 3, \"xref\": \"x\", \"y\": 8, \"yref\": \"y\"}, {\"font\": {\"color\": \"black\"}, \"showarrow\": false, \"text\": \"Content List with Hero Banner\", \"x\": 4, \"xref\": \"x\", \"y\": 8, \"yref\": \"y\"}, {\"font\": {\"color\": \"black\"}, \"showarrow\": false, \"text\": \"Highspot Product Overview (6p)\", \"x\": 5, \"xref\": \"x\", \"y\": 8, \"yref\": \"y\"}, {\"font\": {\"color\": \"black\"}, \"showarrow\": false, \"text\": \"Content List with Hero Banner\", \"x\": 6, \"xref\": \"x\", \"y\": 8, \"yref\": \"y\"}, {\"font\": {\"color\": \"black\"}, \"showarrow\": false, \"text\": \"#Love Pitch Experience\", \"x\": 7, \"xref\": \"x\", \"y\": 8, \"yref\": \"y\"}, {\"font\": {\"color\": \"black\"}, \"showarrow\": false, \"text\": \"Content List with Hero Banner\", \"x\": 8, \"xref\": \"x\", \"y\": 8, \"yref\": \"y\"}, {\"font\": {\"color\": \"black\"}, \"showarrow\": false, \"text\": \"Highspot Product Overview (6p)\", \"x\": 0, \"xref\": \"x\", \"y\": 9, \"yref\": \"y\"}, {\"font\": {\"color\": \"black\"}, \"showarrow\": false, \"text\": \"Content List with Hero Banner\", \"x\": 1, \"xref\": \"x\", \"y\": 9, \"yref\": \"y\"}, {\"font\": {\"color\": \"black\"}, \"showarrow\": false, \"text\": \"Webinar: Building Your Content Mapping Plan\", \"x\": 2, \"xref\": \"x\", \"y\": 9, \"yref\": \"y\"}, {\"font\": {\"color\": \"black\"}, \"showarrow\": false, \"text\": \"SiriusDecisions: The Sales Enablement Range of Responsibilities Model\", \"x\": 3, \"xref\": \"x\", \"y\": 9, \"yref\": \"y\"}, {\"font\": {\"color\": \"black\"}, \"showarrow\": false, \"text\": \"Highspot Product Overview (6p)\", \"x\": 4, \"xref\": \"x\", \"y\": 9, \"yref\": \"y\"}, {\"font\": {\"color\": \"black\"}, \"showarrow\": false, \"text\": \"Content List with Hero Banner\", \"x\": 5, \"xref\": \"x\", \"y\": 9, \"yref\": \"y\"}, {\"font\": {\"color\": \"black\"}, \"showarrow\": false, \"text\": \"Highspot Product Overview (6p)\", \"x\": 6, \"xref\": \"x\", \"y\": 9, \"yref\": \"y\"}, {\"font\": {\"color\": \"black\"}, \"showarrow\": false, \"text\": \"Content List with Hero Banner\", \"x\": 7, \"xref\": \"x\", \"y\": 9, \"yref\": \"y\"}, {\"font\": {\"color\": \"black\"}, \"showarrow\": false, \"text\": \"Highspot Information Security\", \"x\": 8, \"xref\": \"x\", \"y\": 9, \"yref\": \"y\"}], \"xaxis\": {\"gridcolor\": \"rgb(0, 0, 0)\", \"showticklabels\": false, \"side\": \"top\", \"ticks\": \"\", \"showgrid\": false, \"showline\": false, \"zeroline\": false}, \"yaxis\": {\"showticklabels\": false, \"ticks\": \"\", \"ticksuffix\": \"  \", \"showgrid\": false, \"showline\": false, \"zeroline\": false}, \"title\": {\"text\": \"Periodic Table\"}, \"height\": 1500, \"width\": 3000}, {\"showLink\": false, \"linkText\": \"Export to plot.ly\", \"plotlyServerURL\": \"https://plot.ly\"}); \n",
       "}\n",
       "});</script>"
      ],
      "text/vnd.plotly.v1+html": [
       "<div id=\"2aa801b7-9ccc-4be6-a643-4da6ab83bcf9\" style=\"height: 1500px; width: 3000px;\" class=\"plotly-graph-div\"></div><script type=\"text/javascript\">require([\"plotly\"], function(Plotly) { window.PLOTLYENV=window.PLOTLYENV || {};window.PLOTLYENV.BASE_URL=\"https://plot.ly\";\n",
       "if (document.getElementById(\"2aa801b7-9ccc-4be6-a643-4da6ab83bcf9\")) {\n",
       "    Plotly.newPlot(\"2aa801b7-9ccc-4be6-a643-4da6ab83bcf9\", [{\"colorscale\": \"RdBu\", \"hoverinfo\": \"text\", \"reversescale\": false, \"showscale\": false, \"text\": [[\"Pitches: 93.0<br>Views: 11.0\", \"Pitches: 11.0<br>Views: 3.0\", \"Pitches: 1.0<br>Views: 2.0\", \"Pitches: 1.0<br>Views: 10.0\", \"Pitches: 674.0<br>Views: 25.0\", \"Pitches: 2.0<br>Views: 2.0\", \"Pitches: 5.0<br>Views: 5.0\", \"Pitches: 12.0<br>Views: 6.0\", \"Pitches: 5.0<br>Views: 11.0\"], [\"Pitches: 133.0<br>Views: 11.0\", \"Pitches: 1.0<br>Views: 3.0\", \"Pitches: 1.0<br>Views: 2.0\", \"Pitches: 1.0<br>Views: 10.0\", \"Pitches: 292.0<br>Views: 26.0\", \"Pitches: 2.0<br>Views: 3.0\", \"Pitches: 13.0<br>Views: 5.0\", \"Pitches: 1.0<br>Views: 8.0\", \"Pitches: 1.0<br>Views: 12.0\"], [\"Pitches: 1.0<br>Views: 13.0\", \"Pitches: 3.0<br>Views: 4.0\", \"Pitches: nan<br>Views: 2.0\", \"Pitches: 70.0<br>Views: 11.0\", \"Pitches: 57.0<br>Views: 26.0\", \"Pitches: 2.0<br>Views: 3.0\", \"Pitches: 25.0<br>Views: 5.0\", \"Pitches: 7.0<br>Views: 8.0\", \"Pitches: 4.0<br>Views: 13.0\"], [\"Pitches: 254.0<br>Views: 14.0\", \"Pitches: 1.0<br>Views: 4.0\", \"Pitches: nan<br>Views: 3.0\", \"Pitches: nan<br>Views: 14.0\", \"Pitches: 46.0<br>Views: 27.0\", \"Pitches: 12.0<br>Views: 3.0\", \"Pitches: 21.0<br>Views: 6.0\", \"Pitches: 2.0<br>Views: 8.0\", \"Pitches: 4.0<br>Views: 13.0\"], [\"Pitches: 123.0<br>Views: 15.0\", \"Pitches: 1.0<br>Views: 4.0\", \"Pitches: nan<br>Views: 3.0\", \"Pitches: nan<br>Views: 17.0\", \"Pitches: 363.0<br>Views: 32.0\", \"Pitches: 1.0<br>Views: 4.0\", \"Pitches: 65.0<br>Views: 6.0\", \"Pitches: 1.0<br>Views: 8.0\", \"Pitches: 1.0<br>Views: 17.0\"], [\"Pitches: 727.0<br>Views: 15.0\", \"Pitches: 12.0<br>Views: 6.0\", \"Pitches: 22.0<br>Views: 4.0\", \"Pitches: nan<br>Views: 17.0\", \"Pitches: 584.0<br>Views: 34.0\", \"Pitches: 9.0<br>Views: 4.0\", \"Pitches: 9.0<br>Views: 7.0\", \"Pitches: 2.0<br>Views: 10.0\", \"Pitches: nan<br>Views: 17.0\"], [\"Pitches: 169.0<br>Views: 19.0\", \"Pitches: 12.0<br>Views: 6.0\", \"Pitches: 7.0<br>Views: 5.0\", \"Pitches: nan<br>Views: 19.0\", \"Pitches: 358.0<br>Views: 43.0\", \"Pitches: 6.0<br>Views: 5.0\", \"Pitches: 23.0<br>Views: 7.0\", \"Pitches: nan<br>Views: 17.0\", \"Pitches: 2.0<br>Views: 25.0\"], [\"Pitches: nan<br>Views: 56.0\", \"Pitches: 3.0<br>Views: 8.0\", \"Pitches: 1.0<br>Views: 5.0\", \"Pitches: nan<br>Views: 26.0\", \"Pitches: 387.0<br>Views: 56.0\", \"Pitches: 3.0<br>Views: 8.0\", \"Pitches: nan<br>Views: 12.0\", \"Pitches: 118.0<br>Views: 28.0\", \"Pitches: nan<br>Views: 29.0\"], [\"Pitches: nan<br>Views: 62.0\", \"Pitches: 73.0<br>Views: 22.0\", \"Pitches: 6.0<br>Views: 6.0\", \"Pitches: 298.0<br>Views: 28.0\", \"Pitches: nan<br>Views: 114.0\", \"Pitches: 41.0<br>Views: 12.0\", \"Pitches: nan<br>Views: 51.0\", \"Pitches: nan<br>Views: 28.0\", \"Pitches: nan<br>Views: 32.0\"], [\"Pitches: 2050.0<br>Views: 117.0\", \"Pitches: nan<br>Views: 37.0\", \"Pitches: 4.0<br>Views: 13.0\", \"Pitches: 1.0<br>Views: 39.0\", \"Pitches: 4578.0<br>Views: 184.0\", \"Pitches: nan<br>Views: 14.0\", \"Pitches: 199.0<br>Views: 62.0\", \"Pitches: nan<br>Views: 112.0\", \"Pitches: 3.0<br>Views: 41.0\"]], \"z\": [[0.11827956989247312, 0.2727272727272727, 2.0, 10.0, 0.037091988130563795, 1.0, 1.0, 0.5, 2.2], [0.08270676691729323, 3.0, 2.0, 10.0, 0.08904109589041095, 1.5, 0.38461538461538464, 8.0, 12.0], [13.0, 1.3333333333333333, null, 0.15714285714285714, 0.45614035087719296, 1.5, 0.2, 1.1428571428571428, 3.25], [0.05511811023622047, 4.0, null, null, 0.5869565217391305, 0.25, 0.2857142857142857, 4.0, 3.25], [0.12195121951219512, 4.0, null, null, 0.0881542699724518, 4.0, 0.09230769230769231, 8.0, 17.0], [0.02063273727647868, 0.5, 0.18181818181818182, null, 0.05821917808219178, 0.4444444444444444, 0.7777777777777778, 5.0, null], [0.11242603550295859, 0.5, 0.7142857142857143, null, 0.12011173184357542, 0.8333333333333334, 0.30434782608695654, null, 12.5], [null, 2.6666666666666665, 5.0, null, 0.14470284237726097, 2.6666666666666665, null, 0.23728813559322035, null], [null, 0.3013698630136986, 1.0, 0.09395973154362416, null, 0.2926829268292683, null, null, null], [0.05707317073170732, null, 3.25, 39.0, 0.04019222367846221, null, 0.31155778894472363, null, 13.666666666666666]], \"type\": \"heatmap\", \"uid\": \"f17d4486-3e97-457f-b388-8199a55afe44\"}], {\"annotations\": [{\"font\": {\"color\": \"black\"}, \"showarrow\": false, \"text\": \"Highspot Partner & Channel Enablement\", \"x\": 0, \"xref\": \"x\", \"y\": 0, \"yref\": \"y\"}, {\"font\": {\"color\": \"black\"}, \"showarrow\": false, \"text\": \"Overview: Highspot in Action (Video)\", \"x\": 1, \"xref\": \"x\", \"y\": 0, \"yref\": \"y\"}, {\"font\": {\"color\": \"black\"}, \"showarrow\": false, \"text\": \"Ey Reinventing Sales To Stay Relevant To B2b Buyers\", \"x\": 2, \"xref\": \"x\", \"y\": 0, \"yref\": \"y\"}, {\"font\": {\"color\": \"black\"}, \"showarrow\": false, \"text\": \"Highspot Browse and Filter for Content - Palantir Technologies\", \"x\": 3, \"xref\": \"x\", \"y\": 0, \"yref\": \"y\"}, {\"font\": {\"color\": \"black\"}, \"showarrow\": false, \"text\": \"Overview: Highspot in Action (Video)\", \"x\": 4, \"xref\": \"x\", \"y\": 0, \"yref\": \"y\"}, {\"font\": {\"color\": \"black\"}, \"showarrow\": false, \"text\": \"Highspot Content Management\", \"x\": 5, \"xref\": \"x\", \"y\": 0, \"yref\": \"y\"}, {\"font\": {\"color\": \"black\"}, \"showarrow\": false, \"text\": \"Customer Overview Deck\", \"x\": 6, \"xref\": \"x\", \"y\": 0, \"yref\": \"y\"}, {\"font\": {\"color\": \"black\"}, \"showarrow\": false, \"text\": \"Webinar: Building Your Content Mapping Plan\", \"x\": 7, \"xref\": \"x\", \"y\": 0, \"yref\": \"y\"}, {\"font\": {\"color\": \"black\"}, \"showarrow\": false, \"text\": \"Veracode Security Report - Oct 2018\", \"x\": 8, \"xref\": \"x\", \"y\": 0, \"yref\": \"y\"}, {\"font\": {\"color\": \"black\"}, \"showarrow\": false, \"text\": \"Calculating the True Cost of Content\", \"x\": 0, \"xref\": \"x\", \"y\": 1, \"yref\": \"y\"}, {\"font\": {\"color\": \"black\"}, \"showarrow\": false, \"text\": \"Why We're Thankful for Our Customers\", \"x\": 1, \"xref\": \"x\", \"y\": 1, \"yref\": \"y\"}, {\"font\": {\"color\": \"black\"}, \"showarrow\": false, \"text\": \"Highspot vs Seismic Comparison (Winter 2018)\", \"x\": 2, \"xref\": \"x\", \"y\": 1, \"yref\": \"y\"}, {\"font\": {\"color\": \"black\"}, \"showarrow\": false, \"text\": \"Highspot Content/Spot Directory - Palantir Technologies\", \"x\": 3, \"xref\": \"x\", \"y\": 1, \"yref\": \"y\"}, {\"font\": {\"color\": \"black\"}, \"showarrow\": false, \"text\": \"Content Management Whitepaper: Put an End to Content Chaos\", \"x\": 4, \"xref\": \"x\", \"y\": 1, \"yref\": \"y\"}, {\"font\": {\"color\": \"black\"}, \"showarrow\": false, \"text\": \"Sales Quota Impact Study\", \"x\": 5, \"xref\": \"x\", \"y\": 1, \"yref\": \"y\"}, {\"font\": {\"color\": \"black\"}, \"showarrow\": false, \"text\": \"Why Highspot\", \"x\": 6, \"xref\": \"x\", \"y\": 1, \"yref\": \"y\"}, {\"font\": {\"color\": \"black\"}, \"showarrow\": false, \"text\": \"Survey: Your State of Sales Enablement\", \"x\": 7, \"xref\": \"x\", \"y\": 1, \"yref\": \"y\"}, {\"font\": {\"color\": \"black\"}, \"showarrow\": false, \"text\": \"Worksheet: Building Your Sales Enablement Project Plan\", \"x\": 8, \"xref\": \"x\", \"y\": 1, \"yref\": \"y\"}, {\"font\": {\"color\": \"black\"}, \"showarrow\": false, \"text\": \"Highspot Onboarding Guidebook\", \"x\": 0, \"xref\": \"x\", \"y\": 2, \"yref\": \"y\"}, {\"font\": {\"color\": \"black\"}, \"showarrow\": false, \"text\": \"Sales Enablement Maturity Model\", \"x\": 1, \"xref\": \"x\", \"y\": 2, \"yref\": \"y\"}, {\"font\": {\"color\": \"black\"}, \"showarrow\": false, \"text\": \"#Love Pitch Experience\", \"x\": 2, \"xref\": \"x\", \"y\": 2, \"yref\": \"y\"}, {\"font\": {\"color\": \"black\"}, \"showarrow\": false, \"text\": \"Webinar: Building Your Content Mapping Plan\", \"x\": 3, \"xref\": \"x\", \"y\": 2, \"yref\": \"y\"}, {\"font\": {\"color\": \"black\"}, \"showarrow\": false, \"text\": \"Highspot vs Seismic Comparison (Winter 2018)\", \"x\": 4, \"xref\": \"x\", \"y\": 2, \"yref\": \"y\"}, {\"font\": {\"color\": \"black\"}, \"showarrow\": false, \"text\": \"Sales Enablement for Financial Services\", \"x\": 5, \"xref\": \"x\", \"y\": 2, \"yref\": \"y\"}, {\"font\": {\"color\": \"black\"}, \"showarrow\": false, \"text\": \"Sales Enablement Soiree 2018 - Ralph's VIP\", \"x\": 6, \"xref\": \"x\", \"y\": 2, \"yref\": \"y\"}, {\"font\": {\"color\": \"black\"}, \"showarrow\": false, \"text\": \"Customer Overview Deck\", \"x\": 7, \"xref\": \"x\", \"y\": 2, \"yref\": \"y\"}, {\"font\": {\"color\": \"black\"}, \"showarrow\": false, \"text\": \"Highspot Onboarding Guidebook\", \"x\": 8, \"xref\": \"x\", \"y\": 2, \"yref\": \"y\"}, {\"font\": {\"color\": \"black\"}, \"showarrow\": false, \"text\": \"Sales Enablement Soiree 2018 - Napoleon's VIP\", \"x\": 0, \"xref\": \"x\", \"y\": 3, \"yref\": \"y\"}, {\"font\": {\"color\": \"black\"}, \"showarrow\": false, \"text\": \"Mutual NDA - Highspot General (8.18)\", \"x\": 1, \"xref\": \"x\", \"y\": 3, \"yref\": \"y\"}, {\"font\": {\"color\": \"black\"}, \"showarrow\": false, \"text\": \"Content List with Hero Banner\", \"x\": 2, \"xref\": \"x\", \"y\": 3, \"yref\": \"y\"}, {\"font\": {\"color\": \"black\"}, \"showarrow\": false, \"text\": \"Soir\\u00e9e Follow Up Experience\", \"x\": 3, \"xref\": \"x\", \"y\": 3, \"yref\": \"y\"}, {\"font\": {\"color\": \"black\"}, \"showarrow\": false, \"text\": \"Gartner: Market Guide for Digital Content Management for Sales 2018\", \"x\": 4, \"xref\": \"x\", \"y\": 3, \"yref\": \"y\"}, {\"font\": {\"color\": \"black\"}, \"showarrow\": false, \"text\": \"Highspot Salesforce & CMS Integrations Brochure\", \"x\": 5, \"xref\": \"x\", \"y\": 3, \"yref\": \"y\"}, {\"font\": {\"color\": \"black\"}, \"showarrow\": false, \"text\": \"Reps Love Highspot\", \"x\": 6, \"xref\": \"x\", \"y\": 3, \"yref\": \"y\"}, {\"font\": {\"color\": \"black\"}, \"showarrow\": false, \"text\": \"Salesforce Connector Installation Guide\", \"x\": 7, \"xref\": \"x\", \"y\": 3, \"yref\": \"y\"}, {\"font\": {\"color\": \"black\"}, \"showarrow\": false, \"text\": \"Highspot Salesforce & CMS Integrations Brochure\", \"x\": 8, \"xref\": \"x\", \"y\": 3, \"yref\": \"y\"}, {\"font\": {\"color\": \"black\"}, \"showarrow\": false, \"text\": \"Best Practices for Sales Playbooks Report\", \"x\": 0, \"xref\": \"x\", \"y\": 4, \"yref\": \"y\"}, {\"font\": {\"color\": \"black\"}, \"showarrow\": false, \"text\": \"SiriusDecisions: The Sales Enablement Range of Responsibilities Model\", \"x\": 1, \"xref\": \"x\", \"y\": 4, \"yref\": \"y\"}, {\"font\": {\"color\": \"black\"}, \"showarrow\": false, \"text\": \"SiriusDecisions: The Sales Enablement Range of Responsibilities Model\", \"x\": 2, \"xref\": \"x\", \"y\": 4, \"yref\": \"y\"}, {\"font\": {\"color\": \"black\"}, \"showarrow\": false, \"text\": \"Seattle Skyline Pitch Experience\", \"x\": 3, \"xref\": \"x\", \"y\": 4, \"yref\": \"y\"}, {\"font\": {\"color\": \"black\"}, \"showarrow\": false, \"text\": \"Best Practices for Sales Playbooks Report\", \"x\": 4, \"xref\": \"x\", \"y\": 4, \"yref\": \"y\"}, {\"font\": {\"color\": \"black\"}, \"showarrow\": false, \"text\": \"Sales Enablement Solution Requirements Guide\", \"x\": 5, \"xref\": \"x\", \"y\": 4, \"yref\": \"y\"}, {\"font\": {\"color\": \"black\"}, \"showarrow\": false, \"text\": \"Overview: Highspot in Action (Video)\", \"x\": 6, \"xref\": \"x\", \"y\": 4, \"yref\": \"y\"}, {\"font\": {\"color\": \"black\"}, \"showarrow\": false, \"text\": \"Whitepaper: The Evolution of Sales Readiness\", \"x\": 7, \"xref\": \"x\", \"y\": 4, \"yref\": \"y\"}, {\"font\": {\"color\": \"black\"}, \"showarrow\": false, \"text\": \"8 Tips for Highspot (editable)\", \"x\": 8, \"xref\": \"x\", \"y\": 4, \"yref\": \"y\"}, {\"font\": {\"color\": \"black\"}, \"showarrow\": false, \"text\": \"Sales Enablement Soiree 2018 - Registration\", \"x\": 0, \"xref\": \"x\", \"y\": 5, \"yref\": \"y\"}, {\"font\": {\"color\": \"black\"}, \"showarrow\": false, \"text\": \"SiriusDecisions: Sales Enablement Planning Assumptions 2019\", \"x\": 1, \"xref\": \"x\", \"y\": 5, \"yref\": \"y\"}, {\"font\": {\"color\": \"black\"}, \"showarrow\": false, \"text\": \"Highspot Product Overview (6p)\", \"x\": 2, \"xref\": \"x\", \"y\": 5, \"yref\": \"y\"}, {\"font\": {\"color\": \"black\"}, \"showarrow\": false, \"text\": \"#Love Pitch Experience\", \"x\": 3, \"xref\": \"x\", \"y\": 5, \"yref\": \"y\"}, {\"font\": {\"color\": \"black\"}, \"showarrow\": false, \"text\": \"Sales Enablement Soiree 2018 - Registration\", \"x\": 4, \"xref\": \"x\", \"y\": 5, \"yref\": \"y\"}, {\"font\": {\"color\": \"black\"}, \"showarrow\": false, \"text\": \"Highspot Business Case\", \"x\": 5, \"xref\": \"x\", \"y\": 5, \"yref\": \"y\"}, {\"font\": {\"color\": \"black\"}, \"showarrow\": false, \"text\": \"Highspot Partner & Channel Enablement\", \"x\": 6, \"xref\": \"x\", \"y\": 5, \"yref\": \"y\"}, {\"font\": {\"color\": \"black\"}, \"showarrow\": false, \"text\": \"Launch: Quickstart Guide\", \"x\": 7, \"xref\": \"x\", \"y\": 5, \"yref\": \"y\"}, {\"font\": {\"color\": \"black\"}, \"showarrow\": false, \"text\": \"#Love Pitch Experience\", \"x\": 8, \"xref\": \"x\", \"y\": 5, \"yref\": \"y\"}, {\"font\": {\"color\": \"black\"}, \"showarrow\": false, \"text\": \"Highspot Business Case\", \"x\": 0, \"xref\": \"x\", \"y\": 6, \"yref\": \"y\"}, {\"font\": {\"color\": \"black\"}, \"showarrow\": false, \"text\": \"Highspot Business Case\", \"x\": 1, \"xref\": \"x\", \"y\": 6, \"yref\": \"y\"}, {\"font\": {\"color\": \"black\"}, \"showarrow\": false, \"text\": \"SiriusDecisions: Sales Enablement Planning Assumptions 2019\", \"x\": 2, \"xref\": \"x\", \"y\": 6, \"yref\": \"y\"}, {\"font\": {\"color\": \"black\"}, \"showarrow\": false, \"text\": \"Content List with Hero Banner\", \"x\": 3, \"xref\": \"x\", \"y\": 6, \"yref\": \"y\"}, {\"font\": {\"color\": \"black\"}, \"showarrow\": false, \"text\": \"Webinar: Building Your Content Mapping Plan\", \"x\": 4, \"xref\": \"x\", \"y\": 6, \"yref\": \"y\"}, {\"font\": {\"color\": \"black\"}, \"showarrow\": false, \"text\": \"Webinar: Building Your Content Mapping Plan\", \"x\": 5, \"xref\": \"x\", \"y\": 6, \"yref\": \"y\"}, {\"font\": {\"color\": \"black\"}, \"showarrow\": false, \"text\": \"Sales Playbooks Whitepaper\", \"x\": 6, \"xref\": \"x\", \"y\": 6, \"yref\": \"y\"}, {\"font\": {\"color\": \"black\"}, \"showarrow\": false, \"text\": \"Seattle Skyline Pitch Experience\", \"x\": 7, \"xref\": \"x\", \"y\": 6, \"yref\": \"y\"}, {\"font\": {\"color\": \"black\"}, \"showarrow\": false, \"text\": \"Highspot Customer Event - Seattle - October 4, 2018\", \"x\": 8, \"xref\": \"x\", \"y\": 6, \"yref\": \"y\"}, {\"font\": {\"color\": \"black\"}, \"showarrow\": false, \"text\": \"Content List with Hero Banner\", \"x\": 0, \"xref\": \"x\", \"y\": 7, \"yref\": \"y\"}, {\"font\": {\"color\": \"black\"}, \"showarrow\": false, \"text\": \"Highspot Product Overview (6p)\", \"x\": 1, \"xref\": \"x\", \"y\": 7, \"yref\": \"y\"}, {\"font\": {\"color\": \"black\"}, \"showarrow\": false, \"text\": \"Sales Enablement Solution Requirements Guide\", \"x\": 2, \"xref\": \"x\", \"y\": 7, \"yref\": \"y\"}, {\"font\": {\"color\": \"black\"}, \"showarrow\": false, \"text\": \"Highspot Example HomePage\", \"x\": 3, \"xref\": \"x\", \"y\": 7, \"yref\": \"y\"}, {\"font\": {\"color\": \"black\"}, \"showarrow\": false, \"text\": \"SiriusDecisions: Sales Enablement Planning Assumptions 2019\", \"x\": 4, \"xref\": \"x\", \"y\": 7, \"yref\": \"y\"}, {\"font\": {\"color\": \"black\"}, \"showarrow\": false, \"text\": \"Sales Enablement Maturity Model\", \"x\": 5, \"xref\": \"x\", \"y\": 7, \"yref\": \"y\"}, {\"font\": {\"color\": \"black\"}, \"showarrow\": false, \"text\": \"SiriusDecisions: The Sales Enablement Range of Responsibilities Model\", \"x\": 6, \"xref\": \"x\", \"y\": 7, \"yref\": \"y\"}, {\"font\": {\"color\": \"black\"}, \"showarrow\": false, \"text\": \"Highspot Product Overview (6p)\", \"x\": 7, \"xref\": \"x\", \"y\": 7, \"yref\": \"y\"}, {\"font\": {\"color\": \"black\"}, \"showarrow\": false, \"text\": \"Seattle Skyline Pitch Experience\", \"x\": 8, \"xref\": \"x\", \"y\": 7, \"yref\": \"y\"}, {\"font\": {\"color\": \"black\"}, \"showarrow\": false, \"text\": \"Seattle Skyline Pitch Experience\", \"x\": 0, \"xref\": \"x\", \"y\": 8, \"yref\": \"y\"}, {\"font\": {\"color\": \"black\"}, \"showarrow\": false, \"text\": \"Highspot Product Overview (6p)\", \"x\": 1, \"xref\": \"x\", \"y\": 8, \"yref\": \"y\"}, {\"font\": {\"color\": \"black\"}, \"showarrow\": false, \"text\": \"Best Practices for Sales Playbooks Report\", \"x\": 2, \"xref\": \"x\", \"y\": 8, \"yref\": \"y\"}, {\"font\": {\"color\": \"black\"}, \"showarrow\": false, \"text\": \"Highspot Product Overview (6p)\", \"x\": 3, \"xref\": \"x\", \"y\": 8, \"yref\": \"y\"}, {\"font\": {\"color\": \"black\"}, \"showarrow\": false, \"text\": \"Content List with Hero Banner\", \"x\": 4, \"xref\": \"x\", \"y\": 8, \"yref\": \"y\"}, {\"font\": {\"color\": \"black\"}, \"showarrow\": false, \"text\": \"Highspot Product Overview (6p)\", \"x\": 5, \"xref\": \"x\", \"y\": 8, \"yref\": \"y\"}, {\"font\": {\"color\": \"black\"}, \"showarrow\": false, \"text\": \"Content List with Hero Banner\", \"x\": 6, \"xref\": \"x\", \"y\": 8, \"yref\": \"y\"}, {\"font\": {\"color\": \"black\"}, \"showarrow\": false, \"text\": \"#Love Pitch Experience\", \"x\": 7, \"xref\": \"x\", \"y\": 8, \"yref\": \"y\"}, {\"font\": {\"color\": \"black\"}, \"showarrow\": false, \"text\": \"Content List with Hero Banner\", \"x\": 8, \"xref\": \"x\", \"y\": 8, \"yref\": \"y\"}, {\"font\": {\"color\": \"black\"}, \"showarrow\": false, \"text\": \"Highspot Product Overview (6p)\", \"x\": 0, \"xref\": \"x\", \"y\": 9, \"yref\": \"y\"}, {\"font\": {\"color\": \"black\"}, \"showarrow\": false, \"text\": \"Content List with Hero Banner\", \"x\": 1, \"xref\": \"x\", \"y\": 9, \"yref\": \"y\"}, {\"font\": {\"color\": \"black\"}, \"showarrow\": false, \"text\": \"Webinar: Building Your Content Mapping Plan\", \"x\": 2, \"xref\": \"x\", \"y\": 9, \"yref\": \"y\"}, {\"font\": {\"color\": \"black\"}, \"showarrow\": false, \"text\": \"SiriusDecisions: The Sales Enablement Range of Responsibilities Model\", \"x\": 3, \"xref\": \"x\", \"y\": 9, \"yref\": \"y\"}, {\"font\": {\"color\": \"black\"}, \"showarrow\": false, \"text\": \"Highspot Product Overview (6p)\", \"x\": 4, \"xref\": \"x\", \"y\": 9, \"yref\": \"y\"}, {\"font\": {\"color\": \"black\"}, \"showarrow\": false, \"text\": \"Content List with Hero Banner\", \"x\": 5, \"xref\": \"x\", \"y\": 9, \"yref\": \"y\"}, {\"font\": {\"color\": \"black\"}, \"showarrow\": false, \"text\": \"Highspot Product Overview (6p)\", \"x\": 6, \"xref\": \"x\", \"y\": 9, \"yref\": \"y\"}, {\"font\": {\"color\": \"black\"}, \"showarrow\": false, \"text\": \"Content List with Hero Banner\", \"x\": 7, \"xref\": \"x\", \"y\": 9, \"yref\": \"y\"}, {\"font\": {\"color\": \"black\"}, \"showarrow\": false, \"text\": \"Highspot Information Security\", \"x\": 8, \"xref\": \"x\", \"y\": 9, \"yref\": \"y\"}], \"xaxis\": {\"gridcolor\": \"rgb(0, 0, 0)\", \"showticklabels\": false, \"side\": \"top\", \"ticks\": \"\", \"showgrid\": false, \"showline\": false, \"zeroline\": false}, \"yaxis\": {\"showticklabels\": false, \"ticks\": \"\", \"ticksuffix\": \"  \", \"showgrid\": false, \"showline\": false, \"zeroline\": false}, \"title\": {\"text\": \"Periodic Table\"}, \"height\": 1500, \"width\": 3000}, {\"showLink\": false, \"linkText\": \"Export to plot.ly\", \"plotlyServerURL\": \"https://plot.ly\"}); \n",
       "}\n",
       "});</script>"
      ]
     },
     "metadata": {},
     "output_type": "display_data"
    },
    {
     "data": {
      "text/plain": [
       "'file:///Users/amin.derakhshi/Documents/Content Engagement/temp-plot.html'"
      ]
     },
     "execution_count": 50,
     "metadata": {},
     "output_type": "execute_result"
    }
   ],
   "source": [
    "# Add Periodic Table Data\n",
    "symbol = top_viewed_names\n",
    "\n",
    "element = top_viewed_pitches\n",
    "\n",
    "atomic_mass = top_viewed_views\n",
    "\n",
    "z = top_viewed_v2p\n",
    "\n",
    "# Display element name and atomic mass on hover\n",
    "hover=list(range(len(symbol)))\n",
    "for x in range(len(symbol)):\n",
    "    hover[x] = ['Pitches: ' + str(i) + '<br>' + 'Views: ' + str(j) for i, j in zip(element[x], atomic_mass[x])]\n",
    "\n",
    "# Invert Matrices\n",
    "symbol = symbol[::-1]\n",
    "hover = hover[::-1]\n",
    "z = z[::-1]\n",
    "\n",
    "# Set Colorscale\n",
    "colorscale='RdBu'\n",
    "\n",
    "# Make Annotated Heatmap\n",
    "pt = ff.create_annotated_heatmap(z, annotation_text=symbol, text=hover,\n",
    "                                 colorscale=colorscale, font_colors=['black'], hoverinfo='text')\n",
    "pt.layout.title = 'Periodic Table'\n",
    "\n",
    "pt.layout.height=1500\n",
    "pt.layout.width=3000\n",
    "\n",
    "pt.layout.xaxis.showgrid=False\n",
    "pt.layout.yaxis.showgrid=False\n",
    "pt.layout.xaxis.showline=False\n",
    "pt.layout.yaxis.showline=False\n",
    "pt.layout.xaxis.zeroline=False\n",
    "pt.layout.yaxis.zeroline=False\n",
    "\n",
    "\n",
    "iplot(pt)\n",
    "\n",
    "plot(pt)"
   ]
  },
  {
   "cell_type": "code",
   "execution_count": 43,
   "metadata": {},
   "outputs": [
    {
     "name": "stdout",
     "output_type": "stream",
     "text": [
      "Help on function create_annotated_heatmap in module plotly.figure_factory._annotated_heatmap:\n",
      "\n",
      "create_annotated_heatmap(z, x=None, y=None, annotation_text=None, colorscale='RdBu', font_colors=None, showscale=False, reversescale=False, **kwargs)\n",
      "    BETA function that creates annotated heatmaps\n",
      "    \n",
      "    This function adds annotations to each cell of the heatmap.\n",
      "    \n",
      "    :param (list[list]|ndarray) z: z matrix to create heatmap.\n",
      "    :param (list) x: x axis labels.\n",
      "    :param (list) y: y axis labels.\n",
      "    :param (list[list]|ndarray) annotation_text: Text strings for\n",
      "        annotations. Should have the same dimensions as the z matrix. If no\n",
      "        text is added, the values of the z matrix are annotated. Default =\n",
      "        z matrix values.\n",
      "    :param (list|str) colorscale: heatmap colorscale.\n",
      "    :param (list) font_colors: List of two color strings: [min_text_color,\n",
      "        max_text_color] where min_text_color is applied to annotations for\n",
      "        heatmap values < (max_value - min_value)/2. If font_colors is not\n",
      "        defined, the colors are defined logically as black or white\n",
      "        depending on the heatmap's colorscale.\n",
      "    :param (bool) showscale: Display colorscale. Default = False\n",
      "    :param (bool) reversescale: Reverse colorscale. Default = False\n",
      "    :param kwargs: kwargs passed through plotly.graph_objs.Heatmap.\n",
      "        These kwargs describe other attributes about the annotated Heatmap\n",
      "        trace such as the colorscale. For more information on valid kwargs\n",
      "        call help(plotly.graph_objs.Heatmap)\n",
      "    \n",
      "    Example 1: Simple annotated heatmap with default configuration\n",
      "    ```\n",
      "    import plotly.plotly as py\n",
      "    import plotly.figure_factory as FF\n",
      "    \n",
      "    z = [[0.300000, 0.00000, 0.65, 0.300000],\n",
      "         [1, 0.100005, 0.45, 0.4300],\n",
      "         [0.300000, 0.00000, 0.65, 0.300000],\n",
      "         [1, 0.100005, 0.45, 0.00000]]\n",
      "    \n",
      "    figure = FF.create_annotated_heatmap(z)\n",
      "    py.iplot(figure)\n",
      "    ```\n",
      "\n"
     ]
    }
   ],
   "source": [
    "help(ff.create_annotated_heatmap)"
   ]
  },
  {
   "cell_type": "code",
   "execution_count": null,
   "metadata": {},
   "outputs": [],
   "source": []
  }
 ],
 "metadata": {
  "kernelspec": {
   "display_name": "Python 3",
   "language": "python",
   "name": "python3"
  },
  "language_info": {
   "codemirror_mode": {
    "name": "ipython",
    "version": 3
   },
   "file_extension": ".py",
   "mimetype": "text/x-python",
   "name": "python",
   "nbconvert_exporter": "python",
   "pygments_lexer": "ipython3",
   "version": "3.7.1"
  }
 },
 "nbformat": 4,
 "nbformat_minor": 2
}
