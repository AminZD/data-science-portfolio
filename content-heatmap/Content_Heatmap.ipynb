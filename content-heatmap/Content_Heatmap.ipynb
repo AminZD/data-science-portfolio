{
 "cells": [
  {
   "cell_type": "markdown",
   "metadata": {},
   "source": [
    "# Buyers Journey Content Heat Map\n",
    "\n",
    "**Disclaimer:** *This work is based on a project I did for Highspot. I use simulated data since I cannot share or distribute any company data or information*\n",
    "\n",
    "Buyers undergo multiple stages before they make a purchase: they first become aware of a product; then they show interest in the product; next they get invloved is seeking information regarding the product; and finally, they purchase the product. One notable framework explaining this buyers journey is the AIDA model. Things get pretty complicated in the B2B world (where the customers are businesses), but the framework is pretty much the same. There, the marketing and sales teams use a slightly complex framework to target the potential customers more effectively. The framework they use is generally referred to as sales (or marketing, or B2B lead) funnel. The concept varies from one company to another; the framework, however, is pretty much similar and includes the following stages:\n",
    "\n",
    "- Prospect\n",
    "- MQL\n",
    "- SQL\n",
    "- Opportunity\n",
    "- Closed Won/ Lost/ No Decision\n",
    "\n",
    "As mentioned earlier, the model used in many companies is more complicated and has more stages; however, the analysis is the same regardless of the particular model or the number of stages.\n",
    "\n",
    "The sales team uses the content (generally created by the marketing team) to target each portential customer and then monitor they engagement with the content. Using the content for such purposes is generally referred to as *pitching*. The Highspot platform makes is possible to track the engagement with the content using the four metrics of *opened*, *viewed*, *shared* and *downloaded*. The higher the ratio of each of the metrics to the number of pitches, the more potential customers are engaged with the content. Therefore, we decided to calculated the ratio for all of the content and use it as a measure of the engagement with that item."
   ]
  },
  {
   "cell_type": "code",
   "execution_count": 1,
   "metadata": {},
   "outputs": [
    {
     "data": {
      "text/html": [
       "<script type=\"text/javascript\">window.PlotlyConfig = {MathJaxConfig: 'local'};</script><script type=\"text/javascript\">if (window.MathJax) {MathJax.Hub.Config({SVG: {font: \"STIX-Web\"}});}</script><script>requirejs.config({paths: { 'plotly': ['https://cdn.plot.ly/plotly-latest.min']},});if(!window._Plotly) {require(['plotly'],function(plotly) {window._Plotly=plotly;});}</script>"
      ],
      "text/vnd.plotly.v1+html": [
       "<script type=\"text/javascript\">window.PlotlyConfig = {MathJaxConfig: 'local'};</script><script type=\"text/javascript\">if (window.MathJax) {MathJax.Hub.Config({SVG: {font: \"STIX-Web\"}});}</script><script>requirejs.config({paths: { 'plotly': ['https://cdn.plot.ly/plotly-latest.min']},});if(!window._Plotly) {require(['plotly'],function(plotly) {window._Plotly=plotly;});}</script>"
      ]
     },
     "metadata": {},
     "output_type": "display_data"
    }
   ],
   "source": [
    "# importing necessary libraries\n",
    "import numpy as np\n",
    "import pandas as pd\n",
    "import matplotlib.pyplot as plt\n",
    "import seaborn as sns\n",
    "import plotly.graph_objs as go\n",
    "import plotly.figure_factory as ff\n",
    "import plotly.tools as tls\n",
    "import plotly.io as pio\n",
    "import os\n",
    "\n",
    "from matplotlib.colors import ListedColormap\n",
    "from plotly.offline import init_notebook_mode, iplot, plot\n",
    "from IPython.display import Image, display\n",
    "\n",
    "\n",
    "# settings\n",
    "pd.set_option('display.max_columns', None)\n",
    "plt.tight_layout()\n",
    "sns.set_style(\"whitegrid\")\n",
    "init_notebook_mode(connected=True)\n",
    "\n",
    "%matplotlib inline\n",
    "%config InlineBackend.figure_format = 'retina'\n",
    "\n",
    "\n",
    "# creating a directory for images\n",
    "if not os.path.exists('images'):\n",
    "    os.mkdir('images')\n",
    "\n",
    "color = '#298DE1'  # Highspot color\n",
    "scale = 2  # scale for saving images"
   ]
  },
  {
   "cell_type": "code",
   "execution_count": 2,
   "metadata": {},
   "outputs": [
    {
     "data": {
      "text/html": [
       "<div>\n",
       "<style scoped>\n",
       "    .dataframe tbody tr th:only-of-type {\n",
       "        vertical-align: middle;\n",
       "    }\n",
       "\n",
       "    .dataframe tbody tr th {\n",
       "        vertical-align: top;\n",
       "    }\n",
       "\n",
       "    .dataframe thead th {\n",
       "        text-align: right;\n",
       "    }\n",
       "</style>\n",
       "<table border=\"1\" class=\"dataframe\">\n",
       "  <thead>\n",
       "    <tr style=\"text-align: right;\">\n",
       "      <th></th>\n",
       "      <th>item_name</th>\n",
       "      <th>stage</th>\n",
       "      <th>pitches</th>\n",
       "      <th>views</th>\n",
       "    </tr>\n",
       "  </thead>\n",
       "  <tbody>\n",
       "    <tr>\n",
       "      <th>110</th>\n",
       "      <td>Item 10</td>\n",
       "      <td>MQL</td>\n",
       "      <td>32</td>\n",
       "      <td>33</td>\n",
       "    </tr>\n",
       "    <tr>\n",
       "      <th>13</th>\n",
       "      <td>Item 13</td>\n",
       "      <td>Prospect</td>\n",
       "      <td>49</td>\n",
       "      <td>30</td>\n",
       "    </tr>\n",
       "    <tr>\n",
       "      <th>465</th>\n",
       "      <td>Item 65</td>\n",
       "      <td>Closed Won</td>\n",
       "      <td>7</td>\n",
       "      <td>10</td>\n",
       "    </tr>\n",
       "    <tr>\n",
       "      <th>144</th>\n",
       "      <td>Item 44</td>\n",
       "      <td>MQL</td>\n",
       "      <td>43</td>\n",
       "      <td>27</td>\n",
       "    </tr>\n",
       "    <tr>\n",
       "      <th>192</th>\n",
       "      <td>Item 92</td>\n",
       "      <td>MQL</td>\n",
       "      <td>34</td>\n",
       "      <td>31</td>\n",
       "    </tr>\n",
       "  </tbody>\n",
       "</table>\n",
       "</div>"
      ],
      "text/plain": [
       "    item_name       stage  pitches  views\n",
       "110   Item 10         MQL       32     33\n",
       "13    Item 13    Prospect       49     30\n",
       "465   Item 65  Closed Won        7     10\n",
       "144   Item 44         MQL       43     27\n",
       "192   Item 92         MQL       34     31"
      ]
     },
     "execution_count": 2,
     "metadata": {},
     "output_type": "execute_result"
    }
   ],
   "source": [
    "# generate data\n",
    "n = 100  # number of items\n",
    "\n",
    "item_names = 'Item ' + \\\n",
    "    pd.Series(np.arange(n), name='item_name').astype(str)  # item names\n",
    "item_names = pd.concat([item_names]*5, ignore_index=True)\n",
    "\n",
    "stages = pd.Series(\n",
    "    ['Prospect', 'MQL', 'SQL', 'Opportunity', 'Closed Won'],\n",
    "    name='stage').repeat(n).reset_index(drop=True)\n",
    "\n",
    "lambdas_pitches = np.arange(50, 9, -10)\n",
    "lambdas_views = np.arange(30, 9, -5)\n",
    "pitches = pd.Series(\n",
    "    np.random.poisson(lambdas_pitches, (n, 5)).flatten(order='F'), name='pitches')\n",
    "views = pd.Series(\n",
    "    np.random.poisson(lambdas_views, (n, 5)).flatten(order='F'), name='views')\n",
    "\n",
    "df = pd.concat([item_names, stages, pitches, views],\n",
    "               axis=1)\n",
    "\n",
    "df.sample(5)"
   ]
  },
  {
   "cell_type": "code",
   "execution_count": 3,
   "metadata": {},
   "outputs": [],
   "source": [
    "df['view2pitch_ratio'] = df['views']/df['pitches']"
   ]
  },
  {
   "cell_type": "code",
   "execution_count": 4,
   "metadata": {
    "scrolled": true
   },
   "outputs": [],
   "source": [
    "# engage_stat['ContactStatus'].unique()\n",
    "\n",
    "stages = ['Prospect', 'MQL', 'SQL', 'Opportunity', 'Closed Won']\n",
    "\n",
    "top_pitched_names = np.chararray(\n",
    "    (10, len(stages)), itemsize=n, unicode=True)\n",
    "top_pitched_pitches = np.empty([10, len(stages)])\n",
    "top_pitched_views = np.empty([10, len(stages)])\n",
    "top_pitched_v2p = np.empty([10, len(stages)])\n",
    "\n",
    "\n",
    "for stage in stages:\n",
    "    i = stages.index(stage)\n",
    "    top_pitched = df[df['stage'] == stage].sort_values(\n",
    "        by='pitches', ascending=False)[:10]\n",
    "    top_pitched_names[:, i] = top_pitched['item_name'].values\n",
    "    top_pitched_pitches[:, i] = top_pitched['pitches'].values\n",
    "    top_pitched_views[:, i] = top_pitched['views'].values\n",
    "    top_pitched_v2p[:, i] = top_pitched['view2pitch_ratio'].values"
   ]
  },
  {
   "cell_type": "code",
   "execution_count": 8,
   "metadata": {
    "scrolled": false
   },
   "outputs": [
    {
     "data": {
      "application/vnd.plotly.v1+json": {
       "config": {
        "linkText": "Export to plot.ly",
        "plotlyServerURL": "https://plot.ly",
        "showLink": false
       },
       "data": [
        {
         "colorscale": [
          [
           0,
           "#0f7f3f"
          ],
          [
           0.5,
           "#ffff0f"
          ],
          [
           1,
           "#bf0f0f"
          ]
         ],
         "hoverinfo": "text",
         "reversescale": false,
         "showscale": true,
         "text": [
          [
           "Pitches: 75<br>Views: 31<br>V2P: 0.41",
           "Pitches: 63<br>Views: 25<br>V2P: 0.4",
           "Pitches: 47<br>Views: 15<br>V2P: 0.32",
           "Pitches: 31<br>Views: 12<br>V2P: 0.39",
           "Pitches: 21<br>Views: 9<br>V2P: 0.43"
          ],
          [
           "Pitches: 74<br>Views: 21<br>V2P: 0.28",
           "Pitches: 58<br>Views: 34<br>V2P: 0.59",
           "Pitches: 45<br>Views: 18<br>V2P: 0.4",
           "Pitches: 30<br>Views: 18<br>V2P: 0.6",
           "Pitches: 17<br>Views: 8<br>V2P: 0.47"
          ],
          [
           "Pitches: 73<br>Views: 24<br>V2P: 0.33",
           "Pitches: 55<br>Views: 25<br>V2P: 0.45",
           "Pitches: 39<br>Views: 21<br>V2P: 0.54",
           "Pitches: 30<br>Views: 14<br>V2P: 0.47",
           "Pitches: 17<br>Views: 10<br>V2P: 0.59"
          ],
          [
           "Pitches: 64<br>Views: 22<br>V2P: 0.34",
           "Pitches: 54<br>Views: 21<br>V2P: 0.39",
           "Pitches: 39<br>Views: 25<br>V2P: 0.64",
           "Pitches: 30<br>Views: 12<br>V2P: 0.4",
           "Pitches: 17<br>Views: 8<br>V2P: 0.47"
          ],
          [
           "Pitches: 63<br>Views: 29<br>V2P: 0.46",
           "Pitches: 54<br>Views: 18<br>V2P: 0.33",
           "Pitches: 38<br>Views: 16<br>V2P: 0.42",
           "Pitches: 29<br>Views: 11<br>V2P: 0.38",
           "Pitches: 16<br>Views: 10<br>V2P: 0.62"
          ],
          [
           "Pitches: 63<br>Views: 29<br>V2P: 0.46",
           "Pitches: 54<br>Views: 30<br>V2P: 0.56",
           "Pitches: 38<br>Views: 18<br>V2P: 0.47",
           "Pitches: 28<br>Views: 15<br>V2P: 0.54",
           "Pitches: 16<br>Views: 9<br>V2P: 0.56"
          ],
          [
           "Pitches: 61<br>Views: 30<br>V2P: 0.49",
           "Pitches: 53<br>Views: 26<br>V2P: 0.49",
           "Pitches: 38<br>Views: 20<br>V2P: 0.53",
           "Pitches: 28<br>Views: 17<br>V2P: 0.61",
           "Pitches: 16<br>Views: 11<br>V2P: 0.69"
          ],
          [
           "Pitches: 61<br>Views: 19<br>V2P: 0.31",
           "Pitches: 52<br>Views: 23<br>V2P: 0.44",
           "Pitches: 36<br>Views: 22<br>V2P: 0.61",
           "Pitches: 27<br>Views: 17<br>V2P: 0.63",
           "Pitches: 15<br>Views: 11<br>V2P: 0.73"
          ],
          [
           "Pitches: 61<br>Views: 33<br>V2P: 0.54",
           "Pitches: 51<br>Views: 21<br>V2P: 0.41",
           "Pitches: 36<br>Views: 22<br>V2P: 0.61",
           "Pitches: 27<br>Views: 16<br>V2P: 0.59",
           "Pitches: 15<br>Views: 8<br>V2P: 0.53"
          ],
          [
           "Pitches: 61<br>Views: 33<br>V2P: 0.54",
           "Pitches: 50<br>Views: 17<br>V2P: 0.34",
           "Pitches: 36<br>Views: 19<br>V2P: 0.53",
           "Pitches: 27<br>Views: 18<br>V2P: 0.67",
           "Pitches: 15<br>Views: 11<br>V2P: 0.73"
          ]
         ],
         "type": "heatmap",
         "uid": "b6dcb8d6-e18e-4f69-b12d-f020b828998f",
         "x": [
          "Prospect",
          "MQL",
          "SQL",
          "Opportunity",
          "Closed Won"
         ],
         "xgap": 1,
         "y": [
          1,
          2,
          3,
          4,
          5,
          6,
          7,
          8,
          9,
          10
         ],
         "ygap": 1,
         "z": [
          [
           0.41333333333333333,
           0.3968253968253968,
           0.3191489361702128,
           0.3870967741935484,
           0.42857142857142855
          ],
          [
           0.28378378378378377,
           0.5862068965517241,
           0.4,
           0.6,
           0.47058823529411764
          ],
          [
           0.3287671232876712,
           0.45454545454545453,
           0.5384615384615384,
           0.4666666666666667,
           0.5882352941176471
          ],
          [
           0.34375,
           0.3888888888888889,
           0.6410256410256411,
           0.4,
           0.47058823529411764
          ],
          [
           0.4603174603174603,
           0.3333333333333333,
           0.42105263157894735,
           0.3793103448275862,
           0.625
          ],
          [
           0.4603174603174603,
           0.5555555555555556,
           0.47368421052631576,
           0.5357142857142857,
           0.5625
          ],
          [
           0.4918032786885246,
           0.49056603773584906,
           0.5263157894736842,
           0.6071428571428571,
           0.6875
          ],
          [
           0.3114754098360656,
           0.4423076923076923,
           0.6111111111111112,
           0.6296296296296297,
           0.7333333333333333
          ],
          [
           0.5409836065573771,
           0.4117647058823529,
           0.6111111111111112,
           0.5925925925925926,
           0.5333333333333333
          ],
          [
           0.5409836065573771,
           0.34,
           0.5277777777777778,
           0.6666666666666666,
           0.7333333333333333
          ]
         ],
         "zmax": 1,
         "zmin": 0
        }
       ],
       "layout": {
        "annotations": [
         {
          "font": {
           "color": "black"
          },
          "showarrow": false,
          "text": "Item 95",
          "x": "Prospect",
          "xref": "x",
          "y": 1,
          "yref": "y"
         },
         {
          "font": {
           "color": "black"
          },
          "showarrow": false,
          "text": "Item 79",
          "x": "MQL",
          "xref": "x",
          "y": 1,
          "yref": "y"
         },
         {
          "font": {
           "color": "black"
          },
          "showarrow": false,
          "text": "Item 3",
          "x": "SQL",
          "xref": "x",
          "y": 1,
          "yref": "y"
         },
         {
          "font": {
           "color": "black"
          },
          "showarrow": false,
          "text": "Item 56",
          "x": "Opportunity",
          "xref": "x",
          "y": 1,
          "yref": "y"
         },
         {
          "font": {
           "color": "black"
          },
          "showarrow": false,
          "text": "Item 88",
          "x": "Closed Won",
          "xref": "x",
          "y": 1,
          "yref": "y"
         },
         {
          "font": {
           "color": "black"
          },
          "showarrow": false,
          "text": "Item 59",
          "x": "Prospect",
          "xref": "x",
          "y": 2,
          "yref": "y"
         },
         {
          "font": {
           "color": "black"
          },
          "showarrow": false,
          "text": "Item 75",
          "x": "MQL",
          "xref": "x",
          "y": 2,
          "yref": "y"
         },
         {
          "font": {
           "color": "black"
          },
          "showarrow": false,
          "text": "Item 15",
          "x": "SQL",
          "xref": "x",
          "y": 2,
          "yref": "y"
         },
         {
          "font": {
           "color": "black"
          },
          "showarrow": false,
          "text": "Item 76",
          "x": "Opportunity",
          "xref": "x",
          "y": 2,
          "yref": "y"
         },
         {
          "font": {
           "color": "black"
          },
          "showarrow": false,
          "text": "Item 6",
          "x": "Closed Won",
          "xref": "x",
          "y": 2,
          "yref": "y"
         },
         {
          "font": {
           "color": "black"
          },
          "showarrow": false,
          "text": "Item 37",
          "x": "Prospect",
          "xref": "x",
          "y": 3,
          "yref": "y"
         },
         {
          "font": {
           "color": "black"
          },
          "showarrow": false,
          "text": "Item 83",
          "x": "MQL",
          "xref": "x",
          "y": 3,
          "yref": "y"
         },
         {
          "font": {
           "color": "black"
          },
          "showarrow": false,
          "text": "Item 4",
          "x": "SQL",
          "xref": "x",
          "y": 3,
          "yref": "y"
         },
         {
          "font": {
           "color": "black"
          },
          "showarrow": false,
          "text": "Item 89",
          "x": "Opportunity",
          "xref": "x",
          "y": 3,
          "yref": "y"
         },
         {
          "font": {
           "color": "black"
          },
          "showarrow": false,
          "text": "Item 80",
          "x": "Closed Won",
          "xref": "x",
          "y": 3,
          "yref": "y"
         },
         {
          "font": {
           "color": "black"
          },
          "showarrow": false,
          "text": "Item 2",
          "x": "Prospect",
          "xref": "x",
          "y": 4,
          "yref": "y"
         },
         {
          "font": {
           "color": "black"
          },
          "showarrow": false,
          "text": "Item 98",
          "x": "MQL",
          "xref": "x",
          "y": 4,
          "yref": "y"
         },
         {
          "font": {
           "color": "black"
          },
          "showarrow": false,
          "text": "Item 67",
          "x": "SQL",
          "xref": "x",
          "y": 4,
          "yref": "y"
         },
         {
          "font": {
           "color": "black"
          },
          "showarrow": false,
          "text": "Item 12",
          "x": "Opportunity",
          "xref": "x",
          "y": 4,
          "yref": "y"
         },
         {
          "font": {
           "color": "black"
          },
          "showarrow": false,
          "text": "Item 87",
          "x": "Closed Won",
          "xref": "x",
          "y": 4,
          "yref": "y"
         },
         {
          "font": {
           "color": "black"
          },
          "showarrow": false,
          "text": "Item 1",
          "x": "Prospect",
          "xref": "x",
          "y": 5,
          "yref": "y"
         },
         {
          "font": {
           "color": "black"
          },
          "showarrow": false,
          "text": "Item 41",
          "x": "MQL",
          "xref": "x",
          "y": 5,
          "yref": "y"
         },
         {
          "font": {
           "color": "black"
          },
          "showarrow": false,
          "text": "Item 72",
          "x": "SQL",
          "xref": "x",
          "y": 5,
          "yref": "y"
         },
         {
          "font": {
           "color": "black"
          },
          "showarrow": false,
          "text": "Item 62",
          "x": "Opportunity",
          "xref": "x",
          "y": 5,
          "yref": "y"
         },
         {
          "font": {
           "color": "black"
          },
          "showarrow": false,
          "text": "Item 39",
          "x": "Closed Won",
          "xref": "x",
          "y": 5,
          "yref": "y"
         },
         {
          "font": {
           "color": "black"
          },
          "showarrow": false,
          "text": "Item 35",
          "x": "Prospect",
          "xref": "x",
          "y": 6,
          "yref": "y"
         },
         {
          "font": {
           "color": "black"
          },
          "showarrow": false,
          "text": "Item 77",
          "x": "MQL",
          "xref": "x",
          "y": 6,
          "yref": "y"
         },
         {
          "font": {
           "color": "black"
          },
          "showarrow": false,
          "text": "Item 42",
          "x": "SQL",
          "xref": "x",
          "y": 6,
          "yref": "y"
         },
         {
          "font": {
           "color": "black"
          },
          "showarrow": false,
          "text": "Item 26",
          "x": "Opportunity",
          "xref": "x",
          "y": 6,
          "yref": "y"
         },
         {
          "font": {
           "color": "black"
          },
          "showarrow": false,
          "text": "Item 68",
          "x": "Closed Won",
          "xref": "x",
          "y": 6,
          "yref": "y"
         },
         {
          "font": {
           "color": "black"
          },
          "showarrow": false,
          "text": "Item 7",
          "x": "Prospect",
          "xref": "x",
          "y": 7,
          "yref": "y"
         },
         {
          "font": {
           "color": "black"
          },
          "showarrow": false,
          "text": "Item 70",
          "x": "MQL",
          "xref": "x",
          "y": 7,
          "yref": "y"
         },
         {
          "font": {
           "color": "black"
          },
          "showarrow": false,
          "text": "Item 56",
          "x": "SQL",
          "xref": "x",
          "y": 7,
          "yref": "y"
         },
         {
          "font": {
           "color": "black"
          },
          "showarrow": false,
          "text": "Item 35",
          "x": "Opportunity",
          "xref": "x",
          "y": 7,
          "yref": "y"
         },
         {
          "font": {
           "color": "black"
          },
          "showarrow": false,
          "text": "Item 31",
          "x": "Closed Won",
          "xref": "x",
          "y": 7,
          "yref": "y"
         },
         {
          "font": {
           "color": "black"
          },
          "showarrow": false,
          "text": "Item 40",
          "x": "Prospect",
          "xref": "x",
          "y": 8,
          "yref": "y"
         },
         {
          "font": {
           "color": "black"
          },
          "showarrow": false,
          "text": "Item 11",
          "x": "MQL",
          "xref": "x",
          "y": 8,
          "yref": "y"
         },
         {
          "font": {
           "color": "black"
          },
          "showarrow": false,
          "text": "Item 65",
          "x": "SQL",
          "xref": "x",
          "y": 8,
          "yref": "y"
         },
         {
          "font": {
           "color": "black"
          },
          "showarrow": false,
          "text": "Item 63",
          "x": "Opportunity",
          "xref": "x",
          "y": 8,
          "yref": "y"
         },
         {
          "font": {
           "color": "black"
          },
          "showarrow": false,
          "text": "Item 89",
          "x": "Closed Won",
          "xref": "x",
          "y": 8,
          "yref": "y"
         },
         {
          "font": {
           "color": "black"
          },
          "showarrow": false,
          "text": "Item 89",
          "x": "Prospect",
          "xref": "x",
          "y": 9,
          "yref": "y"
         },
         {
          "font": {
           "color": "black"
          },
          "showarrow": false,
          "text": "Item 56",
          "x": "MQL",
          "xref": "x",
          "y": 9,
          "yref": "y"
         },
         {
          "font": {
           "color": "black"
          },
          "showarrow": false,
          "text": "Item 80",
          "x": "SQL",
          "xref": "x",
          "y": 9,
          "yref": "y"
         },
         {
          "font": {
           "color": "black"
          },
          "showarrow": false,
          "text": "Item 95",
          "x": "Opportunity",
          "xref": "x",
          "y": 9,
          "yref": "y"
         },
         {
          "font": {
           "color": "black"
          },
          "showarrow": false,
          "text": "Item 51",
          "x": "Closed Won",
          "xref": "x",
          "y": 9,
          "yref": "y"
         },
         {
          "font": {
           "color": "black"
          },
          "showarrow": false,
          "text": "Item 31",
          "x": "Prospect",
          "xref": "x",
          "y": 10,
          "yref": "y"
         },
         {
          "font": {
           "color": "black"
          },
          "showarrow": false,
          "text": "Item 37",
          "x": "MQL",
          "xref": "x",
          "y": 10,
          "yref": "y"
         },
         {
          "font": {
           "color": "black"
          },
          "showarrow": false,
          "text": "Item 66",
          "x": "SQL",
          "xref": "x",
          "y": 10,
          "yref": "y"
         },
         {
          "font": {
           "color": "black"
          },
          "showarrow": false,
          "text": "Item 77",
          "x": "Opportunity",
          "xref": "x",
          "y": 10,
          "yref": "y"
         },
         {
          "font": {
           "color": "black"
          },
          "showarrow": false,
          "text": "Item 5",
          "x": "Closed Won",
          "xref": "x",
          "y": 10,
          "yref": "y"
         }
        ],
        "height": 700,
        "title": {
         "text": "Content Heatmap"
        },
        "width": 1000,
        "xaxis": {
         "dtick": 1,
         "gridcolor": "rgb(0, 0, 0)",
         "showgrid": false,
         "showline": false,
         "side": "top",
         "ticks": "",
         "zeroline": false
        },
        "yaxis": {
         "autorange": "reversed",
         "dtick": 1,
         "showgrid": false,
         "showline": false,
         "ticks": "",
         "ticksuffix": "  ",
         "title": {
          "text": "Most pitched items"
         },
         "zeroline": false
        }
       }
      },
      "text/html": [
       "<div id=\"14223c79-42e1-4076-8410-22561e050dba\" style=\"height: 700px; width: 1000px;\" class=\"plotly-graph-div\"></div><script type=\"text/javascript\">require([\"plotly\"], function(Plotly) { window.PLOTLYENV=window.PLOTLYENV || {};window.PLOTLYENV.BASE_URL=\"https://plot.ly\";\n",
       "if (document.getElementById(\"14223c79-42e1-4076-8410-22561e050dba\")) {\n",
       "    Plotly.newPlot(\"14223c79-42e1-4076-8410-22561e050dba\", [{\"colorscale\": [[0, \"#0f7f3f\"], [0.5, \"#ffff0f\"], [1, \"#bf0f0f\"]], \"hoverinfo\": \"text\", \"reversescale\": false, \"showscale\": true, \"text\": [[\"Pitches: 75<br>Views: 31<br>V2P: 0.41\", \"Pitches: 63<br>Views: 25<br>V2P: 0.4\", \"Pitches: 47<br>Views: 15<br>V2P: 0.32\", \"Pitches: 31<br>Views: 12<br>V2P: 0.39\", \"Pitches: 21<br>Views: 9<br>V2P: 0.43\"], [\"Pitches: 74<br>Views: 21<br>V2P: 0.28\", \"Pitches: 58<br>Views: 34<br>V2P: 0.59\", \"Pitches: 45<br>Views: 18<br>V2P: 0.4\", \"Pitches: 30<br>Views: 18<br>V2P: 0.6\", \"Pitches: 17<br>Views: 8<br>V2P: 0.47\"], [\"Pitches: 73<br>Views: 24<br>V2P: 0.33\", \"Pitches: 55<br>Views: 25<br>V2P: 0.45\", \"Pitches: 39<br>Views: 21<br>V2P: 0.54\", \"Pitches: 30<br>Views: 14<br>V2P: 0.47\", \"Pitches: 17<br>Views: 10<br>V2P: 0.59\"], [\"Pitches: 64<br>Views: 22<br>V2P: 0.34\", \"Pitches: 54<br>Views: 21<br>V2P: 0.39\", \"Pitches: 39<br>Views: 25<br>V2P: 0.64\", \"Pitches: 30<br>Views: 12<br>V2P: 0.4\", \"Pitches: 17<br>Views: 8<br>V2P: 0.47\"], [\"Pitches: 63<br>Views: 29<br>V2P: 0.46\", \"Pitches: 54<br>Views: 18<br>V2P: 0.33\", \"Pitches: 38<br>Views: 16<br>V2P: 0.42\", \"Pitches: 29<br>Views: 11<br>V2P: 0.38\", \"Pitches: 16<br>Views: 10<br>V2P: 0.62\"], [\"Pitches: 63<br>Views: 29<br>V2P: 0.46\", \"Pitches: 54<br>Views: 30<br>V2P: 0.56\", \"Pitches: 38<br>Views: 18<br>V2P: 0.47\", \"Pitches: 28<br>Views: 15<br>V2P: 0.54\", \"Pitches: 16<br>Views: 9<br>V2P: 0.56\"], [\"Pitches: 61<br>Views: 30<br>V2P: 0.49\", \"Pitches: 53<br>Views: 26<br>V2P: 0.49\", \"Pitches: 38<br>Views: 20<br>V2P: 0.53\", \"Pitches: 28<br>Views: 17<br>V2P: 0.61\", \"Pitches: 16<br>Views: 11<br>V2P: 0.69\"], [\"Pitches: 61<br>Views: 19<br>V2P: 0.31\", \"Pitches: 52<br>Views: 23<br>V2P: 0.44\", \"Pitches: 36<br>Views: 22<br>V2P: 0.61\", \"Pitches: 27<br>Views: 17<br>V2P: 0.63\", \"Pitches: 15<br>Views: 11<br>V2P: 0.73\"], [\"Pitches: 61<br>Views: 33<br>V2P: 0.54\", \"Pitches: 51<br>Views: 21<br>V2P: 0.41\", \"Pitches: 36<br>Views: 22<br>V2P: 0.61\", \"Pitches: 27<br>Views: 16<br>V2P: 0.59\", \"Pitches: 15<br>Views: 8<br>V2P: 0.53\"], [\"Pitches: 61<br>Views: 33<br>V2P: 0.54\", \"Pitches: 50<br>Views: 17<br>V2P: 0.34\", \"Pitches: 36<br>Views: 19<br>V2P: 0.53\", \"Pitches: 27<br>Views: 18<br>V2P: 0.67\", \"Pitches: 15<br>Views: 11<br>V2P: 0.73\"]], \"x\": [\"Prospect\", \"MQL\", \"SQL\", \"Opportunity\", \"Closed Won\"], \"xgap\": 1, \"y\": [1, 2, 3, 4, 5, 6, 7, 8, 9, 10], \"ygap\": 1, \"z\": [[0.41333333333333333, 0.3968253968253968, 0.3191489361702128, 0.3870967741935484, 0.42857142857142855], [0.28378378378378377, 0.5862068965517241, 0.4, 0.6, 0.47058823529411764], [0.3287671232876712, 0.45454545454545453, 0.5384615384615384, 0.4666666666666667, 0.5882352941176471], [0.34375, 0.3888888888888889, 0.6410256410256411, 0.4, 0.47058823529411764], [0.4603174603174603, 0.3333333333333333, 0.42105263157894735, 0.3793103448275862, 0.625], [0.4603174603174603, 0.5555555555555556, 0.47368421052631576, 0.5357142857142857, 0.5625], [0.4918032786885246, 0.49056603773584906, 0.5263157894736842, 0.6071428571428571, 0.6875], [0.3114754098360656, 0.4423076923076923, 0.6111111111111112, 0.6296296296296297, 0.7333333333333333], [0.5409836065573771, 0.4117647058823529, 0.6111111111111112, 0.5925925925925926, 0.5333333333333333], [0.5409836065573771, 0.34, 0.5277777777777778, 0.6666666666666666, 0.7333333333333333]], \"zmax\": 1, \"zmin\": 0, \"type\": \"heatmap\", \"uid\": \"b6dcb8d6-e18e-4f69-b12d-f020b828998f\"}], {\"annotations\": [{\"font\": {\"color\": \"black\"}, \"showarrow\": false, \"text\": \"Item 95\", \"x\": \"Prospect\", \"xref\": \"x\", \"y\": 1, \"yref\": \"y\"}, {\"font\": {\"color\": \"black\"}, \"showarrow\": false, \"text\": \"Item 79\", \"x\": \"MQL\", \"xref\": \"x\", \"y\": 1, \"yref\": \"y\"}, {\"font\": {\"color\": \"black\"}, \"showarrow\": false, \"text\": \"Item 3\", \"x\": \"SQL\", \"xref\": \"x\", \"y\": 1, \"yref\": \"y\"}, {\"font\": {\"color\": \"black\"}, \"showarrow\": false, \"text\": \"Item 56\", \"x\": \"Opportunity\", \"xref\": \"x\", \"y\": 1, \"yref\": \"y\"}, {\"font\": {\"color\": \"black\"}, \"showarrow\": false, \"text\": \"Item 88\", \"x\": \"Closed Won\", \"xref\": \"x\", \"y\": 1, \"yref\": \"y\"}, {\"font\": {\"color\": \"black\"}, \"showarrow\": false, \"text\": \"Item 59\", \"x\": \"Prospect\", \"xref\": \"x\", \"y\": 2, \"yref\": \"y\"}, {\"font\": {\"color\": \"black\"}, \"showarrow\": false, \"text\": \"Item 75\", \"x\": \"MQL\", \"xref\": \"x\", \"y\": 2, \"yref\": \"y\"}, {\"font\": {\"color\": \"black\"}, \"showarrow\": false, \"text\": \"Item 15\", \"x\": \"SQL\", \"xref\": \"x\", \"y\": 2, \"yref\": \"y\"}, {\"font\": {\"color\": \"black\"}, \"showarrow\": false, \"text\": \"Item 76\", \"x\": \"Opportunity\", \"xref\": \"x\", \"y\": 2, \"yref\": \"y\"}, {\"font\": {\"color\": \"black\"}, \"showarrow\": false, \"text\": \"Item 6\", \"x\": \"Closed Won\", \"xref\": \"x\", \"y\": 2, \"yref\": \"y\"}, {\"font\": {\"color\": \"black\"}, \"showarrow\": false, \"text\": \"Item 37\", \"x\": \"Prospect\", \"xref\": \"x\", \"y\": 3, \"yref\": \"y\"}, {\"font\": {\"color\": \"black\"}, \"showarrow\": false, \"text\": \"Item 83\", \"x\": \"MQL\", \"xref\": \"x\", \"y\": 3, \"yref\": \"y\"}, {\"font\": {\"color\": \"black\"}, \"showarrow\": false, \"text\": \"Item 4\", \"x\": \"SQL\", \"xref\": \"x\", \"y\": 3, \"yref\": \"y\"}, {\"font\": {\"color\": \"black\"}, \"showarrow\": false, \"text\": \"Item 89\", \"x\": \"Opportunity\", \"xref\": \"x\", \"y\": 3, \"yref\": \"y\"}, {\"font\": {\"color\": \"black\"}, \"showarrow\": false, \"text\": \"Item 80\", \"x\": \"Closed Won\", \"xref\": \"x\", \"y\": 3, \"yref\": \"y\"}, {\"font\": {\"color\": \"black\"}, \"showarrow\": false, \"text\": \"Item 2\", \"x\": \"Prospect\", \"xref\": \"x\", \"y\": 4, \"yref\": \"y\"}, {\"font\": {\"color\": \"black\"}, \"showarrow\": false, \"text\": \"Item 98\", \"x\": \"MQL\", \"xref\": \"x\", \"y\": 4, \"yref\": \"y\"}, {\"font\": {\"color\": \"black\"}, \"showarrow\": false, \"text\": \"Item 67\", \"x\": \"SQL\", \"xref\": \"x\", \"y\": 4, \"yref\": \"y\"}, {\"font\": {\"color\": \"black\"}, \"showarrow\": false, \"text\": \"Item 12\", \"x\": \"Opportunity\", \"xref\": \"x\", \"y\": 4, \"yref\": \"y\"}, {\"font\": {\"color\": \"black\"}, \"showarrow\": false, \"text\": \"Item 87\", \"x\": \"Closed Won\", \"xref\": \"x\", \"y\": 4, \"yref\": \"y\"}, {\"font\": {\"color\": \"black\"}, \"showarrow\": false, \"text\": \"Item 1\", \"x\": \"Prospect\", \"xref\": \"x\", \"y\": 5, \"yref\": \"y\"}, {\"font\": {\"color\": \"black\"}, \"showarrow\": false, \"text\": \"Item 41\", \"x\": \"MQL\", \"xref\": \"x\", \"y\": 5, \"yref\": \"y\"}, {\"font\": {\"color\": \"black\"}, \"showarrow\": false, \"text\": \"Item 72\", \"x\": \"SQL\", \"xref\": \"x\", \"y\": 5, \"yref\": \"y\"}, {\"font\": {\"color\": \"black\"}, \"showarrow\": false, \"text\": \"Item 62\", \"x\": \"Opportunity\", \"xref\": \"x\", \"y\": 5, \"yref\": \"y\"}, {\"font\": {\"color\": \"black\"}, \"showarrow\": false, \"text\": \"Item 39\", \"x\": \"Closed Won\", \"xref\": \"x\", \"y\": 5, \"yref\": \"y\"}, {\"font\": {\"color\": \"black\"}, \"showarrow\": false, \"text\": \"Item 35\", \"x\": \"Prospect\", \"xref\": \"x\", \"y\": 6, \"yref\": \"y\"}, {\"font\": {\"color\": \"black\"}, \"showarrow\": false, \"text\": \"Item 77\", \"x\": \"MQL\", \"xref\": \"x\", \"y\": 6, \"yref\": \"y\"}, {\"font\": {\"color\": \"black\"}, \"showarrow\": false, \"text\": \"Item 42\", \"x\": \"SQL\", \"xref\": \"x\", \"y\": 6, \"yref\": \"y\"}, {\"font\": {\"color\": \"black\"}, \"showarrow\": false, \"text\": \"Item 26\", \"x\": \"Opportunity\", \"xref\": \"x\", \"y\": 6, \"yref\": \"y\"}, {\"font\": {\"color\": \"black\"}, \"showarrow\": false, \"text\": \"Item 68\", \"x\": \"Closed Won\", \"xref\": \"x\", \"y\": 6, \"yref\": \"y\"}, {\"font\": {\"color\": \"black\"}, \"showarrow\": false, \"text\": \"Item 7\", \"x\": \"Prospect\", \"xref\": \"x\", \"y\": 7, \"yref\": \"y\"}, {\"font\": {\"color\": \"black\"}, \"showarrow\": false, \"text\": \"Item 70\", \"x\": \"MQL\", \"xref\": \"x\", \"y\": 7, \"yref\": \"y\"}, {\"font\": {\"color\": \"black\"}, \"showarrow\": false, \"text\": \"Item 56\", \"x\": \"SQL\", \"xref\": \"x\", \"y\": 7, \"yref\": \"y\"}, {\"font\": {\"color\": \"black\"}, \"showarrow\": false, \"text\": \"Item 35\", \"x\": \"Opportunity\", \"xref\": \"x\", \"y\": 7, \"yref\": \"y\"}, {\"font\": {\"color\": \"black\"}, \"showarrow\": false, \"text\": \"Item 31\", \"x\": \"Closed Won\", \"xref\": \"x\", \"y\": 7, \"yref\": \"y\"}, {\"font\": {\"color\": \"black\"}, \"showarrow\": false, \"text\": \"Item 40\", \"x\": \"Prospect\", \"xref\": \"x\", \"y\": 8, \"yref\": \"y\"}, {\"font\": {\"color\": \"black\"}, \"showarrow\": false, \"text\": \"Item 11\", \"x\": \"MQL\", \"xref\": \"x\", \"y\": 8, \"yref\": \"y\"}, {\"font\": {\"color\": \"black\"}, \"showarrow\": false, \"text\": \"Item 65\", \"x\": \"SQL\", \"xref\": \"x\", \"y\": 8, \"yref\": \"y\"}, {\"font\": {\"color\": \"black\"}, \"showarrow\": false, \"text\": \"Item 63\", \"x\": \"Opportunity\", \"xref\": \"x\", \"y\": 8, \"yref\": \"y\"}, {\"font\": {\"color\": \"black\"}, \"showarrow\": false, \"text\": \"Item 89\", \"x\": \"Closed Won\", \"xref\": \"x\", \"y\": 8, \"yref\": \"y\"}, {\"font\": {\"color\": \"black\"}, \"showarrow\": false, \"text\": \"Item 89\", \"x\": \"Prospect\", \"xref\": \"x\", \"y\": 9, \"yref\": \"y\"}, {\"font\": {\"color\": \"black\"}, \"showarrow\": false, \"text\": \"Item 56\", \"x\": \"MQL\", \"xref\": \"x\", \"y\": 9, \"yref\": \"y\"}, {\"font\": {\"color\": \"black\"}, \"showarrow\": false, \"text\": \"Item 80\", \"x\": \"SQL\", \"xref\": \"x\", \"y\": 9, \"yref\": \"y\"}, {\"font\": {\"color\": \"black\"}, \"showarrow\": false, \"text\": \"Item 95\", \"x\": \"Opportunity\", \"xref\": \"x\", \"y\": 9, \"yref\": \"y\"}, {\"font\": {\"color\": \"black\"}, \"showarrow\": false, \"text\": \"Item 51\", \"x\": \"Closed Won\", \"xref\": \"x\", \"y\": 9, \"yref\": \"y\"}, {\"font\": {\"color\": \"black\"}, \"showarrow\": false, \"text\": \"Item 31\", \"x\": \"Prospect\", \"xref\": \"x\", \"y\": 10, \"yref\": \"y\"}, {\"font\": {\"color\": \"black\"}, \"showarrow\": false, \"text\": \"Item 37\", \"x\": \"MQL\", \"xref\": \"x\", \"y\": 10, \"yref\": \"y\"}, {\"font\": {\"color\": \"black\"}, \"showarrow\": false, \"text\": \"Item 66\", \"x\": \"SQL\", \"xref\": \"x\", \"y\": 10, \"yref\": \"y\"}, {\"font\": {\"color\": \"black\"}, \"showarrow\": false, \"text\": \"Item 77\", \"x\": \"Opportunity\", \"xref\": \"x\", \"y\": 10, \"yref\": \"y\"}, {\"font\": {\"color\": \"black\"}, \"showarrow\": false, \"text\": \"Item 5\", \"x\": \"Closed Won\", \"xref\": \"x\", \"y\": 10, \"yref\": \"y\"}], \"xaxis\": {\"dtick\": 1, \"gridcolor\": \"rgb(0, 0, 0)\", \"side\": \"top\", \"ticks\": \"\", \"showgrid\": false, \"showline\": false, \"zeroline\": false}, \"yaxis\": {\"dtick\": 1, \"ticks\": \"\", \"ticksuffix\": \"  \", \"showgrid\": false, \"showline\": false, \"zeroline\": false, \"autorange\": \"reversed\", \"title\": {\"text\": \"Most pitched items\"}}, \"title\": {\"text\": \"Content Heatmap\"}, \"height\": 700, \"width\": 1000}, {\"showLink\": false, \"linkText\": \"Export to plot.ly\", \"plotlyServerURL\": \"https://plot.ly\"}); \n",
       "}\n",
       "});</script>"
      ],
      "text/vnd.plotly.v1+html": [
       "<div id=\"14223c79-42e1-4076-8410-22561e050dba\" style=\"height: 700px; width: 1000px;\" class=\"plotly-graph-div\"></div><script type=\"text/javascript\">require([\"plotly\"], function(Plotly) { window.PLOTLYENV=window.PLOTLYENV || {};window.PLOTLYENV.BASE_URL=\"https://plot.ly\";\n",
       "if (document.getElementById(\"14223c79-42e1-4076-8410-22561e050dba\")) {\n",
       "    Plotly.newPlot(\"14223c79-42e1-4076-8410-22561e050dba\", [{\"colorscale\": [[0, \"#0f7f3f\"], [0.5, \"#ffff0f\"], [1, \"#bf0f0f\"]], \"hoverinfo\": \"text\", \"reversescale\": false, \"showscale\": true, \"text\": [[\"Pitches: 75<br>Views: 31<br>V2P: 0.41\", \"Pitches: 63<br>Views: 25<br>V2P: 0.4\", \"Pitches: 47<br>Views: 15<br>V2P: 0.32\", \"Pitches: 31<br>Views: 12<br>V2P: 0.39\", \"Pitches: 21<br>Views: 9<br>V2P: 0.43\"], [\"Pitches: 74<br>Views: 21<br>V2P: 0.28\", \"Pitches: 58<br>Views: 34<br>V2P: 0.59\", \"Pitches: 45<br>Views: 18<br>V2P: 0.4\", \"Pitches: 30<br>Views: 18<br>V2P: 0.6\", \"Pitches: 17<br>Views: 8<br>V2P: 0.47\"], [\"Pitches: 73<br>Views: 24<br>V2P: 0.33\", \"Pitches: 55<br>Views: 25<br>V2P: 0.45\", \"Pitches: 39<br>Views: 21<br>V2P: 0.54\", \"Pitches: 30<br>Views: 14<br>V2P: 0.47\", \"Pitches: 17<br>Views: 10<br>V2P: 0.59\"], [\"Pitches: 64<br>Views: 22<br>V2P: 0.34\", \"Pitches: 54<br>Views: 21<br>V2P: 0.39\", \"Pitches: 39<br>Views: 25<br>V2P: 0.64\", \"Pitches: 30<br>Views: 12<br>V2P: 0.4\", \"Pitches: 17<br>Views: 8<br>V2P: 0.47\"], [\"Pitches: 63<br>Views: 29<br>V2P: 0.46\", \"Pitches: 54<br>Views: 18<br>V2P: 0.33\", \"Pitches: 38<br>Views: 16<br>V2P: 0.42\", \"Pitches: 29<br>Views: 11<br>V2P: 0.38\", \"Pitches: 16<br>Views: 10<br>V2P: 0.62\"], [\"Pitches: 63<br>Views: 29<br>V2P: 0.46\", \"Pitches: 54<br>Views: 30<br>V2P: 0.56\", \"Pitches: 38<br>Views: 18<br>V2P: 0.47\", \"Pitches: 28<br>Views: 15<br>V2P: 0.54\", \"Pitches: 16<br>Views: 9<br>V2P: 0.56\"], [\"Pitches: 61<br>Views: 30<br>V2P: 0.49\", \"Pitches: 53<br>Views: 26<br>V2P: 0.49\", \"Pitches: 38<br>Views: 20<br>V2P: 0.53\", \"Pitches: 28<br>Views: 17<br>V2P: 0.61\", \"Pitches: 16<br>Views: 11<br>V2P: 0.69\"], [\"Pitches: 61<br>Views: 19<br>V2P: 0.31\", \"Pitches: 52<br>Views: 23<br>V2P: 0.44\", \"Pitches: 36<br>Views: 22<br>V2P: 0.61\", \"Pitches: 27<br>Views: 17<br>V2P: 0.63\", \"Pitches: 15<br>Views: 11<br>V2P: 0.73\"], [\"Pitches: 61<br>Views: 33<br>V2P: 0.54\", \"Pitches: 51<br>Views: 21<br>V2P: 0.41\", \"Pitches: 36<br>Views: 22<br>V2P: 0.61\", \"Pitches: 27<br>Views: 16<br>V2P: 0.59\", \"Pitches: 15<br>Views: 8<br>V2P: 0.53\"], [\"Pitches: 61<br>Views: 33<br>V2P: 0.54\", \"Pitches: 50<br>Views: 17<br>V2P: 0.34\", \"Pitches: 36<br>Views: 19<br>V2P: 0.53\", \"Pitches: 27<br>Views: 18<br>V2P: 0.67\", \"Pitches: 15<br>Views: 11<br>V2P: 0.73\"]], \"x\": [\"Prospect\", \"MQL\", \"SQL\", \"Opportunity\", \"Closed Won\"], \"xgap\": 1, \"y\": [1, 2, 3, 4, 5, 6, 7, 8, 9, 10], \"ygap\": 1, \"z\": [[0.41333333333333333, 0.3968253968253968, 0.3191489361702128, 0.3870967741935484, 0.42857142857142855], [0.28378378378378377, 0.5862068965517241, 0.4, 0.6, 0.47058823529411764], [0.3287671232876712, 0.45454545454545453, 0.5384615384615384, 0.4666666666666667, 0.5882352941176471], [0.34375, 0.3888888888888889, 0.6410256410256411, 0.4, 0.47058823529411764], [0.4603174603174603, 0.3333333333333333, 0.42105263157894735, 0.3793103448275862, 0.625], [0.4603174603174603, 0.5555555555555556, 0.47368421052631576, 0.5357142857142857, 0.5625], [0.4918032786885246, 0.49056603773584906, 0.5263157894736842, 0.6071428571428571, 0.6875], [0.3114754098360656, 0.4423076923076923, 0.6111111111111112, 0.6296296296296297, 0.7333333333333333], [0.5409836065573771, 0.4117647058823529, 0.6111111111111112, 0.5925925925925926, 0.5333333333333333], [0.5409836065573771, 0.34, 0.5277777777777778, 0.6666666666666666, 0.7333333333333333]], \"zmax\": 1, \"zmin\": 0, \"type\": \"heatmap\", \"uid\": \"b6dcb8d6-e18e-4f69-b12d-f020b828998f\"}], {\"annotations\": [{\"font\": {\"color\": \"black\"}, \"showarrow\": false, \"text\": \"Item 95\", \"x\": \"Prospect\", \"xref\": \"x\", \"y\": 1, \"yref\": \"y\"}, {\"font\": {\"color\": \"black\"}, \"showarrow\": false, \"text\": \"Item 79\", \"x\": \"MQL\", \"xref\": \"x\", \"y\": 1, \"yref\": \"y\"}, {\"font\": {\"color\": \"black\"}, \"showarrow\": false, \"text\": \"Item 3\", \"x\": \"SQL\", \"xref\": \"x\", \"y\": 1, \"yref\": \"y\"}, {\"font\": {\"color\": \"black\"}, \"showarrow\": false, \"text\": \"Item 56\", \"x\": \"Opportunity\", \"xref\": \"x\", \"y\": 1, \"yref\": \"y\"}, {\"font\": {\"color\": \"black\"}, \"showarrow\": false, \"text\": \"Item 88\", \"x\": \"Closed Won\", \"xref\": \"x\", \"y\": 1, \"yref\": \"y\"}, {\"font\": {\"color\": \"black\"}, \"showarrow\": false, \"text\": \"Item 59\", \"x\": \"Prospect\", \"xref\": \"x\", \"y\": 2, \"yref\": \"y\"}, {\"font\": {\"color\": \"black\"}, \"showarrow\": false, \"text\": \"Item 75\", \"x\": \"MQL\", \"xref\": \"x\", \"y\": 2, \"yref\": \"y\"}, {\"font\": {\"color\": \"black\"}, \"showarrow\": false, \"text\": \"Item 15\", \"x\": \"SQL\", \"xref\": \"x\", \"y\": 2, \"yref\": \"y\"}, {\"font\": {\"color\": \"black\"}, \"showarrow\": false, \"text\": \"Item 76\", \"x\": \"Opportunity\", \"xref\": \"x\", \"y\": 2, \"yref\": \"y\"}, {\"font\": {\"color\": \"black\"}, \"showarrow\": false, \"text\": \"Item 6\", \"x\": \"Closed Won\", \"xref\": \"x\", \"y\": 2, \"yref\": \"y\"}, {\"font\": {\"color\": \"black\"}, \"showarrow\": false, \"text\": \"Item 37\", \"x\": \"Prospect\", \"xref\": \"x\", \"y\": 3, \"yref\": \"y\"}, {\"font\": {\"color\": \"black\"}, \"showarrow\": false, \"text\": \"Item 83\", \"x\": \"MQL\", \"xref\": \"x\", \"y\": 3, \"yref\": \"y\"}, {\"font\": {\"color\": \"black\"}, \"showarrow\": false, \"text\": \"Item 4\", \"x\": \"SQL\", \"xref\": \"x\", \"y\": 3, \"yref\": \"y\"}, {\"font\": {\"color\": \"black\"}, \"showarrow\": false, \"text\": \"Item 89\", \"x\": \"Opportunity\", \"xref\": \"x\", \"y\": 3, \"yref\": \"y\"}, {\"font\": {\"color\": \"black\"}, \"showarrow\": false, \"text\": \"Item 80\", \"x\": \"Closed Won\", \"xref\": \"x\", \"y\": 3, \"yref\": \"y\"}, {\"font\": {\"color\": \"black\"}, \"showarrow\": false, \"text\": \"Item 2\", \"x\": \"Prospect\", \"xref\": \"x\", \"y\": 4, \"yref\": \"y\"}, {\"font\": {\"color\": \"black\"}, \"showarrow\": false, \"text\": \"Item 98\", \"x\": \"MQL\", \"xref\": \"x\", \"y\": 4, \"yref\": \"y\"}, {\"font\": {\"color\": \"black\"}, \"showarrow\": false, \"text\": \"Item 67\", \"x\": \"SQL\", \"xref\": \"x\", \"y\": 4, \"yref\": \"y\"}, {\"font\": {\"color\": \"black\"}, \"showarrow\": false, \"text\": \"Item 12\", \"x\": \"Opportunity\", \"xref\": \"x\", \"y\": 4, \"yref\": \"y\"}, {\"font\": {\"color\": \"black\"}, \"showarrow\": false, \"text\": \"Item 87\", \"x\": \"Closed Won\", \"xref\": \"x\", \"y\": 4, \"yref\": \"y\"}, {\"font\": {\"color\": \"black\"}, \"showarrow\": false, \"text\": \"Item 1\", \"x\": \"Prospect\", \"xref\": \"x\", \"y\": 5, \"yref\": \"y\"}, {\"font\": {\"color\": \"black\"}, \"showarrow\": false, \"text\": \"Item 41\", \"x\": \"MQL\", \"xref\": \"x\", \"y\": 5, \"yref\": \"y\"}, {\"font\": {\"color\": \"black\"}, \"showarrow\": false, \"text\": \"Item 72\", \"x\": \"SQL\", \"xref\": \"x\", \"y\": 5, \"yref\": \"y\"}, {\"font\": {\"color\": \"black\"}, \"showarrow\": false, \"text\": \"Item 62\", \"x\": \"Opportunity\", \"xref\": \"x\", \"y\": 5, \"yref\": \"y\"}, {\"font\": {\"color\": \"black\"}, \"showarrow\": false, \"text\": \"Item 39\", \"x\": \"Closed Won\", \"xref\": \"x\", \"y\": 5, \"yref\": \"y\"}, {\"font\": {\"color\": \"black\"}, \"showarrow\": false, \"text\": \"Item 35\", \"x\": \"Prospect\", \"xref\": \"x\", \"y\": 6, \"yref\": \"y\"}, {\"font\": {\"color\": \"black\"}, \"showarrow\": false, \"text\": \"Item 77\", \"x\": \"MQL\", \"xref\": \"x\", \"y\": 6, \"yref\": \"y\"}, {\"font\": {\"color\": \"black\"}, \"showarrow\": false, \"text\": \"Item 42\", \"x\": \"SQL\", \"xref\": \"x\", \"y\": 6, \"yref\": \"y\"}, {\"font\": {\"color\": \"black\"}, \"showarrow\": false, \"text\": \"Item 26\", \"x\": \"Opportunity\", \"xref\": \"x\", \"y\": 6, \"yref\": \"y\"}, {\"font\": {\"color\": \"black\"}, \"showarrow\": false, \"text\": \"Item 68\", \"x\": \"Closed Won\", \"xref\": \"x\", \"y\": 6, \"yref\": \"y\"}, {\"font\": {\"color\": \"black\"}, \"showarrow\": false, \"text\": \"Item 7\", \"x\": \"Prospect\", \"xref\": \"x\", \"y\": 7, \"yref\": \"y\"}, {\"font\": {\"color\": \"black\"}, \"showarrow\": false, \"text\": \"Item 70\", \"x\": \"MQL\", \"xref\": \"x\", \"y\": 7, \"yref\": \"y\"}, {\"font\": {\"color\": \"black\"}, \"showarrow\": false, \"text\": \"Item 56\", \"x\": \"SQL\", \"xref\": \"x\", \"y\": 7, \"yref\": \"y\"}, {\"font\": {\"color\": \"black\"}, \"showarrow\": false, \"text\": \"Item 35\", \"x\": \"Opportunity\", \"xref\": \"x\", \"y\": 7, \"yref\": \"y\"}, {\"font\": {\"color\": \"black\"}, \"showarrow\": false, \"text\": \"Item 31\", \"x\": \"Closed Won\", \"xref\": \"x\", \"y\": 7, \"yref\": \"y\"}, {\"font\": {\"color\": \"black\"}, \"showarrow\": false, \"text\": \"Item 40\", \"x\": \"Prospect\", \"xref\": \"x\", \"y\": 8, \"yref\": \"y\"}, {\"font\": {\"color\": \"black\"}, \"showarrow\": false, \"text\": \"Item 11\", \"x\": \"MQL\", \"xref\": \"x\", \"y\": 8, \"yref\": \"y\"}, {\"font\": {\"color\": \"black\"}, \"showarrow\": false, \"text\": \"Item 65\", \"x\": \"SQL\", \"xref\": \"x\", \"y\": 8, \"yref\": \"y\"}, {\"font\": {\"color\": \"black\"}, \"showarrow\": false, \"text\": \"Item 63\", \"x\": \"Opportunity\", \"xref\": \"x\", \"y\": 8, \"yref\": \"y\"}, {\"font\": {\"color\": \"black\"}, \"showarrow\": false, \"text\": \"Item 89\", \"x\": \"Closed Won\", \"xref\": \"x\", \"y\": 8, \"yref\": \"y\"}, {\"font\": {\"color\": \"black\"}, \"showarrow\": false, \"text\": \"Item 89\", \"x\": \"Prospect\", \"xref\": \"x\", \"y\": 9, \"yref\": \"y\"}, {\"font\": {\"color\": \"black\"}, \"showarrow\": false, \"text\": \"Item 56\", \"x\": \"MQL\", \"xref\": \"x\", \"y\": 9, \"yref\": \"y\"}, {\"font\": {\"color\": \"black\"}, \"showarrow\": false, \"text\": \"Item 80\", \"x\": \"SQL\", \"xref\": \"x\", \"y\": 9, \"yref\": \"y\"}, {\"font\": {\"color\": \"black\"}, \"showarrow\": false, \"text\": \"Item 95\", \"x\": \"Opportunity\", \"xref\": \"x\", \"y\": 9, \"yref\": \"y\"}, {\"font\": {\"color\": \"black\"}, \"showarrow\": false, \"text\": \"Item 51\", \"x\": \"Closed Won\", \"xref\": \"x\", \"y\": 9, \"yref\": \"y\"}, {\"font\": {\"color\": \"black\"}, \"showarrow\": false, \"text\": \"Item 31\", \"x\": \"Prospect\", \"xref\": \"x\", \"y\": 10, \"yref\": \"y\"}, {\"font\": {\"color\": \"black\"}, \"showarrow\": false, \"text\": \"Item 37\", \"x\": \"MQL\", \"xref\": \"x\", \"y\": 10, \"yref\": \"y\"}, {\"font\": {\"color\": \"black\"}, \"showarrow\": false, \"text\": \"Item 66\", \"x\": \"SQL\", \"xref\": \"x\", \"y\": 10, \"yref\": \"y\"}, {\"font\": {\"color\": \"black\"}, \"showarrow\": false, \"text\": \"Item 77\", \"x\": \"Opportunity\", \"xref\": \"x\", \"y\": 10, \"yref\": \"y\"}, {\"font\": {\"color\": \"black\"}, \"showarrow\": false, \"text\": \"Item 5\", \"x\": \"Closed Won\", \"xref\": \"x\", \"y\": 10, \"yref\": \"y\"}], \"xaxis\": {\"dtick\": 1, \"gridcolor\": \"rgb(0, 0, 0)\", \"side\": \"top\", \"ticks\": \"\", \"showgrid\": false, \"showline\": false, \"zeroline\": false}, \"yaxis\": {\"dtick\": 1, \"ticks\": \"\", \"ticksuffix\": \"  \", \"showgrid\": false, \"showline\": false, \"zeroline\": false, \"autorange\": \"reversed\", \"title\": {\"text\": \"Most pitched items\"}}, \"title\": {\"text\": \"Content Heatmap\"}, \"height\": 700, \"width\": 1000}, {\"showLink\": false, \"linkText\": \"Export to plot.ly\", \"plotlyServerURL\": \"https://plot.ly\"}); \n",
       "}\n",
       "});</script>"
      ]
     },
     "metadata": {},
     "output_type": "display_data"
    }
   ],
   "source": [
    "# Create the content heatmap\n",
    "\n",
    "# Display pitch count, view count, and view-to-pitch ratio on hover\n",
    "hover = list(range(len(top_pitched_v2p)))\n",
    "for x in range(len(top_pitched_v2p)):\n",
    "    hover[x] = ['Pitches: ' + str(int(i)) + '<br>' + 'Views: ' + str(int(j)) + '<br>' + 'V2P: ' + str(round(k, 2))\n",
    "                for i, j, k in zip(top_pitched_pitches[x], top_pitched_views[x], top_pitched_v2p[x])]\n",
    "\n",
    "# set colorscale\n",
    "\n",
    "colorscale = [[0, '#0f7f3f'],  # green\n",
    "              [0.5, '#ffff0f'],  # yellow\n",
    "              [1, '#bf0f0f']]  # red\n",
    "\n",
    "# Make Annotated Heatmap\n",
    "pt = ff.create_annotated_heatmap(z=top_pitched_v2p,\n",
    "                                 zmin=0,\n",
    "                                 zmax=1,\n",
    "                                 x=stages,\n",
    "                                 y=[i for i in np.arange(1, 11)],\n",
    "                                 xgap=1,\n",
    "                                 ygap=1,\n",
    "                                 annotation_text=top_pitched_names,\n",
    "                                 text=hover,\n",
    "                                 colorscale=colorscale,\n",
    "                                 font_colors=['black'],\n",
    "                                 showscale=True,\n",
    "                                 hoverinfo='text')\n",
    "\n",
    "pt.layout.title = 'Content Heatmap'\n",
    "\n",
    "pt.layout.height = 700\n",
    "pt.layout.width = 1000\n",
    "\n",
    "pt.layout.xaxis.showgrid = False\n",
    "pt.layout.yaxis.showgrid = False\n",
    "pt.layout.xaxis.showline = False\n",
    "pt.layout.yaxis.showline = False\n",
    "pt.layout.xaxis.zeroline = False\n",
    "pt.layout.yaxis.zeroline = False\n",
    "pt.layout.yaxis.autorange = 'reversed'\n",
    "pt.layout.yaxis.title = 'Most pitched items'\n",
    "\n",
    "iplot(pt)"
   ]
  },
  {
   "cell_type": "code",
   "execution_count": null,
   "metadata": {},
   "outputs": [],
   "source": []
  }
 ],
 "metadata": {
  "kernelspec": {
   "display_name": "Python 3",
   "language": "python",
   "name": "python3"
  },
  "language_info": {
   "codemirror_mode": {
    "name": "ipython",
    "version": 3
   },
   "file_extension": ".py",
   "mimetype": "text/x-python",
   "name": "python",
   "nbconvert_exporter": "python",
   "pygments_lexer": "ipython3",
   "version": "3.6.8"
  }
 },
 "nbformat": 4,
 "nbformat_minor": 2
}
