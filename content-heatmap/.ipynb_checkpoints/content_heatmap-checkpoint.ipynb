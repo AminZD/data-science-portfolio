{
 "cells": [
  {
   "cell_type": "markdown",
   "metadata": {},
   "source": [
    "# Buyers Journey Content Heat Map\n",
    "\n",
    "**Disclaimer:** *This work is based on a project I did for Highspot. I use simulated data since I cannot share or distribute any company data or information*\n",
    "\n",
    "Buyers undergo multiple stages before they make a purchase: they first become aware of a product; then they show interest in the product; next they get invloved is seeking information regarding the product; and finally, they purchase the product. One notable framework explaining this buyers journey is the AIDA model. Things get pretty complicated in the B2B world (where the customers are businesses), but the framework is pretty much the same. There, the marketing and sales teams use a slightly complex framework to target the potential customers more effectively. The framework they use is generally referred to as sales (or marketing, or B2B lead) funnel. The concept varies from one company to another; the framework, however, is pretty much similar and includes the following stages:\n",
    "\n",
    "- Prospect\n",
    "- MQL\n",
    "- SQL\n",
    "- Opportunity\n",
    "- Closed Won/ Lost/ No Decision\n",
    "\n",
    "As mentioned earlier, the model used in many companies is more complicated and has more stages; however, the analysis is the same regardless of the particular model or the number of stages.\n",
    "\n",
    "The sales team uses the content (generally created by the marketing team) to target each portential customer and then monitor they engagement with the content. Using the content for such purposes is generally referred to as *pitching*. The Highspot platform makes is possible to track the engagement with the content using the four metrics of *opened*, *viewed*, *shared* and *downloaded*. The higher the ratio of each of the metrics to the number of pitches, the more potential customers are engaged with the content. Therefore, we decided to calculated the ratio for all of the content and use it as a measure of the engagement with that item."
   ]
  },
  {
   "cell_type": "code",
   "execution_count": 65,
   "metadata": {},
   "outputs": [
    {
     "data": {
      "text/html": [
       "<script type=\"text/javascript\">window.PlotlyConfig = {MathJaxConfig: 'local'};</script><script type=\"text/javascript\">if (window.MathJax) {MathJax.Hub.Config({SVG: {font: \"STIX-Web\"}});}</script><script>requirejs.config({paths: { 'plotly': ['https://cdn.plot.ly/plotly-latest.min']},});if(!window._Plotly) {require(['plotly'],function(plotly) {window._Plotly=plotly;});}</script>"
      ],
      "text/vnd.plotly.v1+html": [
       "<script type=\"text/javascript\">window.PlotlyConfig = {MathJaxConfig: 'local'};</script><script type=\"text/javascript\">if (window.MathJax) {MathJax.Hub.Config({SVG: {font: \"STIX-Web\"}});}</script><script>requirejs.config({paths: { 'plotly': ['https://cdn.plot.ly/plotly-latest.min']},});if(!window._Plotly) {require(['plotly'],function(plotly) {window._Plotly=plotly;});}</script>"
      ]
     },
     "metadata": {},
     "output_type": "display_data"
    }
   ],
   "source": [
    "# importing necessary libraries\n",
    "\n",
    "import numpy as np\n",
    "import pandas as pd\n",
    "import matplotlib.pyplot as plt\n",
    "import seaborn as sns\n",
    "import plotly.graph_objs as go\n",
    "import plotly.figure_factory as ff\n",
    "import plotly.tools as tls\n",
    "import plotly.io as pio\n",
    "import os\n",
    "\n",
    "from matplotlib.colors import ListedColormap\n",
    "from plotly.offline import init_notebook_mode, iplot, plot\n",
    "from IPython.display import Image, display\n",
    "\n",
    "\n",
    "# settings\n",
    "pd.set_option('display.max_columns', None)\n",
    "plt.tight_layout()\n",
    "sns.set_style(\"whitegrid\")\n",
    "init_notebook_mode(connected=True)\n",
    "\n",
    "%matplotlib inline\n",
    "%config InlineBackend.figure_format = 'retina'\n",
    "\n",
    "\n",
    "# creating a directory for images\n",
    "if not os.path.exists('images'):\n",
    "    os.mkdir('images')\n",
    "\n",
    "color='#298DE1' # Highspot color\n",
    "scale=2 # scale for saving images"
   ]
  },
  {
   "cell_type": "code",
   "execution_count": 78,
   "metadata": {},
   "outputs": [
    {
     "data": {
      "text/html": [
       "<div>\n",
       "<style scoped>\n",
       "    .dataframe tbody tr th:only-of-type {\n",
       "        vertical-align: middle;\n",
       "    }\n",
       "\n",
       "    .dataframe tbody tr th {\n",
       "        vertical-align: top;\n",
       "    }\n",
       "\n",
       "    .dataframe thead th {\n",
       "        text-align: right;\n",
       "    }\n",
       "</style>\n",
       "<table border=\"1\" class=\"dataframe\">\n",
       "  <thead>\n",
       "    <tr style=\"text-align: right;\">\n",
       "      <th></th>\n",
       "      <th>item_name</th>\n",
       "      <th>stage</th>\n",
       "      <th>pitches</th>\n",
       "      <th>views</th>\n",
       "    </tr>\n",
       "  </thead>\n",
       "  <tbody>\n",
       "    <tr>\n",
       "      <th>121</th>\n",
       "      <td>Item21</td>\n",
       "      <td>MQL</td>\n",
       "      <td>48</td>\n",
       "      <td>26</td>\n",
       "    </tr>\n",
       "    <tr>\n",
       "      <th>341</th>\n",
       "      <td>Item41</td>\n",
       "      <td>Opportunity</td>\n",
       "      <td>22</td>\n",
       "      <td>16</td>\n",
       "    </tr>\n",
       "    <tr>\n",
       "      <th>172</th>\n",
       "      <td>Item72</td>\n",
       "      <td>MQL</td>\n",
       "      <td>46</td>\n",
       "      <td>28</td>\n",
       "    </tr>\n",
       "    <tr>\n",
       "      <th>53</th>\n",
       "      <td>Item53</td>\n",
       "      <td>Prospect</td>\n",
       "      <td>57</td>\n",
       "      <td>23</td>\n",
       "    </tr>\n",
       "    <tr>\n",
       "      <th>72</th>\n",
       "      <td>Item72</td>\n",
       "      <td>Prospect</td>\n",
       "      <td>52</td>\n",
       "      <td>30</td>\n",
       "    </tr>\n",
       "  </tbody>\n",
       "</table>\n",
       "</div>"
      ],
      "text/plain": [
       "    item_name        stage  pitches  views\n",
       "121    Item21          MQL       48     26\n",
       "341    Item41  Opportunity       22     16\n",
       "172    Item72          MQL       46     28\n",
       "53     Item53     Prospect       57     23\n",
       "72     Item72     Prospect       52     30"
      ]
     },
     "execution_count": 78,
     "metadata": {},
     "output_type": "execute_result"
    }
   ],
   "source": [
    "# generate data\n",
    "n = 100  # number of items\n",
    "\n",
    "item_names = 'Item' + \\\n",
    "    pd.Series(np.arange(n), name='item_name').astype(str)  # item names\n",
    "item_names = pd.concat([item_names]*5, ignore_index=True)\n",
    "\n",
    "stages = pd.Series(\n",
    "    ['Prospect', 'MQL', 'SQL', 'Opportunity', 'Closed Won'],\n",
    "    name='stage').repeat(n).reset_index(drop=True)\n",
    "\n",
    "lambdas_pitches = np.arange(50, 9, -10)\n",
    "lambdas_views = np.arange(30, 9, -5)\n",
    "pitches = pd.Series(\n",
    "    np.random.poisson(lambdas_pitches, (n, 5)).flatten(order='F'), name='pitches')\n",
    "views = pd.Series(\n",
    "    np.random.poisson(lambdas_views, (n, 5)).flatten(order='F'), name='views')\n",
    "\n",
    "df = pd.concat([item_names, stages, pitches, views],\n",
    "               axis=1)\n",
    "\n",
    "df.sample(5)"
   ]
  },
  {
   "cell_type": "code",
   "execution_count": 79,
   "metadata": {},
   "outputs": [],
   "source": [
    "df['view2pitch_ratio'] = df['views']/df['pitches']"
   ]
  },
  {
   "cell_type": "code",
   "execution_count": 80,
   "metadata": {
    "scrolled": true
   },
   "outputs": [],
   "source": [
    "# engage_stat['ContactStatus'].unique()\n",
    "\n",
    "stages = ['Prospect', 'MQL', 'SQL', 'Opportunity', 'Closed Won']\n",
    "\n",
    "top_pitched_names = np.chararray(\n",
    "    (10, len(stages)), itemsize=100, unicode=True)\n",
    "top_pitched_pitches = np.empty([10, len(stages)])\n",
    "top_pitched_views = np.empty([10, len(stages)])\n",
    "top_pitched_v2p = np.empty([10, len(stages)])\n",
    "\n",
    "\n",
    "for stage in stages:\n",
    "    i = stages.index(stage)\n",
    "    top_pitched = df[df['stage'] == stage].sort_values(\n",
    "        by='pitches', ascending=False)[:10]\n",
    "    top_pitched_names[:, i] = top_pitched['item_name'].values\n",
    "    top_pitched_pitches[:, i] = top_pitched['pitches'].values\n",
    "    top_pitched_views[:, i] = top_pitched['views'].values\n",
    "    top_pitched_v2p[:, i] = top_pitched['view2pitch_ratio'].values"
   ]
  },
  {
   "cell_type": "code",
   "execution_count": 184,
   "metadata": {
    "scrolled": false
   },
   "outputs": [
    {
     "data": {
      "application/vnd.plotly.v1+json": {
       "config": {
        "linkText": "Export to plot.ly",
        "plotlyServerURL": "https://plot.ly",
        "showLink": false
       },
       "data": [
        {
         "colorscale": [
          [
           0,
           "#0f7f3f"
          ],
          [
           0.5,
           "#ffff0f"
          ],
          [
           1,
           "#bf0f0f"
          ]
         ],
         "hoverinfo": "text",
         "reversescale": false,
         "showscale": true,
         "text": [
          [
           "Pitches: 67<br>Views: 31<br>V2P: 0.46",
           "Pitches: 57<br>Views: 33<br>V2P: 0.58",
           "Pitches: 42<br>Views: 19<br>V2P: 0.45",
           "Pitches: 30<br>Views: 15<br>V2P: 0.5",
           "Pitches: 20<br>Views: 10<br>V2P: 0.5"
          ],
          [
           "Pitches: 67<br>Views: 39<br>V2P: 0.58",
           "Pitches: 52<br>Views: 28<br>V2P: 0.54",
           "Pitches: 42<br>Views: 28<br>V2P: 0.67",
           "Pitches: 30<br>Views: 20<br>V2P: 0.67",
           "Pitches: 18<br>Views: 6<br>V2P: 0.33"
          ],
          [
           "Pitches: 67<br>Views: 34<br>V2P: 0.51",
           "Pitches: 50<br>Views: 19<br>V2P: 0.38",
           "Pitches: 42<br>Views: 17<br>V2P: 0.4",
           "Pitches: 29<br>Views: 13<br>V2P: 0.45",
           "Pitches: 17<br>Views: 15<br>V2P: 0.88"
          ],
          [
           "Pitches: 66<br>Views: 41<br>V2P: 0.62",
           "Pitches: 49<br>Views: 29<br>V2P: 0.59",
           "Pitches: 42<br>Views: 22<br>V2P: 0.52",
           "Pitches: 27<br>Views: 18<br>V2P: 0.67",
           "Pitches: 17<br>Views: 16<br>V2P: 0.94"
          ],
          [
           "Pitches: 63<br>Views: 31<br>V2P: 0.49",
           "Pitches: 48<br>Views: 18<br>V2P: 0.38",
           "Pitches: 42<br>Views: 29<br>V2P: 0.69",
           "Pitches: 27<br>Views: 9<br>V2P: 0.33",
           "Pitches: 16<br>Views: 16<br>V2P: 1.0"
          ],
          [
           "Pitches: 63<br>Views: 27<br>V2P: 0.43",
           "Pitches: 48<br>Views: 26<br>V2P: 0.54",
           "Pitches: 39<br>Views: 16<br>V2P: 0.41",
           "Pitches: 27<br>Views: 20<br>V2P: 0.74",
           "Pitches: 16<br>Views: 6<br>V2P: 0.38"
          ],
          [
           "Pitches: 62<br>Views: 27<br>V2P: 0.44",
           "Pitches: 48<br>Views: 26<br>V2P: 0.54",
           "Pitches: 39<br>Views: 23<br>V2P: 0.59",
           "Pitches: 27<br>Views: 15<br>V2P: 0.56",
           "Pitches: 16<br>Views: 6<br>V2P: 0.38"
          ],
          [
           "Pitches: 62<br>Views: 21<br>V2P: 0.34",
           "Pitches: 48<br>Views: 32<br>V2P: 0.67",
           "Pitches: 39<br>Views: 23<br>V2P: 0.59",
           "Pitches: 26<br>Views: 18<br>V2P: 0.69",
           "Pitches: 15<br>Views: 8<br>V2P: 0.53"
          ],
          [
           "Pitches: 62<br>Views: 29<br>V2P: 0.47",
           "Pitches: 47<br>Views: 21<br>V2P: 0.45",
           "Pitches: 37<br>Views: 29<br>V2P: 0.78",
           "Pitches: 26<br>Views: 18<br>V2P: 0.69",
           "Pitches: 15<br>Views: 9<br>V2P: 0.6"
          ],
          [
           "Pitches: 61<br>Views: 26<br>V2P: 0.43",
           "Pitches: 47<br>Views: 21<br>V2P: 0.45",
           "Pitches: 37<br>Views: 18<br>V2P: 0.49",
           "Pitches: 26<br>Views: 15<br>V2P: 0.58",
           "Pitches: 15<br>Views: 8<br>V2P: 0.53"
          ]
         ],
         "type": "heatmap",
         "uid": "d61e4d0a-5bde-45fe-9aa7-329439a2d9fb",
         "x": [
          "Prospect",
          "MQL",
          "SQL",
          "Opportunity",
          "Closed Won"
         ],
         "xgap": 1,
         "y": [
          1,
          2,
          3,
          4,
          5,
          6,
          7,
          8,
          9,
          10
         ],
         "ygap": 1,
         "z": [
          [
           0.4626865671641791,
           0.5789473684210527,
           0.4523809523809524,
           0.5,
           0.5
          ],
          [
           0.582089552238806,
           0.5384615384615384,
           0.6666666666666666,
           0.6666666666666666,
           0.3333333333333333
          ],
          [
           0.5074626865671642,
           0.38,
           0.40476190476190477,
           0.4482758620689655,
           0.8823529411764706
          ],
          [
           0.6212121212121212,
           0.5918367346938775,
           0.5238095238095238,
           0.6666666666666666,
           0.9411764705882353
          ],
          [
           0.49206349206349204,
           0.375,
           0.6904761904761905,
           0.3333333333333333,
           1
          ],
          [
           0.42857142857142855,
           0.5416666666666666,
           0.41025641025641024,
           0.7407407407407407,
           0.375
          ],
          [
           0.43548387096774194,
           0.5416666666666666,
           0.5897435897435898,
           0.5555555555555556,
           0.375
          ],
          [
           0.3387096774193548,
           0.6666666666666666,
           0.5897435897435898,
           0.6923076923076923,
           0.5333333333333333
          ],
          [
           0.46774193548387094,
           0.44680851063829785,
           0.7837837837837838,
           0.6923076923076923,
           0.6
          ],
          [
           0.4262295081967213,
           0.44680851063829785,
           0.4864864864864865,
           0.5769230769230769,
           0.5333333333333333
          ]
         ],
         "zmax": 1,
         "zmin": 0
        }
       ],
       "layout": {
        "annotations": [
         {
          "font": {
           "color": "black"
          },
          "showarrow": false,
          "text": "Item85",
          "x": "Prospect",
          "xref": "x",
          "y": 1,
          "yref": "y"
         },
         {
          "font": {
           "color": "black"
          },
          "showarrow": false,
          "text": "Item94",
          "x": "MQL",
          "xref": "x",
          "y": 1,
          "yref": "y"
         },
         {
          "font": {
           "color": "black"
          },
          "showarrow": false,
          "text": "Item91",
          "x": "SQL",
          "xref": "x",
          "y": 1,
          "yref": "y"
         },
         {
          "font": {
           "color": "black"
          },
          "showarrow": false,
          "text": "Item64",
          "x": "Opportunity",
          "xref": "x",
          "y": 1,
          "yref": "y"
         },
         {
          "font": {
           "color": "black"
          },
          "showarrow": false,
          "text": "Item13",
          "x": "Closed Won",
          "xref": "x",
          "y": 1,
          "yref": "y"
         },
         {
          "font": {
           "color": "black"
          },
          "showarrow": false,
          "text": "Item45",
          "x": "Prospect",
          "xref": "x",
          "y": 2,
          "yref": "y"
         },
         {
          "font": {
           "color": "black"
          },
          "showarrow": false,
          "text": "Item74",
          "x": "MQL",
          "xref": "x",
          "y": 2,
          "yref": "y"
         },
         {
          "font": {
           "color": "black"
          },
          "showarrow": false,
          "text": "Item3",
          "x": "SQL",
          "xref": "x",
          "y": 2,
          "yref": "y"
         },
         {
          "font": {
           "color": "black"
          },
          "showarrow": false,
          "text": "Item70",
          "x": "Opportunity",
          "xref": "x",
          "y": 2,
          "yref": "y"
         },
         {
          "font": {
           "color": "black"
          },
          "showarrow": false,
          "text": "Item38",
          "x": "Closed Won",
          "xref": "x",
          "y": 2,
          "yref": "y"
         },
         {
          "font": {
           "color": "black"
          },
          "showarrow": false,
          "text": "Item58",
          "x": "Prospect",
          "xref": "x",
          "y": 3,
          "yref": "y"
         },
         {
          "font": {
           "color": "black"
          },
          "showarrow": false,
          "text": "Item78",
          "x": "MQL",
          "xref": "x",
          "y": 3,
          "yref": "y"
         },
         {
          "font": {
           "color": "black"
          },
          "showarrow": false,
          "text": "Item35",
          "x": "SQL",
          "xref": "x",
          "y": 3,
          "yref": "y"
         },
         {
          "font": {
           "color": "black"
          },
          "showarrow": false,
          "text": "Item61",
          "x": "Opportunity",
          "xref": "x",
          "y": 3,
          "yref": "y"
         },
         {
          "font": {
           "color": "black"
          },
          "showarrow": false,
          "text": "Item85",
          "x": "Closed Won",
          "xref": "x",
          "y": 3,
          "yref": "y"
         },
         {
          "font": {
           "color": "black"
          },
          "showarrow": false,
          "text": "Item95",
          "x": "Prospect",
          "xref": "x",
          "y": 4,
          "yref": "y"
         },
         {
          "font": {
           "color": "black"
          },
          "showarrow": false,
          "text": "Item0",
          "x": "MQL",
          "xref": "x",
          "y": 4,
          "yref": "y"
         },
         {
          "font": {
           "color": "black"
          },
          "showarrow": false,
          "text": "Item84",
          "x": "SQL",
          "xref": "x",
          "y": 4,
          "yref": "y"
         },
         {
          "font": {
           "color": "black"
          },
          "showarrow": false,
          "text": "Item7",
          "x": "Opportunity",
          "xref": "x",
          "y": 4,
          "yref": "y"
         },
         {
          "font": {
           "color": "black"
          },
          "showarrow": false,
          "text": "Item44",
          "x": "Closed Won",
          "xref": "x",
          "y": 4,
          "yref": "y"
         },
         {
          "font": {
           "color": "black"
          },
          "showarrow": false,
          "text": "Item97",
          "x": "Prospect",
          "xref": "x",
          "y": 5,
          "yref": "y"
         },
         {
          "font": {
           "color": "black"
          },
          "showarrow": false,
          "text": "Item59",
          "x": "MQL",
          "xref": "x",
          "y": 5,
          "yref": "y"
         },
         {
          "font": {
           "color": "black"
          },
          "showarrow": false,
          "text": "Item87",
          "x": "SQL",
          "xref": "x",
          "y": 5,
          "yref": "y"
         },
         {
          "font": {
           "color": "black"
          },
          "showarrow": false,
          "text": "Item23",
          "x": "Opportunity",
          "xref": "x",
          "y": 5,
          "yref": "y"
         },
         {
          "font": {
           "color": "black"
          },
          "showarrow": false,
          "text": "Item66",
          "x": "Closed Won",
          "xref": "x",
          "y": 5,
          "yref": "y"
         },
         {
          "font": {
           "color": "black"
          },
          "showarrow": false,
          "text": "Item10",
          "x": "Prospect",
          "xref": "x",
          "y": 6,
          "yref": "y"
         },
         {
          "font": {
           "color": "black"
          },
          "showarrow": false,
          "text": "Item38",
          "x": "MQL",
          "xref": "x",
          "y": 6,
          "yref": "y"
         },
         {
          "font": {
           "color": "black"
          },
          "showarrow": false,
          "text": "Item89",
          "x": "SQL",
          "xref": "x",
          "y": 6,
          "yref": "y"
         },
         {
          "font": {
           "color": "black"
          },
          "showarrow": false,
          "text": "Item0",
          "x": "Opportunity",
          "xref": "x",
          "y": 6,
          "yref": "y"
         },
         {
          "font": {
           "color": "black"
          },
          "showarrow": false,
          "text": "Item70",
          "x": "Closed Won",
          "xref": "x",
          "y": 6,
          "yref": "y"
         },
         {
          "font": {
           "color": "black"
          },
          "showarrow": false,
          "text": "Item30",
          "x": "Prospect",
          "xref": "x",
          "y": 7,
          "yref": "y"
         },
         {
          "font": {
           "color": "black"
          },
          "showarrow": false,
          "text": "Item21",
          "x": "MQL",
          "xref": "x",
          "y": 7,
          "yref": "y"
         },
         {
          "font": {
           "color": "black"
          },
          "showarrow": false,
          "text": "Item61",
          "x": "SQL",
          "xref": "x",
          "y": 7,
          "yref": "y"
         },
         {
          "font": {
           "color": "black"
          },
          "showarrow": false,
          "text": "Item89",
          "x": "Opportunity",
          "xref": "x",
          "y": 7,
          "yref": "y"
         },
         {
          "font": {
           "color": "black"
          },
          "showarrow": false,
          "text": "Item15",
          "x": "Closed Won",
          "xref": "x",
          "y": 7,
          "yref": "y"
         },
         {
          "font": {
           "color": "black"
          },
          "showarrow": false,
          "text": "Item66",
          "x": "Prospect",
          "xref": "x",
          "y": 8,
          "yref": "y"
         },
         {
          "font": {
           "color": "black"
          },
          "showarrow": false,
          "text": "Item18",
          "x": "MQL",
          "xref": "x",
          "y": 8,
          "yref": "y"
         },
         {
          "font": {
           "color": "black"
          },
          "showarrow": false,
          "text": "Item24",
          "x": "SQL",
          "xref": "x",
          "y": 8,
          "yref": "y"
         },
         {
          "font": {
           "color": "black"
          },
          "showarrow": false,
          "text": "Item86",
          "x": "Opportunity",
          "xref": "x",
          "y": 8,
          "yref": "y"
         },
         {
          "font": {
           "color": "black"
          },
          "showarrow": false,
          "text": "Item50",
          "x": "Closed Won",
          "xref": "x",
          "y": 8,
          "yref": "y"
         },
         {
          "font": {
           "color": "black"
          },
          "showarrow": false,
          "text": "Item90",
          "x": "Prospect",
          "xref": "x",
          "y": 9,
          "yref": "y"
         },
         {
          "font": {
           "color": "black"
          },
          "showarrow": false,
          "text": "Item71",
          "x": "MQL",
          "xref": "x",
          "y": 9,
          "yref": "y"
         },
         {
          "font": {
           "color": "black"
          },
          "showarrow": false,
          "text": "Item46",
          "x": "SQL",
          "xref": "x",
          "y": 9,
          "yref": "y"
         },
         {
          "font": {
           "color": "black"
          },
          "showarrow": false,
          "text": "Item9",
          "x": "Opportunity",
          "xref": "x",
          "y": 9,
          "yref": "y"
         },
         {
          "font": {
           "color": "black"
          },
          "showarrow": false,
          "text": "Item49",
          "x": "Closed Won",
          "xref": "x",
          "y": 9,
          "yref": "y"
         },
         {
          "font": {
           "color": "black"
          },
          "showarrow": false,
          "text": "Item42",
          "x": "Prospect",
          "xref": "x",
          "y": 10,
          "yref": "y"
         },
         {
          "font": {
           "color": "black"
          },
          "showarrow": false,
          "text": "Item25",
          "x": "MQL",
          "xref": "x",
          "y": 10,
          "yref": "y"
         },
         {
          "font": {
           "color": "black"
          },
          "showarrow": false,
          "text": "Item77",
          "x": "SQL",
          "xref": "x",
          "y": 10,
          "yref": "y"
         },
         {
          "font": {
           "color": "black"
          },
          "showarrow": false,
          "text": "Item84",
          "x": "Opportunity",
          "xref": "x",
          "y": 10,
          "yref": "y"
         },
         {
          "font": {
           "color": "black"
          },
          "showarrow": false,
          "text": "Item46",
          "x": "Closed Won",
          "xref": "x",
          "y": 10,
          "yref": "y"
         }
        ],
        "height": 600,
        "title": {
         "text": "Content Heat Map"
        },
        "width": 1000,
        "xaxis": {
         "dtick": 1,
         "gridcolor": "rgb(0, 0, 0)",
         "showgrid": false,
         "showline": false,
         "side": "top",
         "ticks": "",
         "zeroline": false
        },
        "yaxis": {
         "autorange": "reversed",
         "dtick": 1,
         "showgrid": false,
         "showline": false,
         "ticks": "",
         "ticksuffix": "  ",
         "title": {
          "text": "Most pitched items"
         },
         "zeroline": false
        }
       }
      },
      "text/html": [
       "<div id=\"487655a1-f081-4588-922e-b39376fd0e55\" style=\"height: 600px; width: 1000px;\" class=\"plotly-graph-div\"></div><script type=\"text/javascript\">require([\"plotly\"], function(Plotly) { window.PLOTLYENV=window.PLOTLYENV || {};window.PLOTLYENV.BASE_URL=\"https://plot.ly\";\n",
       "if (document.getElementById(\"487655a1-f081-4588-922e-b39376fd0e55\")) {\n",
       "    Plotly.newPlot(\"487655a1-f081-4588-922e-b39376fd0e55\", [{\"colorscale\": [[0, \"#0f7f3f\"], [0.5, \"#ffff0f\"], [1, \"#bf0f0f\"]], \"hoverinfo\": \"text\", \"reversescale\": false, \"showscale\": true, \"text\": [[\"Pitches: 67<br>Views: 31<br>V2P: 0.46\", \"Pitches: 57<br>Views: 33<br>V2P: 0.58\", \"Pitches: 42<br>Views: 19<br>V2P: 0.45\", \"Pitches: 30<br>Views: 15<br>V2P: 0.5\", \"Pitches: 20<br>Views: 10<br>V2P: 0.5\"], [\"Pitches: 67<br>Views: 39<br>V2P: 0.58\", \"Pitches: 52<br>Views: 28<br>V2P: 0.54\", \"Pitches: 42<br>Views: 28<br>V2P: 0.67\", \"Pitches: 30<br>Views: 20<br>V2P: 0.67\", \"Pitches: 18<br>Views: 6<br>V2P: 0.33\"], [\"Pitches: 67<br>Views: 34<br>V2P: 0.51\", \"Pitches: 50<br>Views: 19<br>V2P: 0.38\", \"Pitches: 42<br>Views: 17<br>V2P: 0.4\", \"Pitches: 29<br>Views: 13<br>V2P: 0.45\", \"Pitches: 17<br>Views: 15<br>V2P: 0.88\"], [\"Pitches: 66<br>Views: 41<br>V2P: 0.62\", \"Pitches: 49<br>Views: 29<br>V2P: 0.59\", \"Pitches: 42<br>Views: 22<br>V2P: 0.52\", \"Pitches: 27<br>Views: 18<br>V2P: 0.67\", \"Pitches: 17<br>Views: 16<br>V2P: 0.94\"], [\"Pitches: 63<br>Views: 31<br>V2P: 0.49\", \"Pitches: 48<br>Views: 18<br>V2P: 0.38\", \"Pitches: 42<br>Views: 29<br>V2P: 0.69\", \"Pitches: 27<br>Views: 9<br>V2P: 0.33\", \"Pitches: 16<br>Views: 16<br>V2P: 1.0\"], [\"Pitches: 63<br>Views: 27<br>V2P: 0.43\", \"Pitches: 48<br>Views: 26<br>V2P: 0.54\", \"Pitches: 39<br>Views: 16<br>V2P: 0.41\", \"Pitches: 27<br>Views: 20<br>V2P: 0.74\", \"Pitches: 16<br>Views: 6<br>V2P: 0.38\"], [\"Pitches: 62<br>Views: 27<br>V2P: 0.44\", \"Pitches: 48<br>Views: 26<br>V2P: 0.54\", \"Pitches: 39<br>Views: 23<br>V2P: 0.59\", \"Pitches: 27<br>Views: 15<br>V2P: 0.56\", \"Pitches: 16<br>Views: 6<br>V2P: 0.38\"], [\"Pitches: 62<br>Views: 21<br>V2P: 0.34\", \"Pitches: 48<br>Views: 32<br>V2P: 0.67\", \"Pitches: 39<br>Views: 23<br>V2P: 0.59\", \"Pitches: 26<br>Views: 18<br>V2P: 0.69\", \"Pitches: 15<br>Views: 8<br>V2P: 0.53\"], [\"Pitches: 62<br>Views: 29<br>V2P: 0.47\", \"Pitches: 47<br>Views: 21<br>V2P: 0.45\", \"Pitches: 37<br>Views: 29<br>V2P: 0.78\", \"Pitches: 26<br>Views: 18<br>V2P: 0.69\", \"Pitches: 15<br>Views: 9<br>V2P: 0.6\"], [\"Pitches: 61<br>Views: 26<br>V2P: 0.43\", \"Pitches: 47<br>Views: 21<br>V2P: 0.45\", \"Pitches: 37<br>Views: 18<br>V2P: 0.49\", \"Pitches: 26<br>Views: 15<br>V2P: 0.58\", \"Pitches: 15<br>Views: 8<br>V2P: 0.53\"]], \"x\": [\"Prospect\", \"MQL\", \"SQL\", \"Opportunity\", \"Closed Won\"], \"xgap\": 1, \"y\": [1, 2, 3, 4, 5, 6, 7, 8, 9, 10], \"ygap\": 1, \"z\": [[0.4626865671641791, 0.5789473684210527, 0.4523809523809524, 0.5, 0.5], [0.582089552238806, 0.5384615384615384, 0.6666666666666666, 0.6666666666666666, 0.3333333333333333], [0.5074626865671642, 0.38, 0.40476190476190477, 0.4482758620689655, 0.8823529411764706], [0.6212121212121212, 0.5918367346938775, 0.5238095238095238, 0.6666666666666666, 0.9411764705882353], [0.49206349206349204, 0.375, 0.6904761904761905, 0.3333333333333333, 1.0], [0.42857142857142855, 0.5416666666666666, 0.41025641025641024, 0.7407407407407407, 0.375], [0.43548387096774194, 0.5416666666666666, 0.5897435897435898, 0.5555555555555556, 0.375], [0.3387096774193548, 0.6666666666666666, 0.5897435897435898, 0.6923076923076923, 0.5333333333333333], [0.46774193548387094, 0.44680851063829785, 0.7837837837837838, 0.6923076923076923, 0.6], [0.4262295081967213, 0.44680851063829785, 0.4864864864864865, 0.5769230769230769, 0.5333333333333333]], \"zmax\": 1, \"zmin\": 0, \"type\": \"heatmap\", \"uid\": \"d61e4d0a-5bde-45fe-9aa7-329439a2d9fb\"}], {\"annotations\": [{\"font\": {\"color\": \"black\"}, \"showarrow\": false, \"text\": \"Item85\", \"x\": \"Prospect\", \"xref\": \"x\", \"y\": 1, \"yref\": \"y\"}, {\"font\": {\"color\": \"black\"}, \"showarrow\": false, \"text\": \"Item94\", \"x\": \"MQL\", \"xref\": \"x\", \"y\": 1, \"yref\": \"y\"}, {\"font\": {\"color\": \"black\"}, \"showarrow\": false, \"text\": \"Item91\", \"x\": \"SQL\", \"xref\": \"x\", \"y\": 1, \"yref\": \"y\"}, {\"font\": {\"color\": \"black\"}, \"showarrow\": false, \"text\": \"Item64\", \"x\": \"Opportunity\", \"xref\": \"x\", \"y\": 1, \"yref\": \"y\"}, {\"font\": {\"color\": \"black\"}, \"showarrow\": false, \"text\": \"Item13\", \"x\": \"Closed Won\", \"xref\": \"x\", \"y\": 1, \"yref\": \"y\"}, {\"font\": {\"color\": \"black\"}, \"showarrow\": false, \"text\": \"Item45\", \"x\": \"Prospect\", \"xref\": \"x\", \"y\": 2, \"yref\": \"y\"}, {\"font\": {\"color\": \"black\"}, \"showarrow\": false, \"text\": \"Item74\", \"x\": \"MQL\", \"xref\": \"x\", \"y\": 2, \"yref\": \"y\"}, {\"font\": {\"color\": \"black\"}, \"showarrow\": false, \"text\": \"Item3\", \"x\": \"SQL\", \"xref\": \"x\", \"y\": 2, \"yref\": \"y\"}, {\"font\": {\"color\": \"black\"}, \"showarrow\": false, \"text\": \"Item70\", \"x\": \"Opportunity\", \"xref\": \"x\", \"y\": 2, \"yref\": \"y\"}, {\"font\": {\"color\": \"black\"}, \"showarrow\": false, \"text\": \"Item38\", \"x\": \"Closed Won\", \"xref\": \"x\", \"y\": 2, \"yref\": \"y\"}, {\"font\": {\"color\": \"black\"}, \"showarrow\": false, \"text\": \"Item58\", \"x\": \"Prospect\", \"xref\": \"x\", \"y\": 3, \"yref\": \"y\"}, {\"font\": {\"color\": \"black\"}, \"showarrow\": false, \"text\": \"Item78\", \"x\": \"MQL\", \"xref\": \"x\", \"y\": 3, \"yref\": \"y\"}, {\"font\": {\"color\": \"black\"}, \"showarrow\": false, \"text\": \"Item35\", \"x\": \"SQL\", \"xref\": \"x\", \"y\": 3, \"yref\": \"y\"}, {\"font\": {\"color\": \"black\"}, \"showarrow\": false, \"text\": \"Item61\", \"x\": \"Opportunity\", \"xref\": \"x\", \"y\": 3, \"yref\": \"y\"}, {\"font\": {\"color\": \"black\"}, \"showarrow\": false, \"text\": \"Item85\", \"x\": \"Closed Won\", \"xref\": \"x\", \"y\": 3, \"yref\": \"y\"}, {\"font\": {\"color\": \"black\"}, \"showarrow\": false, \"text\": \"Item95\", \"x\": \"Prospect\", \"xref\": \"x\", \"y\": 4, \"yref\": \"y\"}, {\"font\": {\"color\": \"black\"}, \"showarrow\": false, \"text\": \"Item0\", \"x\": \"MQL\", \"xref\": \"x\", \"y\": 4, \"yref\": \"y\"}, {\"font\": {\"color\": \"black\"}, \"showarrow\": false, \"text\": \"Item84\", \"x\": \"SQL\", \"xref\": \"x\", \"y\": 4, \"yref\": \"y\"}, {\"font\": {\"color\": \"black\"}, \"showarrow\": false, \"text\": \"Item7\", \"x\": \"Opportunity\", \"xref\": \"x\", \"y\": 4, \"yref\": \"y\"}, {\"font\": {\"color\": \"black\"}, \"showarrow\": false, \"text\": \"Item44\", \"x\": \"Closed Won\", \"xref\": \"x\", \"y\": 4, \"yref\": \"y\"}, {\"font\": {\"color\": \"black\"}, \"showarrow\": false, \"text\": \"Item97\", \"x\": \"Prospect\", \"xref\": \"x\", \"y\": 5, \"yref\": \"y\"}, {\"font\": {\"color\": \"black\"}, \"showarrow\": false, \"text\": \"Item59\", \"x\": \"MQL\", \"xref\": \"x\", \"y\": 5, \"yref\": \"y\"}, {\"font\": {\"color\": \"black\"}, \"showarrow\": false, \"text\": \"Item87\", \"x\": \"SQL\", \"xref\": \"x\", \"y\": 5, \"yref\": \"y\"}, {\"font\": {\"color\": \"black\"}, \"showarrow\": false, \"text\": \"Item23\", \"x\": \"Opportunity\", \"xref\": \"x\", \"y\": 5, \"yref\": \"y\"}, {\"font\": {\"color\": \"black\"}, \"showarrow\": false, \"text\": \"Item66\", \"x\": \"Closed Won\", \"xref\": \"x\", \"y\": 5, \"yref\": \"y\"}, {\"font\": {\"color\": \"black\"}, \"showarrow\": false, \"text\": \"Item10\", \"x\": \"Prospect\", \"xref\": \"x\", \"y\": 6, \"yref\": \"y\"}, {\"font\": {\"color\": \"black\"}, \"showarrow\": false, \"text\": \"Item38\", \"x\": \"MQL\", \"xref\": \"x\", \"y\": 6, \"yref\": \"y\"}, {\"font\": {\"color\": \"black\"}, \"showarrow\": false, \"text\": \"Item89\", \"x\": \"SQL\", \"xref\": \"x\", \"y\": 6, \"yref\": \"y\"}, {\"font\": {\"color\": \"black\"}, \"showarrow\": false, \"text\": \"Item0\", \"x\": \"Opportunity\", \"xref\": \"x\", \"y\": 6, \"yref\": \"y\"}, {\"font\": {\"color\": \"black\"}, \"showarrow\": false, \"text\": \"Item70\", \"x\": \"Closed Won\", \"xref\": \"x\", \"y\": 6, \"yref\": \"y\"}, {\"font\": {\"color\": \"black\"}, \"showarrow\": false, \"text\": \"Item30\", \"x\": \"Prospect\", \"xref\": \"x\", \"y\": 7, \"yref\": \"y\"}, {\"font\": {\"color\": \"black\"}, \"showarrow\": false, \"text\": \"Item21\", \"x\": \"MQL\", \"xref\": \"x\", \"y\": 7, \"yref\": \"y\"}, {\"font\": {\"color\": \"black\"}, \"showarrow\": false, \"text\": \"Item61\", \"x\": \"SQL\", \"xref\": \"x\", \"y\": 7, \"yref\": \"y\"}, {\"font\": {\"color\": \"black\"}, \"showarrow\": false, \"text\": \"Item89\", \"x\": \"Opportunity\", \"xref\": \"x\", \"y\": 7, \"yref\": \"y\"}, {\"font\": {\"color\": \"black\"}, \"showarrow\": false, \"text\": \"Item15\", \"x\": \"Closed Won\", \"xref\": \"x\", \"y\": 7, \"yref\": \"y\"}, {\"font\": {\"color\": \"black\"}, \"showarrow\": false, \"text\": \"Item66\", \"x\": \"Prospect\", \"xref\": \"x\", \"y\": 8, \"yref\": \"y\"}, {\"font\": {\"color\": \"black\"}, \"showarrow\": false, \"text\": \"Item18\", \"x\": \"MQL\", \"xref\": \"x\", \"y\": 8, \"yref\": \"y\"}, {\"font\": {\"color\": \"black\"}, \"showarrow\": false, \"text\": \"Item24\", \"x\": \"SQL\", \"xref\": \"x\", \"y\": 8, \"yref\": \"y\"}, {\"font\": {\"color\": \"black\"}, \"showarrow\": false, \"text\": \"Item86\", \"x\": \"Opportunity\", \"xref\": \"x\", \"y\": 8, \"yref\": \"y\"}, {\"font\": {\"color\": \"black\"}, \"showarrow\": false, \"text\": \"Item50\", \"x\": \"Closed Won\", \"xref\": \"x\", \"y\": 8, \"yref\": \"y\"}, {\"font\": {\"color\": \"black\"}, \"showarrow\": false, \"text\": \"Item90\", \"x\": \"Prospect\", \"xref\": \"x\", \"y\": 9, \"yref\": \"y\"}, {\"font\": {\"color\": \"black\"}, \"showarrow\": false, \"text\": \"Item71\", \"x\": \"MQL\", \"xref\": \"x\", \"y\": 9, \"yref\": \"y\"}, {\"font\": {\"color\": \"black\"}, \"showarrow\": false, \"text\": \"Item46\", \"x\": \"SQL\", \"xref\": \"x\", \"y\": 9, \"yref\": \"y\"}, {\"font\": {\"color\": \"black\"}, \"showarrow\": false, \"text\": \"Item9\", \"x\": \"Opportunity\", \"xref\": \"x\", \"y\": 9, \"yref\": \"y\"}, {\"font\": {\"color\": \"black\"}, \"showarrow\": false, \"text\": \"Item49\", \"x\": \"Closed Won\", \"xref\": \"x\", \"y\": 9, \"yref\": \"y\"}, {\"font\": {\"color\": \"black\"}, \"showarrow\": false, \"text\": \"Item42\", \"x\": \"Prospect\", \"xref\": \"x\", \"y\": 10, \"yref\": \"y\"}, {\"font\": {\"color\": \"black\"}, \"showarrow\": false, \"text\": \"Item25\", \"x\": \"MQL\", \"xref\": \"x\", \"y\": 10, \"yref\": \"y\"}, {\"font\": {\"color\": \"black\"}, \"showarrow\": false, \"text\": \"Item77\", \"x\": \"SQL\", \"xref\": \"x\", \"y\": 10, \"yref\": \"y\"}, {\"font\": {\"color\": \"black\"}, \"showarrow\": false, \"text\": \"Item84\", \"x\": \"Opportunity\", \"xref\": \"x\", \"y\": 10, \"yref\": \"y\"}, {\"font\": {\"color\": \"black\"}, \"showarrow\": false, \"text\": \"Item46\", \"x\": \"Closed Won\", \"xref\": \"x\", \"y\": 10, \"yref\": \"y\"}], \"xaxis\": {\"dtick\": 1, \"gridcolor\": \"rgb(0, 0, 0)\", \"side\": \"top\", \"ticks\": \"\", \"showgrid\": false, \"showline\": false, \"zeroline\": false}, \"yaxis\": {\"dtick\": 1, \"ticks\": \"\", \"ticksuffix\": \"  \", \"showgrid\": false, \"showline\": false, \"zeroline\": false, \"autorange\": \"reversed\", \"title\": {\"text\": \"Most pitched items\"}}, \"title\": {\"text\": \"Content Heat Map\"}, \"height\": 600, \"width\": 1000}, {\"showLink\": false, \"linkText\": \"Export to plot.ly\", \"plotlyServerURL\": \"https://plot.ly\"}); \n",
       "}\n",
       "});</script>"
      ],
      "text/vnd.plotly.v1+html": [
       "<div id=\"487655a1-f081-4588-922e-b39376fd0e55\" style=\"height: 600px; width: 1000px;\" class=\"plotly-graph-div\"></div><script type=\"text/javascript\">require([\"plotly\"], function(Plotly) { window.PLOTLYENV=window.PLOTLYENV || {};window.PLOTLYENV.BASE_URL=\"https://plot.ly\";\n",
       "if (document.getElementById(\"487655a1-f081-4588-922e-b39376fd0e55\")) {\n",
       "    Plotly.newPlot(\"487655a1-f081-4588-922e-b39376fd0e55\", [{\"colorscale\": [[0, \"#0f7f3f\"], [0.5, \"#ffff0f\"], [1, \"#bf0f0f\"]], \"hoverinfo\": \"text\", \"reversescale\": false, \"showscale\": true, \"text\": [[\"Pitches: 67<br>Views: 31<br>V2P: 0.46\", \"Pitches: 57<br>Views: 33<br>V2P: 0.58\", \"Pitches: 42<br>Views: 19<br>V2P: 0.45\", \"Pitches: 30<br>Views: 15<br>V2P: 0.5\", \"Pitches: 20<br>Views: 10<br>V2P: 0.5\"], [\"Pitches: 67<br>Views: 39<br>V2P: 0.58\", \"Pitches: 52<br>Views: 28<br>V2P: 0.54\", \"Pitches: 42<br>Views: 28<br>V2P: 0.67\", \"Pitches: 30<br>Views: 20<br>V2P: 0.67\", \"Pitches: 18<br>Views: 6<br>V2P: 0.33\"], [\"Pitches: 67<br>Views: 34<br>V2P: 0.51\", \"Pitches: 50<br>Views: 19<br>V2P: 0.38\", \"Pitches: 42<br>Views: 17<br>V2P: 0.4\", \"Pitches: 29<br>Views: 13<br>V2P: 0.45\", \"Pitches: 17<br>Views: 15<br>V2P: 0.88\"], [\"Pitches: 66<br>Views: 41<br>V2P: 0.62\", \"Pitches: 49<br>Views: 29<br>V2P: 0.59\", \"Pitches: 42<br>Views: 22<br>V2P: 0.52\", \"Pitches: 27<br>Views: 18<br>V2P: 0.67\", \"Pitches: 17<br>Views: 16<br>V2P: 0.94\"], [\"Pitches: 63<br>Views: 31<br>V2P: 0.49\", \"Pitches: 48<br>Views: 18<br>V2P: 0.38\", \"Pitches: 42<br>Views: 29<br>V2P: 0.69\", \"Pitches: 27<br>Views: 9<br>V2P: 0.33\", \"Pitches: 16<br>Views: 16<br>V2P: 1.0\"], [\"Pitches: 63<br>Views: 27<br>V2P: 0.43\", \"Pitches: 48<br>Views: 26<br>V2P: 0.54\", \"Pitches: 39<br>Views: 16<br>V2P: 0.41\", \"Pitches: 27<br>Views: 20<br>V2P: 0.74\", \"Pitches: 16<br>Views: 6<br>V2P: 0.38\"], [\"Pitches: 62<br>Views: 27<br>V2P: 0.44\", \"Pitches: 48<br>Views: 26<br>V2P: 0.54\", \"Pitches: 39<br>Views: 23<br>V2P: 0.59\", \"Pitches: 27<br>Views: 15<br>V2P: 0.56\", \"Pitches: 16<br>Views: 6<br>V2P: 0.38\"], [\"Pitches: 62<br>Views: 21<br>V2P: 0.34\", \"Pitches: 48<br>Views: 32<br>V2P: 0.67\", \"Pitches: 39<br>Views: 23<br>V2P: 0.59\", \"Pitches: 26<br>Views: 18<br>V2P: 0.69\", \"Pitches: 15<br>Views: 8<br>V2P: 0.53\"], [\"Pitches: 62<br>Views: 29<br>V2P: 0.47\", \"Pitches: 47<br>Views: 21<br>V2P: 0.45\", \"Pitches: 37<br>Views: 29<br>V2P: 0.78\", \"Pitches: 26<br>Views: 18<br>V2P: 0.69\", \"Pitches: 15<br>Views: 9<br>V2P: 0.6\"], [\"Pitches: 61<br>Views: 26<br>V2P: 0.43\", \"Pitches: 47<br>Views: 21<br>V2P: 0.45\", \"Pitches: 37<br>Views: 18<br>V2P: 0.49\", \"Pitches: 26<br>Views: 15<br>V2P: 0.58\", \"Pitches: 15<br>Views: 8<br>V2P: 0.53\"]], \"x\": [\"Prospect\", \"MQL\", \"SQL\", \"Opportunity\", \"Closed Won\"], \"xgap\": 1, \"y\": [1, 2, 3, 4, 5, 6, 7, 8, 9, 10], \"ygap\": 1, \"z\": [[0.4626865671641791, 0.5789473684210527, 0.4523809523809524, 0.5, 0.5], [0.582089552238806, 0.5384615384615384, 0.6666666666666666, 0.6666666666666666, 0.3333333333333333], [0.5074626865671642, 0.38, 0.40476190476190477, 0.4482758620689655, 0.8823529411764706], [0.6212121212121212, 0.5918367346938775, 0.5238095238095238, 0.6666666666666666, 0.9411764705882353], [0.49206349206349204, 0.375, 0.6904761904761905, 0.3333333333333333, 1.0], [0.42857142857142855, 0.5416666666666666, 0.41025641025641024, 0.7407407407407407, 0.375], [0.43548387096774194, 0.5416666666666666, 0.5897435897435898, 0.5555555555555556, 0.375], [0.3387096774193548, 0.6666666666666666, 0.5897435897435898, 0.6923076923076923, 0.5333333333333333], [0.46774193548387094, 0.44680851063829785, 0.7837837837837838, 0.6923076923076923, 0.6], [0.4262295081967213, 0.44680851063829785, 0.4864864864864865, 0.5769230769230769, 0.5333333333333333]], \"zmax\": 1, \"zmin\": 0, \"type\": \"heatmap\", \"uid\": \"d61e4d0a-5bde-45fe-9aa7-329439a2d9fb\"}], {\"annotations\": [{\"font\": {\"color\": \"black\"}, \"showarrow\": false, \"text\": \"Item85\", \"x\": \"Prospect\", \"xref\": \"x\", \"y\": 1, \"yref\": \"y\"}, {\"font\": {\"color\": \"black\"}, \"showarrow\": false, \"text\": \"Item94\", \"x\": \"MQL\", \"xref\": \"x\", \"y\": 1, \"yref\": \"y\"}, {\"font\": {\"color\": \"black\"}, \"showarrow\": false, \"text\": \"Item91\", \"x\": \"SQL\", \"xref\": \"x\", \"y\": 1, \"yref\": \"y\"}, {\"font\": {\"color\": \"black\"}, \"showarrow\": false, \"text\": \"Item64\", \"x\": \"Opportunity\", \"xref\": \"x\", \"y\": 1, \"yref\": \"y\"}, {\"font\": {\"color\": \"black\"}, \"showarrow\": false, \"text\": \"Item13\", \"x\": \"Closed Won\", \"xref\": \"x\", \"y\": 1, \"yref\": \"y\"}, {\"font\": {\"color\": \"black\"}, \"showarrow\": false, \"text\": \"Item45\", \"x\": \"Prospect\", \"xref\": \"x\", \"y\": 2, \"yref\": \"y\"}, {\"font\": {\"color\": \"black\"}, \"showarrow\": false, \"text\": \"Item74\", \"x\": \"MQL\", \"xref\": \"x\", \"y\": 2, \"yref\": \"y\"}, {\"font\": {\"color\": \"black\"}, \"showarrow\": false, \"text\": \"Item3\", \"x\": \"SQL\", \"xref\": \"x\", \"y\": 2, \"yref\": \"y\"}, {\"font\": {\"color\": \"black\"}, \"showarrow\": false, \"text\": \"Item70\", \"x\": \"Opportunity\", \"xref\": \"x\", \"y\": 2, \"yref\": \"y\"}, {\"font\": {\"color\": \"black\"}, \"showarrow\": false, \"text\": \"Item38\", \"x\": \"Closed Won\", \"xref\": \"x\", \"y\": 2, \"yref\": \"y\"}, {\"font\": {\"color\": \"black\"}, \"showarrow\": false, \"text\": \"Item58\", \"x\": \"Prospect\", \"xref\": \"x\", \"y\": 3, \"yref\": \"y\"}, {\"font\": {\"color\": \"black\"}, \"showarrow\": false, \"text\": \"Item78\", \"x\": \"MQL\", \"xref\": \"x\", \"y\": 3, \"yref\": \"y\"}, {\"font\": {\"color\": \"black\"}, \"showarrow\": false, \"text\": \"Item35\", \"x\": \"SQL\", \"xref\": \"x\", \"y\": 3, \"yref\": \"y\"}, {\"font\": {\"color\": \"black\"}, \"showarrow\": false, \"text\": \"Item61\", \"x\": \"Opportunity\", \"xref\": \"x\", \"y\": 3, \"yref\": \"y\"}, {\"font\": {\"color\": \"black\"}, \"showarrow\": false, \"text\": \"Item85\", \"x\": \"Closed Won\", \"xref\": \"x\", \"y\": 3, \"yref\": \"y\"}, {\"font\": {\"color\": \"black\"}, \"showarrow\": false, \"text\": \"Item95\", \"x\": \"Prospect\", \"xref\": \"x\", \"y\": 4, \"yref\": \"y\"}, {\"font\": {\"color\": \"black\"}, \"showarrow\": false, \"text\": \"Item0\", \"x\": \"MQL\", \"xref\": \"x\", \"y\": 4, \"yref\": \"y\"}, {\"font\": {\"color\": \"black\"}, \"showarrow\": false, \"text\": \"Item84\", \"x\": \"SQL\", \"xref\": \"x\", \"y\": 4, \"yref\": \"y\"}, {\"font\": {\"color\": \"black\"}, \"showarrow\": false, \"text\": \"Item7\", \"x\": \"Opportunity\", \"xref\": \"x\", \"y\": 4, \"yref\": \"y\"}, {\"font\": {\"color\": \"black\"}, \"showarrow\": false, \"text\": \"Item44\", \"x\": \"Closed Won\", \"xref\": \"x\", \"y\": 4, \"yref\": \"y\"}, {\"font\": {\"color\": \"black\"}, \"showarrow\": false, \"text\": \"Item97\", \"x\": \"Prospect\", \"xref\": \"x\", \"y\": 5, \"yref\": \"y\"}, {\"font\": {\"color\": \"black\"}, \"showarrow\": false, \"text\": \"Item59\", \"x\": \"MQL\", \"xref\": \"x\", \"y\": 5, \"yref\": \"y\"}, {\"font\": {\"color\": \"black\"}, \"showarrow\": false, \"text\": \"Item87\", \"x\": \"SQL\", \"xref\": \"x\", \"y\": 5, \"yref\": \"y\"}, {\"font\": {\"color\": \"black\"}, \"showarrow\": false, \"text\": \"Item23\", \"x\": \"Opportunity\", \"xref\": \"x\", \"y\": 5, \"yref\": \"y\"}, {\"font\": {\"color\": \"black\"}, \"showarrow\": false, \"text\": \"Item66\", \"x\": \"Closed Won\", \"xref\": \"x\", \"y\": 5, \"yref\": \"y\"}, {\"font\": {\"color\": \"black\"}, \"showarrow\": false, \"text\": \"Item10\", \"x\": \"Prospect\", \"xref\": \"x\", \"y\": 6, \"yref\": \"y\"}, {\"font\": {\"color\": \"black\"}, \"showarrow\": false, \"text\": \"Item38\", \"x\": \"MQL\", \"xref\": \"x\", \"y\": 6, \"yref\": \"y\"}, {\"font\": {\"color\": \"black\"}, \"showarrow\": false, \"text\": \"Item89\", \"x\": \"SQL\", \"xref\": \"x\", \"y\": 6, \"yref\": \"y\"}, {\"font\": {\"color\": \"black\"}, \"showarrow\": false, \"text\": \"Item0\", \"x\": \"Opportunity\", \"xref\": \"x\", \"y\": 6, \"yref\": \"y\"}, {\"font\": {\"color\": \"black\"}, \"showarrow\": false, \"text\": \"Item70\", \"x\": \"Closed Won\", \"xref\": \"x\", \"y\": 6, \"yref\": \"y\"}, {\"font\": {\"color\": \"black\"}, \"showarrow\": false, \"text\": \"Item30\", \"x\": \"Prospect\", \"xref\": \"x\", \"y\": 7, \"yref\": \"y\"}, {\"font\": {\"color\": \"black\"}, \"showarrow\": false, \"text\": \"Item21\", \"x\": \"MQL\", \"xref\": \"x\", \"y\": 7, \"yref\": \"y\"}, {\"font\": {\"color\": \"black\"}, \"showarrow\": false, \"text\": \"Item61\", \"x\": \"SQL\", \"xref\": \"x\", \"y\": 7, \"yref\": \"y\"}, {\"font\": {\"color\": \"black\"}, \"showarrow\": false, \"text\": \"Item89\", \"x\": \"Opportunity\", \"xref\": \"x\", \"y\": 7, \"yref\": \"y\"}, {\"font\": {\"color\": \"black\"}, \"showarrow\": false, \"text\": \"Item15\", \"x\": \"Closed Won\", \"xref\": \"x\", \"y\": 7, \"yref\": \"y\"}, {\"font\": {\"color\": \"black\"}, \"showarrow\": false, \"text\": \"Item66\", \"x\": \"Prospect\", \"xref\": \"x\", \"y\": 8, \"yref\": \"y\"}, {\"font\": {\"color\": \"black\"}, \"showarrow\": false, \"text\": \"Item18\", \"x\": \"MQL\", \"xref\": \"x\", \"y\": 8, \"yref\": \"y\"}, {\"font\": {\"color\": \"black\"}, \"showarrow\": false, \"text\": \"Item24\", \"x\": \"SQL\", \"xref\": \"x\", \"y\": 8, \"yref\": \"y\"}, {\"font\": {\"color\": \"black\"}, \"showarrow\": false, \"text\": \"Item86\", \"x\": \"Opportunity\", \"xref\": \"x\", \"y\": 8, \"yref\": \"y\"}, {\"font\": {\"color\": \"black\"}, \"showarrow\": false, \"text\": \"Item50\", \"x\": \"Closed Won\", \"xref\": \"x\", \"y\": 8, \"yref\": \"y\"}, {\"font\": {\"color\": \"black\"}, \"showarrow\": false, \"text\": \"Item90\", \"x\": \"Prospect\", \"xref\": \"x\", \"y\": 9, \"yref\": \"y\"}, {\"font\": {\"color\": \"black\"}, \"showarrow\": false, \"text\": \"Item71\", \"x\": \"MQL\", \"xref\": \"x\", \"y\": 9, \"yref\": \"y\"}, {\"font\": {\"color\": \"black\"}, \"showarrow\": false, \"text\": \"Item46\", \"x\": \"SQL\", \"xref\": \"x\", \"y\": 9, \"yref\": \"y\"}, {\"font\": {\"color\": \"black\"}, \"showarrow\": false, \"text\": \"Item9\", \"x\": \"Opportunity\", \"xref\": \"x\", \"y\": 9, \"yref\": \"y\"}, {\"font\": {\"color\": \"black\"}, \"showarrow\": false, \"text\": \"Item49\", \"x\": \"Closed Won\", \"xref\": \"x\", \"y\": 9, \"yref\": \"y\"}, {\"font\": {\"color\": \"black\"}, \"showarrow\": false, \"text\": \"Item42\", \"x\": \"Prospect\", \"xref\": \"x\", \"y\": 10, \"yref\": \"y\"}, {\"font\": {\"color\": \"black\"}, \"showarrow\": false, \"text\": \"Item25\", \"x\": \"MQL\", \"xref\": \"x\", \"y\": 10, \"yref\": \"y\"}, {\"font\": {\"color\": \"black\"}, \"showarrow\": false, \"text\": \"Item77\", \"x\": \"SQL\", \"xref\": \"x\", \"y\": 10, \"yref\": \"y\"}, {\"font\": {\"color\": \"black\"}, \"showarrow\": false, \"text\": \"Item84\", \"x\": \"Opportunity\", \"xref\": \"x\", \"y\": 10, \"yref\": \"y\"}, {\"font\": {\"color\": \"black\"}, \"showarrow\": false, \"text\": \"Item46\", \"x\": \"Closed Won\", \"xref\": \"x\", \"y\": 10, \"yref\": \"y\"}], \"xaxis\": {\"dtick\": 1, \"gridcolor\": \"rgb(0, 0, 0)\", \"side\": \"top\", \"ticks\": \"\", \"showgrid\": false, \"showline\": false, \"zeroline\": false}, \"yaxis\": {\"dtick\": 1, \"ticks\": \"\", \"ticksuffix\": \"  \", \"showgrid\": false, \"showline\": false, \"zeroline\": false, \"autorange\": \"reversed\", \"title\": {\"text\": \"Most pitched items\"}}, \"title\": {\"text\": \"Content Heat Map\"}, \"height\": 600, \"width\": 1000}, {\"showLink\": false, \"linkText\": \"Export to plot.ly\", \"plotlyServerURL\": \"https://plot.ly\"}); \n",
       "}\n",
       "});</script>"
      ]
     },
     "metadata": {},
     "output_type": "display_data"
    }
   ],
   "source": [
    "# Create the content heatmap\n",
    "\n",
    "# Display pitch count, view count, and view-to-pitch ratio on hover\n",
    "hover = list(range(len(symbol)))\n",
    "for x in range(len(symbol)):\n",
    "    hover[x] = ['Pitches: ' + str(int(i)) + '<br>' + 'Views: ' + str(int(j)) + '<br>' + 'V2P: ' + str(round(k, 2))\n",
    "                for i, j, k in zip(top_pitched_pitches[x], top_pitched_views[x], top_pitched_v2p[x])]\n",
    "\n",
    "# # Invert Matrices\n",
    "# symbol = symbol[::-1]\n",
    "# hover = hover[::-1]\n",
    "# z = z[::-1]\n",
    "\n",
    "# set colorscale\n",
    "\n",
    "colorscale = [[0, '#0f7f3f'],  # green\n",
    "              [0.5, '#ffff0f'],  # yellow\n",
    "              [1, '#bf0f0f']]  # red\n",
    "\n",
    "# Make Annotated Heatmap\n",
    "pt = ff.create_annotated_heatmap(z=top_pitched_v2p,\n",
    "                                 zmin=0,\n",
    "                                 zmax=1,\n",
    "                                 x=stages,\n",
    "                                 y=[i for i in np.arange(1, 11)],\n",
    "                                 xgap=1,\n",
    "                                 ygap=1,\n",
    "                                 annotation_text=top_pitched_names,\n",
    "                                 text=hover,\n",
    "                                 colorscale=colorscale,\n",
    "                                 font_colors=['black'],\n",
    "                                 showscale=True,\n",
    "                                 hoverinfo='text')\n",
    "\n",
    "pt.layout.title = 'Content Heat Map'\n",
    "\n",
    "pt.layout.height = 600\n",
    "pt.layout.width = 1000\n",
    "\n",
    "pt.layout.xaxis.showgrid = False\n",
    "pt.layout.yaxis.showgrid = False\n",
    "pt.layout.xaxis.showline = False\n",
    "pt.layout.yaxis.showline = False\n",
    "pt.layout.xaxis.zeroline = False\n",
    "pt.layout.yaxis.zeroline = False\n",
    "pt.layout.yaxis.autorange = 'reversed'\n",
    "pt.layout.yaxis.title = 'Most pitched items'\n",
    "\n",
    "\n",
    "iplot(pt)"
   ]
  },
  {
   "cell_type": "code",
   "execution_count": null,
   "metadata": {},
   "outputs": [],
   "source": []
  }
 ],
 "metadata": {
  "kernelspec": {
   "display_name": "Python 3",
   "language": "python",
   "name": "python3"
  },
  "language_info": {
   "codemirror_mode": {
    "name": "ipython",
    "version": 3
   },
   "file_extension": ".py",
   "mimetype": "text/x-python",
   "name": "python",
   "nbconvert_exporter": "python",
   "pygments_lexer": "ipython3",
   "version": "3.6.8"
  }
 },
 "nbformat": 4,
 "nbformat_minor": 2
}
